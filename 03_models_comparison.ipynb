{
  "nbformat": 4,
  "nbformat_minor": 0,
  "metadata": {
    "colab": {
      "provenance": [],
      "mount_file_id": "1ZrgYZfElTfGOQMG4qFmFuHCoKXMJ3r9f",
      "authorship_tag": "ABX9TyM7UCtjcRtLjJOZsc6hjNPK",
      "include_colab_link": true
    },
    "kernelspec": {
      "name": "python3",
      "display_name": "Python 3"
    },
    "language_info": {
      "name": "python"
    },
    "widgets": {
      "application/vnd.jupyter.widget-state+json": {
        "132a31ee43664056860f8258063b8768": {
          "model_module": "@jupyter-widgets/controls",
          "model_name": "HBoxModel",
          "model_module_version": "1.5.0",
          "state": {
            "_dom_classes": [],
            "_model_module": "@jupyter-widgets/controls",
            "_model_module_version": "1.5.0",
            "_model_name": "HBoxModel",
            "_view_count": null,
            "_view_module": "@jupyter-widgets/controls",
            "_view_module_version": "1.5.0",
            "_view_name": "HBoxView",
            "box_style": "",
            "children": [
              "IPY_MODEL_6350603efa96424f85bf4590038451cf",
              "IPY_MODEL_ee8d844a0248496dac8ea0d6e3897cc9",
              "IPY_MODEL_5622070b6bb34b458ff65b8988e4208a"
            ],
            "layout": "IPY_MODEL_add3237c31d24cb2b2c2e070406dfa35"
          }
        },
        "6350603efa96424f85bf4590038451cf": {
          "model_module": "@jupyter-widgets/controls",
          "model_name": "HTMLModel",
          "model_module_version": "1.5.0",
          "state": {
            "_dom_classes": [],
            "_model_module": "@jupyter-widgets/controls",
            "_model_module_version": "1.5.0",
            "_model_name": "HTMLModel",
            "_view_count": null,
            "_view_module": "@jupyter-widgets/controls",
            "_view_module_version": "1.5.0",
            "_view_name": "HTMLView",
            "description": "",
            "description_tooltip": null,
            "layout": "IPY_MODEL_727a1e89e3c344d4974cb30bdf8c390d",
            "placeholder": "​",
            "style": "IPY_MODEL_dc8dc221ff514e12a8f1af159f7c7df7",
            "value": "100%"
          }
        },
        "ee8d844a0248496dac8ea0d6e3897cc9": {
          "model_module": "@jupyter-widgets/controls",
          "model_name": "FloatProgressModel",
          "model_module_version": "1.5.0",
          "state": {
            "_dom_classes": [],
            "_model_module": "@jupyter-widgets/controls",
            "_model_module_version": "1.5.0",
            "_model_name": "FloatProgressModel",
            "_view_count": null,
            "_view_module": "@jupyter-widgets/controls",
            "_view_module_version": "1.5.0",
            "_view_name": "ProgressView",
            "bar_style": "success",
            "description": "",
            "description_tooltip": null,
            "layout": "IPY_MODEL_d8eace83e0dd46d4a9cf8c2f3fc5ebc5",
            "max": 36882185,
            "min": 0,
            "orientation": "horizontal",
            "style": "IPY_MODEL_c166b80c176d49b49d13c380a8857c91",
            "value": 36882185
          }
        },
        "5622070b6bb34b458ff65b8988e4208a": {
          "model_module": "@jupyter-widgets/controls",
          "model_name": "HTMLModel",
          "model_module_version": "1.5.0",
          "state": {
            "_dom_classes": [],
            "_model_module": "@jupyter-widgets/controls",
            "_model_module_version": "1.5.0",
            "_model_name": "HTMLModel",
            "_view_count": null,
            "_view_module": "@jupyter-widgets/controls",
            "_view_module_version": "1.5.0",
            "_view_name": "HTMLView",
            "description": "",
            "description_tooltip": null,
            "layout": "IPY_MODEL_64d902c49e3e47f4842da3fd1e45b4bf",
            "placeholder": "​",
            "style": "IPY_MODEL_f8ecd61236514337a16dc3162080edcf",
            "value": " 35.2M/35.2M [00:00&lt;00:00, 121MB/s]"
          }
        },
        "add3237c31d24cb2b2c2e070406dfa35": {
          "model_module": "@jupyter-widgets/base",
          "model_name": "LayoutModel",
          "model_module_version": "1.2.0",
          "state": {
            "_model_module": "@jupyter-widgets/base",
            "_model_module_version": "1.2.0",
            "_model_name": "LayoutModel",
            "_view_count": null,
            "_view_module": "@jupyter-widgets/base",
            "_view_module_version": "1.2.0",
            "_view_name": "LayoutView",
            "align_content": null,
            "align_items": null,
            "align_self": null,
            "border": null,
            "bottom": null,
            "display": null,
            "flex": null,
            "flex_flow": null,
            "grid_area": null,
            "grid_auto_columns": null,
            "grid_auto_flow": null,
            "grid_auto_rows": null,
            "grid_column": null,
            "grid_gap": null,
            "grid_row": null,
            "grid_template_areas": null,
            "grid_template_columns": null,
            "grid_template_rows": null,
            "height": null,
            "justify_content": null,
            "justify_items": null,
            "left": null,
            "margin": null,
            "max_height": null,
            "max_width": null,
            "min_height": null,
            "min_width": null,
            "object_fit": null,
            "object_position": null,
            "order": null,
            "overflow": null,
            "overflow_x": null,
            "overflow_y": null,
            "padding": null,
            "right": null,
            "top": null,
            "visibility": null,
            "width": null
          }
        },
        "727a1e89e3c344d4974cb30bdf8c390d": {
          "model_module": "@jupyter-widgets/base",
          "model_name": "LayoutModel",
          "model_module_version": "1.2.0",
          "state": {
            "_model_module": "@jupyter-widgets/base",
            "_model_module_version": "1.2.0",
            "_model_name": "LayoutModel",
            "_view_count": null,
            "_view_module": "@jupyter-widgets/base",
            "_view_module_version": "1.2.0",
            "_view_name": "LayoutView",
            "align_content": null,
            "align_items": null,
            "align_self": null,
            "border": null,
            "bottom": null,
            "display": null,
            "flex": null,
            "flex_flow": null,
            "grid_area": null,
            "grid_auto_columns": null,
            "grid_auto_flow": null,
            "grid_auto_rows": null,
            "grid_column": null,
            "grid_gap": null,
            "grid_row": null,
            "grid_template_areas": null,
            "grid_template_columns": null,
            "grid_template_rows": null,
            "height": null,
            "justify_content": null,
            "justify_items": null,
            "left": null,
            "margin": null,
            "max_height": null,
            "max_width": null,
            "min_height": null,
            "min_width": null,
            "object_fit": null,
            "object_position": null,
            "order": null,
            "overflow": null,
            "overflow_x": null,
            "overflow_y": null,
            "padding": null,
            "right": null,
            "top": null,
            "visibility": null,
            "width": null
          }
        },
        "dc8dc221ff514e12a8f1af159f7c7df7": {
          "model_module": "@jupyter-widgets/controls",
          "model_name": "DescriptionStyleModel",
          "model_module_version": "1.5.0",
          "state": {
            "_model_module": "@jupyter-widgets/controls",
            "_model_module_version": "1.5.0",
            "_model_name": "DescriptionStyleModel",
            "_view_count": null,
            "_view_module": "@jupyter-widgets/base",
            "_view_module_version": "1.2.0",
            "_view_name": "StyleView",
            "description_width": ""
          }
        },
        "d8eace83e0dd46d4a9cf8c2f3fc5ebc5": {
          "model_module": "@jupyter-widgets/base",
          "model_name": "LayoutModel",
          "model_module_version": "1.2.0",
          "state": {
            "_model_module": "@jupyter-widgets/base",
            "_model_module_version": "1.2.0",
            "_model_name": "LayoutModel",
            "_view_count": null,
            "_view_module": "@jupyter-widgets/base",
            "_view_module_version": "1.2.0",
            "_view_name": "LayoutView",
            "align_content": null,
            "align_items": null,
            "align_self": null,
            "border": null,
            "bottom": null,
            "display": null,
            "flex": null,
            "flex_flow": null,
            "grid_area": null,
            "grid_auto_columns": null,
            "grid_auto_flow": null,
            "grid_auto_rows": null,
            "grid_column": null,
            "grid_gap": null,
            "grid_row": null,
            "grid_template_areas": null,
            "grid_template_columns": null,
            "grid_template_rows": null,
            "height": null,
            "justify_content": null,
            "justify_items": null,
            "left": null,
            "margin": null,
            "max_height": null,
            "max_width": null,
            "min_height": null,
            "min_width": null,
            "object_fit": null,
            "object_position": null,
            "order": null,
            "overflow": null,
            "overflow_x": null,
            "overflow_y": null,
            "padding": null,
            "right": null,
            "top": null,
            "visibility": null,
            "width": null
          }
        },
        "c166b80c176d49b49d13c380a8857c91": {
          "model_module": "@jupyter-widgets/controls",
          "model_name": "ProgressStyleModel",
          "model_module_version": "1.5.0",
          "state": {
            "_model_module": "@jupyter-widgets/controls",
            "_model_module_version": "1.5.0",
            "_model_name": "ProgressStyleModel",
            "_view_count": null,
            "_view_module": "@jupyter-widgets/base",
            "_view_module_version": "1.2.0",
            "_view_name": "StyleView",
            "bar_color": null,
            "description_width": ""
          }
        },
        "64d902c49e3e47f4842da3fd1e45b4bf": {
          "model_module": "@jupyter-widgets/base",
          "model_name": "LayoutModel",
          "model_module_version": "1.2.0",
          "state": {
            "_model_module": "@jupyter-widgets/base",
            "_model_module_version": "1.2.0",
            "_model_name": "LayoutModel",
            "_view_count": null,
            "_view_module": "@jupyter-widgets/base",
            "_view_module_version": "1.2.0",
            "_view_name": "LayoutView",
            "align_content": null,
            "align_items": null,
            "align_self": null,
            "border": null,
            "bottom": null,
            "display": null,
            "flex": null,
            "flex_flow": null,
            "grid_area": null,
            "grid_auto_columns": null,
            "grid_auto_flow": null,
            "grid_auto_rows": null,
            "grid_column": null,
            "grid_gap": null,
            "grid_row": null,
            "grid_template_areas": null,
            "grid_template_columns": null,
            "grid_template_rows": null,
            "height": null,
            "justify_content": null,
            "justify_items": null,
            "left": null,
            "margin": null,
            "max_height": null,
            "max_width": null,
            "min_height": null,
            "min_width": null,
            "object_fit": null,
            "object_position": null,
            "order": null,
            "overflow": null,
            "overflow_x": null,
            "overflow_y": null,
            "padding": null,
            "right": null,
            "top": null,
            "visibility": null,
            "width": null
          }
        },
        "f8ecd61236514337a16dc3162080edcf": {
          "model_module": "@jupyter-widgets/controls",
          "model_name": "DescriptionStyleModel",
          "model_module_version": "1.5.0",
          "state": {
            "_model_module": "@jupyter-widgets/controls",
            "_model_module_version": "1.5.0",
            "_model_name": "DescriptionStyleModel",
            "_view_count": null,
            "_view_module": "@jupyter-widgets/base",
            "_view_module_version": "1.2.0",
            "_view_name": "StyleView",
            "description_width": ""
          }
        },
        "243dc305626c4750b921d91f53b19460": {
          "model_module": "@jupyter-widgets/controls",
          "model_name": "HBoxModel",
          "model_module_version": "1.5.0",
          "state": {
            "_dom_classes": [],
            "_model_module": "@jupyter-widgets/controls",
            "_model_module_version": "1.5.0",
            "_model_name": "HBoxModel",
            "_view_count": null,
            "_view_module": "@jupyter-widgets/controls",
            "_view_module_version": "1.5.0",
            "_view_name": "HBoxView",
            "box_style": "",
            "children": [
              "IPY_MODEL_eb615bf7dd0c4dbc9ecc84365986f663",
              "IPY_MODEL_54013d8c787d4dd2a5d8de7af6d11776",
              "IPY_MODEL_38d0ef3c61064ce397de7e462916299d"
            ],
            "layout": "IPY_MODEL_d9f4cb976def4f86bc2187d626b9a388"
          }
        },
        "eb615bf7dd0c4dbc9ecc84365986f663": {
          "model_module": "@jupyter-widgets/controls",
          "model_name": "HTMLModel",
          "model_module_version": "1.5.0",
          "state": {
            "_dom_classes": [],
            "_model_module": "@jupyter-widgets/controls",
            "_model_module_version": "1.5.0",
            "_model_name": "HTMLModel",
            "_view_count": null,
            "_view_module": "@jupyter-widgets/controls",
            "_view_module_version": "1.5.0",
            "_view_name": "HTMLView",
            "description": "",
            "description_tooltip": null,
            "layout": "IPY_MODEL_82536c46d37042bebe56f13782c3e270",
            "placeholder": "​",
            "style": "IPY_MODEL_7c82250f1ef24392bf7af5c627204a8b",
            "value": "100%"
          }
        },
        "54013d8c787d4dd2a5d8de7af6d11776": {
          "model_module": "@jupyter-widgets/controls",
          "model_name": "FloatProgressModel",
          "model_module_version": "1.5.0",
          "state": {
            "_dom_classes": [],
            "_model_module": "@jupyter-widgets/controls",
            "_model_module_version": "1.5.0",
            "_model_name": "FloatProgressModel",
            "_view_count": null,
            "_view_module": "@jupyter-widgets/controls",
            "_view_module_version": "1.5.0",
            "_view_name": "ProgressView",
            "bar_style": "success",
            "description": "",
            "description_tooltip": null,
            "layout": "IPY_MODEL_c9c8a2c368264fc6a7323b0e4df84cd4",
            "max": 10,
            "min": 0,
            "orientation": "horizontal",
            "style": "IPY_MODEL_8ac8035e59f9435aaed4ea627eb78dc3",
            "value": 10
          }
        },
        "38d0ef3c61064ce397de7e462916299d": {
          "model_module": "@jupyter-widgets/controls",
          "model_name": "HTMLModel",
          "model_module_version": "1.5.0",
          "state": {
            "_dom_classes": [],
            "_model_module": "@jupyter-widgets/controls",
            "_model_module_version": "1.5.0",
            "_model_name": "HTMLModel",
            "_view_count": null,
            "_view_module": "@jupyter-widgets/controls",
            "_view_module_version": "1.5.0",
            "_view_name": "HTMLView",
            "description": "",
            "description_tooltip": null,
            "layout": "IPY_MODEL_38fc5f381f81491cac5ed860cebf81dc",
            "placeholder": "​",
            "style": "IPY_MODEL_57b30c28b0314467a4d89ab7eb49b4e8",
            "value": " 10/10 [06:49&lt;00:00, 40.23s/it]"
          }
        },
        "d9f4cb976def4f86bc2187d626b9a388": {
          "model_module": "@jupyter-widgets/base",
          "model_name": "LayoutModel",
          "model_module_version": "1.2.0",
          "state": {
            "_model_module": "@jupyter-widgets/base",
            "_model_module_version": "1.2.0",
            "_model_name": "LayoutModel",
            "_view_count": null,
            "_view_module": "@jupyter-widgets/base",
            "_view_module_version": "1.2.0",
            "_view_name": "LayoutView",
            "align_content": null,
            "align_items": null,
            "align_self": null,
            "border": null,
            "bottom": null,
            "display": null,
            "flex": null,
            "flex_flow": null,
            "grid_area": null,
            "grid_auto_columns": null,
            "grid_auto_flow": null,
            "grid_auto_rows": null,
            "grid_column": null,
            "grid_gap": null,
            "grid_row": null,
            "grid_template_areas": null,
            "grid_template_columns": null,
            "grid_template_rows": null,
            "height": null,
            "justify_content": null,
            "justify_items": null,
            "left": null,
            "margin": null,
            "max_height": null,
            "max_width": null,
            "min_height": null,
            "min_width": null,
            "object_fit": null,
            "object_position": null,
            "order": null,
            "overflow": null,
            "overflow_x": null,
            "overflow_y": null,
            "padding": null,
            "right": null,
            "top": null,
            "visibility": null,
            "width": null
          }
        },
        "82536c46d37042bebe56f13782c3e270": {
          "model_module": "@jupyter-widgets/base",
          "model_name": "LayoutModel",
          "model_module_version": "1.2.0",
          "state": {
            "_model_module": "@jupyter-widgets/base",
            "_model_module_version": "1.2.0",
            "_model_name": "LayoutModel",
            "_view_count": null,
            "_view_module": "@jupyter-widgets/base",
            "_view_module_version": "1.2.0",
            "_view_name": "LayoutView",
            "align_content": null,
            "align_items": null,
            "align_self": null,
            "border": null,
            "bottom": null,
            "display": null,
            "flex": null,
            "flex_flow": null,
            "grid_area": null,
            "grid_auto_columns": null,
            "grid_auto_flow": null,
            "grid_auto_rows": null,
            "grid_column": null,
            "grid_gap": null,
            "grid_row": null,
            "grid_template_areas": null,
            "grid_template_columns": null,
            "grid_template_rows": null,
            "height": null,
            "justify_content": null,
            "justify_items": null,
            "left": null,
            "margin": null,
            "max_height": null,
            "max_width": null,
            "min_height": null,
            "min_width": null,
            "object_fit": null,
            "object_position": null,
            "order": null,
            "overflow": null,
            "overflow_x": null,
            "overflow_y": null,
            "padding": null,
            "right": null,
            "top": null,
            "visibility": null,
            "width": null
          }
        },
        "7c82250f1ef24392bf7af5c627204a8b": {
          "model_module": "@jupyter-widgets/controls",
          "model_name": "DescriptionStyleModel",
          "model_module_version": "1.5.0",
          "state": {
            "_model_module": "@jupyter-widgets/controls",
            "_model_module_version": "1.5.0",
            "_model_name": "DescriptionStyleModel",
            "_view_count": null,
            "_view_module": "@jupyter-widgets/base",
            "_view_module_version": "1.2.0",
            "_view_name": "StyleView",
            "description_width": ""
          }
        },
        "c9c8a2c368264fc6a7323b0e4df84cd4": {
          "model_module": "@jupyter-widgets/base",
          "model_name": "LayoutModel",
          "model_module_version": "1.2.0",
          "state": {
            "_model_module": "@jupyter-widgets/base",
            "_model_module_version": "1.2.0",
            "_model_name": "LayoutModel",
            "_view_count": null,
            "_view_module": "@jupyter-widgets/base",
            "_view_module_version": "1.2.0",
            "_view_name": "LayoutView",
            "align_content": null,
            "align_items": null,
            "align_self": null,
            "border": null,
            "bottom": null,
            "display": null,
            "flex": null,
            "flex_flow": null,
            "grid_area": null,
            "grid_auto_columns": null,
            "grid_auto_flow": null,
            "grid_auto_rows": null,
            "grid_column": null,
            "grid_gap": null,
            "grid_row": null,
            "grid_template_areas": null,
            "grid_template_columns": null,
            "grid_template_rows": null,
            "height": null,
            "justify_content": null,
            "justify_items": null,
            "left": null,
            "margin": null,
            "max_height": null,
            "max_width": null,
            "min_height": null,
            "min_width": null,
            "object_fit": null,
            "object_position": null,
            "order": null,
            "overflow": null,
            "overflow_x": null,
            "overflow_y": null,
            "padding": null,
            "right": null,
            "top": null,
            "visibility": null,
            "width": null
          }
        },
        "8ac8035e59f9435aaed4ea627eb78dc3": {
          "model_module": "@jupyter-widgets/controls",
          "model_name": "ProgressStyleModel",
          "model_module_version": "1.5.0",
          "state": {
            "_model_module": "@jupyter-widgets/controls",
            "_model_module_version": "1.5.0",
            "_model_name": "ProgressStyleModel",
            "_view_count": null,
            "_view_module": "@jupyter-widgets/base",
            "_view_module_version": "1.2.0",
            "_view_name": "StyleView",
            "bar_color": null,
            "description_width": ""
          }
        },
        "38fc5f381f81491cac5ed860cebf81dc": {
          "model_module": "@jupyter-widgets/base",
          "model_name": "LayoutModel",
          "model_module_version": "1.2.0",
          "state": {
            "_model_module": "@jupyter-widgets/base",
            "_model_module_version": "1.2.0",
            "_model_name": "LayoutModel",
            "_view_count": null,
            "_view_module": "@jupyter-widgets/base",
            "_view_module_version": "1.2.0",
            "_view_name": "LayoutView",
            "align_content": null,
            "align_items": null,
            "align_self": null,
            "border": null,
            "bottom": null,
            "display": null,
            "flex": null,
            "flex_flow": null,
            "grid_area": null,
            "grid_auto_columns": null,
            "grid_auto_flow": null,
            "grid_auto_rows": null,
            "grid_column": null,
            "grid_gap": null,
            "grid_row": null,
            "grid_template_areas": null,
            "grid_template_columns": null,
            "grid_template_rows": null,
            "height": null,
            "justify_content": null,
            "justify_items": null,
            "left": null,
            "margin": null,
            "max_height": null,
            "max_width": null,
            "min_height": null,
            "min_width": null,
            "object_fit": null,
            "object_position": null,
            "order": null,
            "overflow": null,
            "overflow_x": null,
            "overflow_y": null,
            "padding": null,
            "right": null,
            "top": null,
            "visibility": null,
            "width": null
          }
        },
        "57b30c28b0314467a4d89ab7eb49b4e8": {
          "model_module": "@jupyter-widgets/controls",
          "model_name": "DescriptionStyleModel",
          "model_module_version": "1.5.0",
          "state": {
            "_model_module": "@jupyter-widgets/controls",
            "_model_module_version": "1.5.0",
            "_model_name": "DescriptionStyleModel",
            "_view_count": null,
            "_view_module": "@jupyter-widgets/base",
            "_view_module_version": "1.2.0",
            "_view_name": "StyleView",
            "description_width": ""
          }
        },
        "44f6473426194c13bb015a54969652a3": {
          "model_module": "@jupyter-widgets/controls",
          "model_name": "HBoxModel",
          "model_module_version": "1.5.0",
          "state": {
            "_dom_classes": [],
            "_model_module": "@jupyter-widgets/controls",
            "_model_module_version": "1.5.0",
            "_model_name": "HBoxModel",
            "_view_count": null,
            "_view_module": "@jupyter-widgets/controls",
            "_view_module_version": "1.5.0",
            "_view_name": "HBoxView",
            "box_style": "",
            "children": [
              "IPY_MODEL_81ddde58532343799a44a450a87a709d",
              "IPY_MODEL_36d112ce0cec47d6ad522dd997390320",
              "IPY_MODEL_90479d6d9ebf4d96ad748efb0ca33f88"
            ],
            "layout": "IPY_MODEL_be94f9833fda4c9baef2ac71da72c1e0"
          }
        },
        "81ddde58532343799a44a450a87a709d": {
          "model_module": "@jupyter-widgets/controls",
          "model_name": "HTMLModel",
          "model_module_version": "1.5.0",
          "state": {
            "_dom_classes": [],
            "_model_module": "@jupyter-widgets/controls",
            "_model_module_version": "1.5.0",
            "_model_name": "HTMLModel",
            "_view_count": null,
            "_view_module": "@jupyter-widgets/controls",
            "_view_module_version": "1.5.0",
            "_view_name": "HTMLView",
            "description": "",
            "description_tooltip": null,
            "layout": "IPY_MODEL_0b16fb8c4f39410d80ff2df8447e9035",
            "placeholder": "​",
            "style": "IPY_MODEL_0d05dd617f334a26b15e35c181124b2f",
            "value": "100%"
          }
        },
        "36d112ce0cec47d6ad522dd997390320": {
          "model_module": "@jupyter-widgets/controls",
          "model_name": "FloatProgressModel",
          "model_module_version": "1.5.0",
          "state": {
            "_dom_classes": [],
            "_model_module": "@jupyter-widgets/controls",
            "_model_module_version": "1.5.0",
            "_model_name": "FloatProgressModel",
            "_view_count": null,
            "_view_module": "@jupyter-widgets/controls",
            "_view_module_version": "1.5.0",
            "_view_name": "ProgressView",
            "bar_style": "success",
            "description": "",
            "description_tooltip": null,
            "layout": "IPY_MODEL_777d472993f84d17b732edff3fc875e7",
            "max": 244408911,
            "min": 0,
            "orientation": "horizontal",
            "style": "IPY_MODEL_fc5a2b5e734e4b9cb582f6a403cda6d7",
            "value": 244408911
          }
        },
        "90479d6d9ebf4d96ad748efb0ca33f88": {
          "model_module": "@jupyter-widgets/controls",
          "model_name": "HTMLModel",
          "model_module_version": "1.5.0",
          "state": {
            "_dom_classes": [],
            "_model_module": "@jupyter-widgets/controls",
            "_model_module_version": "1.5.0",
            "_model_name": "HTMLModel",
            "_view_count": null,
            "_view_module": "@jupyter-widgets/controls",
            "_view_module_version": "1.5.0",
            "_view_name": "HTMLView",
            "description": "",
            "description_tooltip": null,
            "layout": "IPY_MODEL_b1902871c17543c792cde99fbfb65468",
            "placeholder": "​",
            "style": "IPY_MODEL_2856c3d224cb4211a92f54decbe9d271",
            "value": " 233M/233M [00:01&lt;00:00, 210MB/s]"
          }
        },
        "be94f9833fda4c9baef2ac71da72c1e0": {
          "model_module": "@jupyter-widgets/base",
          "model_name": "LayoutModel",
          "model_module_version": "1.2.0",
          "state": {
            "_model_module": "@jupyter-widgets/base",
            "_model_module_version": "1.2.0",
            "_model_name": "LayoutModel",
            "_view_count": null,
            "_view_module": "@jupyter-widgets/base",
            "_view_module_version": "1.2.0",
            "_view_name": "LayoutView",
            "align_content": null,
            "align_items": null,
            "align_self": null,
            "border": null,
            "bottom": null,
            "display": null,
            "flex": null,
            "flex_flow": null,
            "grid_area": null,
            "grid_auto_columns": null,
            "grid_auto_flow": null,
            "grid_auto_rows": null,
            "grid_column": null,
            "grid_gap": null,
            "grid_row": null,
            "grid_template_areas": null,
            "grid_template_columns": null,
            "grid_template_rows": null,
            "height": null,
            "justify_content": null,
            "justify_items": null,
            "left": null,
            "margin": null,
            "max_height": null,
            "max_width": null,
            "min_height": null,
            "min_width": null,
            "object_fit": null,
            "object_position": null,
            "order": null,
            "overflow": null,
            "overflow_x": null,
            "overflow_y": null,
            "padding": null,
            "right": null,
            "top": null,
            "visibility": null,
            "width": null
          }
        },
        "0b16fb8c4f39410d80ff2df8447e9035": {
          "model_module": "@jupyter-widgets/base",
          "model_name": "LayoutModel",
          "model_module_version": "1.2.0",
          "state": {
            "_model_module": "@jupyter-widgets/base",
            "_model_module_version": "1.2.0",
            "_model_name": "LayoutModel",
            "_view_count": null,
            "_view_module": "@jupyter-widgets/base",
            "_view_module_version": "1.2.0",
            "_view_name": "LayoutView",
            "align_content": null,
            "align_items": null,
            "align_self": null,
            "border": null,
            "bottom": null,
            "display": null,
            "flex": null,
            "flex_flow": null,
            "grid_area": null,
            "grid_auto_columns": null,
            "grid_auto_flow": null,
            "grid_auto_rows": null,
            "grid_column": null,
            "grid_gap": null,
            "grid_row": null,
            "grid_template_areas": null,
            "grid_template_columns": null,
            "grid_template_rows": null,
            "height": null,
            "justify_content": null,
            "justify_items": null,
            "left": null,
            "margin": null,
            "max_height": null,
            "max_width": null,
            "min_height": null,
            "min_width": null,
            "object_fit": null,
            "object_position": null,
            "order": null,
            "overflow": null,
            "overflow_x": null,
            "overflow_y": null,
            "padding": null,
            "right": null,
            "top": null,
            "visibility": null,
            "width": null
          }
        },
        "0d05dd617f334a26b15e35c181124b2f": {
          "model_module": "@jupyter-widgets/controls",
          "model_name": "DescriptionStyleModel",
          "model_module_version": "1.5.0",
          "state": {
            "_model_module": "@jupyter-widgets/controls",
            "_model_module_version": "1.5.0",
            "_model_name": "DescriptionStyleModel",
            "_view_count": null,
            "_view_module": "@jupyter-widgets/base",
            "_view_module_version": "1.2.0",
            "_view_name": "StyleView",
            "description_width": ""
          }
        },
        "777d472993f84d17b732edff3fc875e7": {
          "model_module": "@jupyter-widgets/base",
          "model_name": "LayoutModel",
          "model_module_version": "1.2.0",
          "state": {
            "_model_module": "@jupyter-widgets/base",
            "_model_module_version": "1.2.0",
            "_model_name": "LayoutModel",
            "_view_count": null,
            "_view_module": "@jupyter-widgets/base",
            "_view_module_version": "1.2.0",
            "_view_name": "LayoutView",
            "align_content": null,
            "align_items": null,
            "align_self": null,
            "border": null,
            "bottom": null,
            "display": null,
            "flex": null,
            "flex_flow": null,
            "grid_area": null,
            "grid_auto_columns": null,
            "grid_auto_flow": null,
            "grid_auto_rows": null,
            "grid_column": null,
            "grid_gap": null,
            "grid_row": null,
            "grid_template_areas": null,
            "grid_template_columns": null,
            "grid_template_rows": null,
            "height": null,
            "justify_content": null,
            "justify_items": null,
            "left": null,
            "margin": null,
            "max_height": null,
            "max_width": null,
            "min_height": null,
            "min_width": null,
            "object_fit": null,
            "object_position": null,
            "order": null,
            "overflow": null,
            "overflow_x": null,
            "overflow_y": null,
            "padding": null,
            "right": null,
            "top": null,
            "visibility": null,
            "width": null
          }
        },
        "fc5a2b5e734e4b9cb582f6a403cda6d7": {
          "model_module": "@jupyter-widgets/controls",
          "model_name": "ProgressStyleModel",
          "model_module_version": "1.5.0",
          "state": {
            "_model_module": "@jupyter-widgets/controls",
            "_model_module_version": "1.5.0",
            "_model_name": "ProgressStyleModel",
            "_view_count": null,
            "_view_module": "@jupyter-widgets/base",
            "_view_module_version": "1.2.0",
            "_view_name": "StyleView",
            "bar_color": null,
            "description_width": ""
          }
        },
        "b1902871c17543c792cde99fbfb65468": {
          "model_module": "@jupyter-widgets/base",
          "model_name": "LayoutModel",
          "model_module_version": "1.2.0",
          "state": {
            "_model_module": "@jupyter-widgets/base",
            "_model_module_version": "1.2.0",
            "_model_name": "LayoutModel",
            "_view_count": null,
            "_view_module": "@jupyter-widgets/base",
            "_view_module_version": "1.2.0",
            "_view_name": "LayoutView",
            "align_content": null,
            "align_items": null,
            "align_self": null,
            "border": null,
            "bottom": null,
            "display": null,
            "flex": null,
            "flex_flow": null,
            "grid_area": null,
            "grid_auto_columns": null,
            "grid_auto_flow": null,
            "grid_auto_rows": null,
            "grid_column": null,
            "grid_gap": null,
            "grid_row": null,
            "grid_template_areas": null,
            "grid_template_columns": null,
            "grid_template_rows": null,
            "height": null,
            "justify_content": null,
            "justify_items": null,
            "left": null,
            "margin": null,
            "max_height": null,
            "max_width": null,
            "min_height": null,
            "min_width": null,
            "object_fit": null,
            "object_position": null,
            "order": null,
            "overflow": null,
            "overflow_x": null,
            "overflow_y": null,
            "padding": null,
            "right": null,
            "top": null,
            "visibility": null,
            "width": null
          }
        },
        "2856c3d224cb4211a92f54decbe9d271": {
          "model_module": "@jupyter-widgets/controls",
          "model_name": "DescriptionStyleModel",
          "model_module_version": "1.5.0",
          "state": {
            "_model_module": "@jupyter-widgets/controls",
            "_model_module_version": "1.5.0",
            "_model_name": "DescriptionStyleModel",
            "_view_count": null,
            "_view_module": "@jupyter-widgets/base",
            "_view_module_version": "1.2.0",
            "_view_name": "StyleView",
            "description_width": ""
          }
        },
        "483f3365883941da8d1674cbb87508a8": {
          "model_module": "@jupyter-widgets/controls",
          "model_name": "HBoxModel",
          "model_module_version": "1.5.0",
          "state": {
            "_dom_classes": [],
            "_model_module": "@jupyter-widgets/controls",
            "_model_module_version": "1.5.0",
            "_model_name": "HBoxModel",
            "_view_count": null,
            "_view_module": "@jupyter-widgets/controls",
            "_view_module_version": "1.5.0",
            "_view_name": "HBoxView",
            "box_style": "",
            "children": [
              "IPY_MODEL_61a54486ad8d4176954db10d44f0dc6e",
              "IPY_MODEL_5c943d145b944a78b272290fac918da0",
              "IPY_MODEL_4b57eb846d41434eb47ceda06c649005"
            ],
            "layout": "IPY_MODEL_a3c044b5c5804e348fc92dd5e9035ef3"
          }
        },
        "61a54486ad8d4176954db10d44f0dc6e": {
          "model_module": "@jupyter-widgets/controls",
          "model_name": "HTMLModel",
          "model_module_version": "1.5.0",
          "state": {
            "_dom_classes": [],
            "_model_module": "@jupyter-widgets/controls",
            "_model_module_version": "1.5.0",
            "_model_name": "HTMLModel",
            "_view_count": null,
            "_view_module": "@jupyter-widgets/controls",
            "_view_module_version": "1.5.0",
            "_view_name": "HTMLView",
            "description": "",
            "description_tooltip": null,
            "layout": "IPY_MODEL_9b80435928094c0aa3e3a5942230a2b2",
            "placeholder": "​",
            "style": "IPY_MODEL_b997af46a72d4db0a93d93572af190cb",
            "value": "100%"
          }
        },
        "5c943d145b944a78b272290fac918da0": {
          "model_module": "@jupyter-widgets/controls",
          "model_name": "FloatProgressModel",
          "model_module_version": "1.5.0",
          "state": {
            "_dom_classes": [],
            "_model_module": "@jupyter-widgets/controls",
            "_model_module_version": "1.5.0",
            "_model_name": "FloatProgressModel",
            "_view_count": null,
            "_view_module": "@jupyter-widgets/controls",
            "_view_module_version": "1.5.0",
            "_view_name": "ProgressView",
            "bar_style": "success",
            "description": "",
            "description_tooltip": null,
            "layout": "IPY_MODEL_a94108212b8e42c3971ac5387c0f9d6a",
            "max": 10,
            "min": 0,
            "orientation": "horizontal",
            "style": "IPY_MODEL_0aca1520b9ca4ee78f4c9401f439caf7",
            "value": 10
          }
        },
        "4b57eb846d41434eb47ceda06c649005": {
          "model_module": "@jupyter-widgets/controls",
          "model_name": "HTMLModel",
          "model_module_version": "1.5.0",
          "state": {
            "_dom_classes": [],
            "_model_module": "@jupyter-widgets/controls",
            "_model_module_version": "1.5.0",
            "_model_name": "HTMLModel",
            "_view_count": null,
            "_view_module": "@jupyter-widgets/controls",
            "_view_module_version": "1.5.0",
            "_view_name": "HTMLView",
            "description": "",
            "description_tooltip": null,
            "layout": "IPY_MODEL_5bf0811a93bd42f0ada3dc9fad401370",
            "placeholder": "​",
            "style": "IPY_MODEL_001b2091dbaf4c8590e3bf311a3e2b54",
            "value": " 10/10 [03:59&lt;00:00, 24.10s/it]"
          }
        },
        "a3c044b5c5804e348fc92dd5e9035ef3": {
          "model_module": "@jupyter-widgets/base",
          "model_name": "LayoutModel",
          "model_module_version": "1.2.0",
          "state": {
            "_model_module": "@jupyter-widgets/base",
            "_model_module_version": "1.2.0",
            "_model_name": "LayoutModel",
            "_view_count": null,
            "_view_module": "@jupyter-widgets/base",
            "_view_module_version": "1.2.0",
            "_view_name": "LayoutView",
            "align_content": null,
            "align_items": null,
            "align_self": null,
            "border": null,
            "bottom": null,
            "display": null,
            "flex": null,
            "flex_flow": null,
            "grid_area": null,
            "grid_auto_columns": null,
            "grid_auto_flow": null,
            "grid_auto_rows": null,
            "grid_column": null,
            "grid_gap": null,
            "grid_row": null,
            "grid_template_areas": null,
            "grid_template_columns": null,
            "grid_template_rows": null,
            "height": null,
            "justify_content": null,
            "justify_items": null,
            "left": null,
            "margin": null,
            "max_height": null,
            "max_width": null,
            "min_height": null,
            "min_width": null,
            "object_fit": null,
            "object_position": null,
            "order": null,
            "overflow": null,
            "overflow_x": null,
            "overflow_y": null,
            "padding": null,
            "right": null,
            "top": null,
            "visibility": null,
            "width": null
          }
        },
        "9b80435928094c0aa3e3a5942230a2b2": {
          "model_module": "@jupyter-widgets/base",
          "model_name": "LayoutModel",
          "model_module_version": "1.2.0",
          "state": {
            "_model_module": "@jupyter-widgets/base",
            "_model_module_version": "1.2.0",
            "_model_name": "LayoutModel",
            "_view_count": null,
            "_view_module": "@jupyter-widgets/base",
            "_view_module_version": "1.2.0",
            "_view_name": "LayoutView",
            "align_content": null,
            "align_items": null,
            "align_self": null,
            "border": null,
            "bottom": null,
            "display": null,
            "flex": null,
            "flex_flow": null,
            "grid_area": null,
            "grid_auto_columns": null,
            "grid_auto_flow": null,
            "grid_auto_rows": null,
            "grid_column": null,
            "grid_gap": null,
            "grid_row": null,
            "grid_template_areas": null,
            "grid_template_columns": null,
            "grid_template_rows": null,
            "height": null,
            "justify_content": null,
            "justify_items": null,
            "left": null,
            "margin": null,
            "max_height": null,
            "max_width": null,
            "min_height": null,
            "min_width": null,
            "object_fit": null,
            "object_position": null,
            "order": null,
            "overflow": null,
            "overflow_x": null,
            "overflow_y": null,
            "padding": null,
            "right": null,
            "top": null,
            "visibility": null,
            "width": null
          }
        },
        "b997af46a72d4db0a93d93572af190cb": {
          "model_module": "@jupyter-widgets/controls",
          "model_name": "DescriptionStyleModel",
          "model_module_version": "1.5.0",
          "state": {
            "_model_module": "@jupyter-widgets/controls",
            "_model_module_version": "1.5.0",
            "_model_name": "DescriptionStyleModel",
            "_view_count": null,
            "_view_module": "@jupyter-widgets/base",
            "_view_module_version": "1.2.0",
            "_view_name": "StyleView",
            "description_width": ""
          }
        },
        "a94108212b8e42c3971ac5387c0f9d6a": {
          "model_module": "@jupyter-widgets/base",
          "model_name": "LayoutModel",
          "model_module_version": "1.2.0",
          "state": {
            "_model_module": "@jupyter-widgets/base",
            "_model_module_version": "1.2.0",
            "_model_name": "LayoutModel",
            "_view_count": null,
            "_view_module": "@jupyter-widgets/base",
            "_view_module_version": "1.2.0",
            "_view_name": "LayoutView",
            "align_content": null,
            "align_items": null,
            "align_self": null,
            "border": null,
            "bottom": null,
            "display": null,
            "flex": null,
            "flex_flow": null,
            "grid_area": null,
            "grid_auto_columns": null,
            "grid_auto_flow": null,
            "grid_auto_rows": null,
            "grid_column": null,
            "grid_gap": null,
            "grid_row": null,
            "grid_template_areas": null,
            "grid_template_columns": null,
            "grid_template_rows": null,
            "height": null,
            "justify_content": null,
            "justify_items": null,
            "left": null,
            "margin": null,
            "max_height": null,
            "max_width": null,
            "min_height": null,
            "min_width": null,
            "object_fit": null,
            "object_position": null,
            "order": null,
            "overflow": null,
            "overflow_x": null,
            "overflow_y": null,
            "padding": null,
            "right": null,
            "top": null,
            "visibility": null,
            "width": null
          }
        },
        "0aca1520b9ca4ee78f4c9401f439caf7": {
          "model_module": "@jupyter-widgets/controls",
          "model_name": "ProgressStyleModel",
          "model_module_version": "1.5.0",
          "state": {
            "_model_module": "@jupyter-widgets/controls",
            "_model_module_version": "1.5.0",
            "_model_name": "ProgressStyleModel",
            "_view_count": null,
            "_view_module": "@jupyter-widgets/base",
            "_view_module_version": "1.2.0",
            "_view_name": "StyleView",
            "bar_color": null,
            "description_width": ""
          }
        },
        "5bf0811a93bd42f0ada3dc9fad401370": {
          "model_module": "@jupyter-widgets/base",
          "model_name": "LayoutModel",
          "model_module_version": "1.2.0",
          "state": {
            "_model_module": "@jupyter-widgets/base",
            "_model_module_version": "1.2.0",
            "_model_name": "LayoutModel",
            "_view_count": null,
            "_view_module": "@jupyter-widgets/base",
            "_view_module_version": "1.2.0",
            "_view_name": "LayoutView",
            "align_content": null,
            "align_items": null,
            "align_self": null,
            "border": null,
            "bottom": null,
            "display": null,
            "flex": null,
            "flex_flow": null,
            "grid_area": null,
            "grid_auto_columns": null,
            "grid_auto_flow": null,
            "grid_auto_rows": null,
            "grid_column": null,
            "grid_gap": null,
            "grid_row": null,
            "grid_template_areas": null,
            "grid_template_columns": null,
            "grid_template_rows": null,
            "height": null,
            "justify_content": null,
            "justify_items": null,
            "left": null,
            "margin": null,
            "max_height": null,
            "max_width": null,
            "min_height": null,
            "min_width": null,
            "object_fit": null,
            "object_position": null,
            "order": null,
            "overflow": null,
            "overflow_x": null,
            "overflow_y": null,
            "padding": null,
            "right": null,
            "top": null,
            "visibility": null,
            "width": null
          }
        },
        "001b2091dbaf4c8590e3bf311a3e2b54": {
          "model_module": "@jupyter-widgets/controls",
          "model_name": "DescriptionStyleModel",
          "model_module_version": "1.5.0",
          "state": {
            "_model_module": "@jupyter-widgets/controls",
            "_model_module_version": "1.5.0",
            "_model_name": "DescriptionStyleModel",
            "_view_count": null,
            "_view_module": "@jupyter-widgets/base",
            "_view_module_version": "1.2.0",
            "_view_name": "StyleView",
            "description_width": ""
          }
        },
        "f2718d1047a74d0dba1846c49a6c60ba": {
          "model_module": "@jupyter-widgets/controls",
          "model_name": "HBoxModel",
          "model_module_version": "1.5.0",
          "state": {
            "_dom_classes": [],
            "_model_module": "@jupyter-widgets/controls",
            "_model_module_version": "1.5.0",
            "_model_name": "HBoxModel",
            "_view_count": null,
            "_view_module": "@jupyter-widgets/controls",
            "_view_module_version": "1.5.0",
            "_view_name": "HBoxView",
            "box_style": "",
            "children": [
              "IPY_MODEL_50a722731eec46879c1273ad127cfabf",
              "IPY_MODEL_d8c5687bb1984694b3d22435c25dcf11",
              "IPY_MODEL_3b3563e320784c83ada068675358e64e"
            ],
            "layout": "IPY_MODEL_41ef5507aecc4370968d5e951c570f76"
          }
        },
        "50a722731eec46879c1273ad127cfabf": {
          "model_module": "@jupyter-widgets/controls",
          "model_name": "HTMLModel",
          "model_module_version": "1.5.0",
          "state": {
            "_dom_classes": [],
            "_model_module": "@jupyter-widgets/controls",
            "_model_module_version": "1.5.0",
            "_model_name": "HTMLModel",
            "_view_count": null,
            "_view_module": "@jupyter-widgets/controls",
            "_view_module_version": "1.5.0",
            "_view_name": "HTMLView",
            "description": "",
            "description_tooltip": null,
            "layout": "IPY_MODEL_bf459705a19940c2867975312859d090",
            "placeholder": "​",
            "style": "IPY_MODEL_f97a177fbb784286af041d67de3f0d9f",
            "value": "100%"
          }
        },
        "d8c5687bb1984694b3d22435c25dcf11": {
          "model_module": "@jupyter-widgets/controls",
          "model_name": "FloatProgressModel",
          "model_module_version": "1.5.0",
          "state": {
            "_dom_classes": [],
            "_model_module": "@jupyter-widgets/controls",
            "_model_module_version": "1.5.0",
            "_model_name": "FloatProgressModel",
            "_view_count": null,
            "_view_module": "@jupyter-widgets/controls",
            "_view_module_version": "1.5.0",
            "_view_name": "ProgressView",
            "bar_style": "success",
            "description": "",
            "description_tooltip": null,
            "layout": "IPY_MODEL_9e7aec15b9874924ad7740b4ebe34c8c",
            "max": 52147035,
            "min": 0,
            "orientation": "horizontal",
            "style": "IPY_MODEL_be15d19eeff948fca42fa9d2544688fc",
            "value": 52147035
          }
        },
        "3b3563e320784c83ada068675358e64e": {
          "model_module": "@jupyter-widgets/controls",
          "model_name": "HTMLModel",
          "model_module_version": "1.5.0",
          "state": {
            "_dom_classes": [],
            "_model_module": "@jupyter-widgets/controls",
            "_model_module_version": "1.5.0",
            "_model_name": "HTMLModel",
            "_view_count": null,
            "_view_module": "@jupyter-widgets/controls",
            "_view_module_version": "1.5.0",
            "_view_name": "HTMLView",
            "description": "",
            "description_tooltip": null,
            "layout": "IPY_MODEL_21b4f5d8909947248269152e9134cac8",
            "placeholder": "​",
            "style": "IPY_MODEL_13b57fb052c549d6a5de990f58efc268",
            "value": " 49.7M/49.7M [00:00&lt;00:00, 184MB/s]"
          }
        },
        "41ef5507aecc4370968d5e951c570f76": {
          "model_module": "@jupyter-widgets/base",
          "model_name": "LayoutModel",
          "model_module_version": "1.2.0",
          "state": {
            "_model_module": "@jupyter-widgets/base",
            "_model_module_version": "1.2.0",
            "_model_name": "LayoutModel",
            "_view_count": null,
            "_view_module": "@jupyter-widgets/base",
            "_view_module_version": "1.2.0",
            "_view_name": "LayoutView",
            "align_content": null,
            "align_items": null,
            "align_self": null,
            "border": null,
            "bottom": null,
            "display": null,
            "flex": null,
            "flex_flow": null,
            "grid_area": null,
            "grid_auto_columns": null,
            "grid_auto_flow": null,
            "grid_auto_rows": null,
            "grid_column": null,
            "grid_gap": null,
            "grid_row": null,
            "grid_template_areas": null,
            "grid_template_columns": null,
            "grid_template_rows": null,
            "height": null,
            "justify_content": null,
            "justify_items": null,
            "left": null,
            "margin": null,
            "max_height": null,
            "max_width": null,
            "min_height": null,
            "min_width": null,
            "object_fit": null,
            "object_position": null,
            "order": null,
            "overflow": null,
            "overflow_x": null,
            "overflow_y": null,
            "padding": null,
            "right": null,
            "top": null,
            "visibility": null,
            "width": null
          }
        },
        "bf459705a19940c2867975312859d090": {
          "model_module": "@jupyter-widgets/base",
          "model_name": "LayoutModel",
          "model_module_version": "1.2.0",
          "state": {
            "_model_module": "@jupyter-widgets/base",
            "_model_module_version": "1.2.0",
            "_model_name": "LayoutModel",
            "_view_count": null,
            "_view_module": "@jupyter-widgets/base",
            "_view_module_version": "1.2.0",
            "_view_name": "LayoutView",
            "align_content": null,
            "align_items": null,
            "align_self": null,
            "border": null,
            "bottom": null,
            "display": null,
            "flex": null,
            "flex_flow": null,
            "grid_area": null,
            "grid_auto_columns": null,
            "grid_auto_flow": null,
            "grid_auto_rows": null,
            "grid_column": null,
            "grid_gap": null,
            "grid_row": null,
            "grid_template_areas": null,
            "grid_template_columns": null,
            "grid_template_rows": null,
            "height": null,
            "justify_content": null,
            "justify_items": null,
            "left": null,
            "margin": null,
            "max_height": null,
            "max_width": null,
            "min_height": null,
            "min_width": null,
            "object_fit": null,
            "object_position": null,
            "order": null,
            "overflow": null,
            "overflow_x": null,
            "overflow_y": null,
            "padding": null,
            "right": null,
            "top": null,
            "visibility": null,
            "width": null
          }
        },
        "f97a177fbb784286af041d67de3f0d9f": {
          "model_module": "@jupyter-widgets/controls",
          "model_name": "DescriptionStyleModel",
          "model_module_version": "1.5.0",
          "state": {
            "_model_module": "@jupyter-widgets/controls",
            "_model_module_version": "1.5.0",
            "_model_name": "DescriptionStyleModel",
            "_view_count": null,
            "_view_module": "@jupyter-widgets/base",
            "_view_module_version": "1.2.0",
            "_view_name": "StyleView",
            "description_width": ""
          }
        },
        "9e7aec15b9874924ad7740b4ebe34c8c": {
          "model_module": "@jupyter-widgets/base",
          "model_name": "LayoutModel",
          "model_module_version": "1.2.0",
          "state": {
            "_model_module": "@jupyter-widgets/base",
            "_model_module_version": "1.2.0",
            "_model_name": "LayoutModel",
            "_view_count": null,
            "_view_module": "@jupyter-widgets/base",
            "_view_module_version": "1.2.0",
            "_view_name": "LayoutView",
            "align_content": null,
            "align_items": null,
            "align_self": null,
            "border": null,
            "bottom": null,
            "display": null,
            "flex": null,
            "flex_flow": null,
            "grid_area": null,
            "grid_auto_columns": null,
            "grid_auto_flow": null,
            "grid_auto_rows": null,
            "grid_column": null,
            "grid_gap": null,
            "grid_row": null,
            "grid_template_areas": null,
            "grid_template_columns": null,
            "grid_template_rows": null,
            "height": null,
            "justify_content": null,
            "justify_items": null,
            "left": null,
            "margin": null,
            "max_height": null,
            "max_width": null,
            "min_height": null,
            "min_width": null,
            "object_fit": null,
            "object_position": null,
            "order": null,
            "overflow": null,
            "overflow_x": null,
            "overflow_y": null,
            "padding": null,
            "right": null,
            "top": null,
            "visibility": null,
            "width": null
          }
        },
        "be15d19eeff948fca42fa9d2544688fc": {
          "model_module": "@jupyter-widgets/controls",
          "model_name": "ProgressStyleModel",
          "model_module_version": "1.5.0",
          "state": {
            "_model_module": "@jupyter-widgets/controls",
            "_model_module_version": "1.5.0",
            "_model_name": "ProgressStyleModel",
            "_view_count": null,
            "_view_module": "@jupyter-widgets/base",
            "_view_module_version": "1.2.0",
            "_view_name": "StyleView",
            "bar_color": null,
            "description_width": ""
          }
        },
        "21b4f5d8909947248269152e9134cac8": {
          "model_module": "@jupyter-widgets/base",
          "model_name": "LayoutModel",
          "model_module_version": "1.2.0",
          "state": {
            "_model_module": "@jupyter-widgets/base",
            "_model_module_version": "1.2.0",
            "_model_name": "LayoutModel",
            "_view_count": null,
            "_view_module": "@jupyter-widgets/base",
            "_view_module_version": "1.2.0",
            "_view_name": "LayoutView",
            "align_content": null,
            "align_items": null,
            "align_self": null,
            "border": null,
            "bottom": null,
            "display": null,
            "flex": null,
            "flex_flow": null,
            "grid_area": null,
            "grid_auto_columns": null,
            "grid_auto_flow": null,
            "grid_auto_rows": null,
            "grid_column": null,
            "grid_gap": null,
            "grid_row": null,
            "grid_template_areas": null,
            "grid_template_columns": null,
            "grid_template_rows": null,
            "height": null,
            "justify_content": null,
            "justify_items": null,
            "left": null,
            "margin": null,
            "max_height": null,
            "max_width": null,
            "min_height": null,
            "min_width": null,
            "object_fit": null,
            "object_position": null,
            "order": null,
            "overflow": null,
            "overflow_x": null,
            "overflow_y": null,
            "padding": null,
            "right": null,
            "top": null,
            "visibility": null,
            "width": null
          }
        },
        "13b57fb052c549d6a5de990f58efc268": {
          "model_module": "@jupyter-widgets/controls",
          "model_name": "DescriptionStyleModel",
          "model_module_version": "1.5.0",
          "state": {
            "_model_module": "@jupyter-widgets/controls",
            "_model_module_version": "1.5.0",
            "_model_name": "DescriptionStyleModel",
            "_view_count": null,
            "_view_module": "@jupyter-widgets/base",
            "_view_module_version": "1.2.0",
            "_view_name": "StyleView",
            "description_width": ""
          }
        },
        "bdd75a6f4b17403e85f4b06d2bd2a08e": {
          "model_module": "@jupyter-widgets/controls",
          "model_name": "HBoxModel",
          "model_module_version": "1.5.0",
          "state": {
            "_dom_classes": [],
            "_model_module": "@jupyter-widgets/controls",
            "_model_module_version": "1.5.0",
            "_model_name": "HBoxModel",
            "_view_count": null,
            "_view_module": "@jupyter-widgets/controls",
            "_view_module_version": "1.5.0",
            "_view_name": "HBoxView",
            "box_style": "",
            "children": [
              "IPY_MODEL_c169fb2ba7ac49b4a01a121a17a3fdd5",
              "IPY_MODEL_7aed823d236144b6bfda937a8a53ff7b",
              "IPY_MODEL_ca54e905a9b3401e9bbe7af74ff6b175"
            ],
            "layout": "IPY_MODEL_48435d39106d4d3c9f6cdbc2475007af"
          }
        },
        "c169fb2ba7ac49b4a01a121a17a3fdd5": {
          "model_module": "@jupyter-widgets/controls",
          "model_name": "HTMLModel",
          "model_module_version": "1.5.0",
          "state": {
            "_dom_classes": [],
            "_model_module": "@jupyter-widgets/controls",
            "_model_module_version": "1.5.0",
            "_model_name": "HTMLModel",
            "_view_count": null,
            "_view_module": "@jupyter-widgets/controls",
            "_view_module_version": "1.5.0",
            "_view_name": "HTMLView",
            "description": "",
            "description_tooltip": null,
            "layout": "IPY_MODEL_fd8104ade9b2497d9572949031c6a6aa",
            "placeholder": "​",
            "style": "IPY_MODEL_ef98a50c151e4eb9aee0bbc07b0be884",
            "value": "100%"
          }
        },
        "7aed823d236144b6bfda937a8a53ff7b": {
          "model_module": "@jupyter-widgets/controls",
          "model_name": "FloatProgressModel",
          "model_module_version": "1.5.0",
          "state": {
            "_dom_classes": [],
            "_model_module": "@jupyter-widgets/controls",
            "_model_module_version": "1.5.0",
            "_model_name": "FloatProgressModel",
            "_view_count": null,
            "_view_module": "@jupyter-widgets/controls",
            "_view_module_version": "1.5.0",
            "_view_name": "ProgressView",
            "bar_style": "success",
            "description": "",
            "description_tooltip": null,
            "layout": "IPY_MODEL_4b01aa8e5cc748269bb74aae513f2ac4",
            "max": 10,
            "min": 0,
            "orientation": "horizontal",
            "style": "IPY_MODEL_6f1519e2b6744795a11f13b5f79f112d",
            "value": 10
          }
        },
        "ca54e905a9b3401e9bbe7af74ff6b175": {
          "model_module": "@jupyter-widgets/controls",
          "model_name": "HTMLModel",
          "model_module_version": "1.5.0",
          "state": {
            "_dom_classes": [],
            "_model_module": "@jupyter-widgets/controls",
            "_model_module_version": "1.5.0",
            "_model_name": "HTMLModel",
            "_view_count": null,
            "_view_module": "@jupyter-widgets/controls",
            "_view_module_version": "1.5.0",
            "_view_name": "HTMLView",
            "description": "",
            "description_tooltip": null,
            "layout": "IPY_MODEL_3739d3e392cd4b2d8252e689dddae767",
            "placeholder": "​",
            "style": "IPY_MODEL_e2de6af5cff947ba800b12936627bb87",
            "value": " 10/10 [04:03&lt;00:00, 24.36s/it]"
          }
        },
        "48435d39106d4d3c9f6cdbc2475007af": {
          "model_module": "@jupyter-widgets/base",
          "model_name": "LayoutModel",
          "model_module_version": "1.2.0",
          "state": {
            "_model_module": "@jupyter-widgets/base",
            "_model_module_version": "1.2.0",
            "_model_name": "LayoutModel",
            "_view_count": null,
            "_view_module": "@jupyter-widgets/base",
            "_view_module_version": "1.2.0",
            "_view_name": "LayoutView",
            "align_content": null,
            "align_items": null,
            "align_self": null,
            "border": null,
            "bottom": null,
            "display": null,
            "flex": null,
            "flex_flow": null,
            "grid_area": null,
            "grid_auto_columns": null,
            "grid_auto_flow": null,
            "grid_auto_rows": null,
            "grid_column": null,
            "grid_gap": null,
            "grid_row": null,
            "grid_template_areas": null,
            "grid_template_columns": null,
            "grid_template_rows": null,
            "height": null,
            "justify_content": null,
            "justify_items": null,
            "left": null,
            "margin": null,
            "max_height": null,
            "max_width": null,
            "min_height": null,
            "min_width": null,
            "object_fit": null,
            "object_position": null,
            "order": null,
            "overflow": null,
            "overflow_x": null,
            "overflow_y": null,
            "padding": null,
            "right": null,
            "top": null,
            "visibility": null,
            "width": null
          }
        },
        "fd8104ade9b2497d9572949031c6a6aa": {
          "model_module": "@jupyter-widgets/base",
          "model_name": "LayoutModel",
          "model_module_version": "1.2.0",
          "state": {
            "_model_module": "@jupyter-widgets/base",
            "_model_module_version": "1.2.0",
            "_model_name": "LayoutModel",
            "_view_count": null,
            "_view_module": "@jupyter-widgets/base",
            "_view_module_version": "1.2.0",
            "_view_name": "LayoutView",
            "align_content": null,
            "align_items": null,
            "align_self": null,
            "border": null,
            "bottom": null,
            "display": null,
            "flex": null,
            "flex_flow": null,
            "grid_area": null,
            "grid_auto_columns": null,
            "grid_auto_flow": null,
            "grid_auto_rows": null,
            "grid_column": null,
            "grid_gap": null,
            "grid_row": null,
            "grid_template_areas": null,
            "grid_template_columns": null,
            "grid_template_rows": null,
            "height": null,
            "justify_content": null,
            "justify_items": null,
            "left": null,
            "margin": null,
            "max_height": null,
            "max_width": null,
            "min_height": null,
            "min_width": null,
            "object_fit": null,
            "object_position": null,
            "order": null,
            "overflow": null,
            "overflow_x": null,
            "overflow_y": null,
            "padding": null,
            "right": null,
            "top": null,
            "visibility": null,
            "width": null
          }
        },
        "ef98a50c151e4eb9aee0bbc07b0be884": {
          "model_module": "@jupyter-widgets/controls",
          "model_name": "DescriptionStyleModel",
          "model_module_version": "1.5.0",
          "state": {
            "_model_module": "@jupyter-widgets/controls",
            "_model_module_version": "1.5.0",
            "_model_name": "DescriptionStyleModel",
            "_view_count": null,
            "_view_module": "@jupyter-widgets/base",
            "_view_module_version": "1.2.0",
            "_view_name": "StyleView",
            "description_width": ""
          }
        },
        "4b01aa8e5cc748269bb74aae513f2ac4": {
          "model_module": "@jupyter-widgets/base",
          "model_name": "LayoutModel",
          "model_module_version": "1.2.0",
          "state": {
            "_model_module": "@jupyter-widgets/base",
            "_model_module_version": "1.2.0",
            "_model_name": "LayoutModel",
            "_view_count": null,
            "_view_module": "@jupyter-widgets/base",
            "_view_module_version": "1.2.0",
            "_view_name": "LayoutView",
            "align_content": null,
            "align_items": null,
            "align_self": null,
            "border": null,
            "bottom": null,
            "display": null,
            "flex": null,
            "flex_flow": null,
            "grid_area": null,
            "grid_auto_columns": null,
            "grid_auto_flow": null,
            "grid_auto_rows": null,
            "grid_column": null,
            "grid_gap": null,
            "grid_row": null,
            "grid_template_areas": null,
            "grid_template_columns": null,
            "grid_template_rows": null,
            "height": null,
            "justify_content": null,
            "justify_items": null,
            "left": null,
            "margin": null,
            "max_height": null,
            "max_width": null,
            "min_height": null,
            "min_width": null,
            "object_fit": null,
            "object_position": null,
            "order": null,
            "overflow": null,
            "overflow_x": null,
            "overflow_y": null,
            "padding": null,
            "right": null,
            "top": null,
            "visibility": null,
            "width": null
          }
        },
        "6f1519e2b6744795a11f13b5f79f112d": {
          "model_module": "@jupyter-widgets/controls",
          "model_name": "ProgressStyleModel",
          "model_module_version": "1.5.0",
          "state": {
            "_model_module": "@jupyter-widgets/controls",
            "_model_module_version": "1.5.0",
            "_model_name": "ProgressStyleModel",
            "_view_count": null,
            "_view_module": "@jupyter-widgets/base",
            "_view_module_version": "1.2.0",
            "_view_name": "StyleView",
            "bar_color": null,
            "description_width": ""
          }
        },
        "3739d3e392cd4b2d8252e689dddae767": {
          "model_module": "@jupyter-widgets/base",
          "model_name": "LayoutModel",
          "model_module_version": "1.2.0",
          "state": {
            "_model_module": "@jupyter-widgets/base",
            "_model_module_version": "1.2.0",
            "_model_name": "LayoutModel",
            "_view_count": null,
            "_view_module": "@jupyter-widgets/base",
            "_view_module_version": "1.2.0",
            "_view_name": "LayoutView",
            "align_content": null,
            "align_items": null,
            "align_self": null,
            "border": null,
            "bottom": null,
            "display": null,
            "flex": null,
            "flex_flow": null,
            "grid_area": null,
            "grid_auto_columns": null,
            "grid_auto_flow": null,
            "grid_auto_rows": null,
            "grid_column": null,
            "grid_gap": null,
            "grid_row": null,
            "grid_template_areas": null,
            "grid_template_columns": null,
            "grid_template_rows": null,
            "height": null,
            "justify_content": null,
            "justify_items": null,
            "left": null,
            "margin": null,
            "max_height": null,
            "max_width": null,
            "min_height": null,
            "min_width": null,
            "object_fit": null,
            "object_position": null,
            "order": null,
            "overflow": null,
            "overflow_x": null,
            "overflow_y": null,
            "padding": null,
            "right": null,
            "top": null,
            "visibility": null,
            "width": null
          }
        },
        "e2de6af5cff947ba800b12936627bb87": {
          "model_module": "@jupyter-widgets/controls",
          "model_name": "DescriptionStyleModel",
          "model_module_version": "1.5.0",
          "state": {
            "_model_module": "@jupyter-widgets/controls",
            "_model_module_version": "1.5.0",
            "_model_name": "DescriptionStyleModel",
            "_view_count": null,
            "_view_module": "@jupyter-widgets/base",
            "_view_module_version": "1.2.0",
            "_view_name": "StyleView",
            "description_width": ""
          }
        },
        "6d8e047a971b4be48524f66c6e652bce": {
          "model_module": "@jupyter-widgets/controls",
          "model_name": "HBoxModel",
          "model_module_version": "1.5.0",
          "state": {
            "_dom_classes": [],
            "_model_module": "@jupyter-widgets/controls",
            "_model_module_version": "1.5.0",
            "_model_name": "HBoxModel",
            "_view_count": null,
            "_view_module": "@jupyter-widgets/controls",
            "_view_module_version": "1.5.0",
            "_view_name": "HBoxView",
            "box_style": "",
            "children": [
              "IPY_MODEL_558ece7560224fac81e2418c8217a26e",
              "IPY_MODEL_06b83a952e3444f6926a63bbedfe8911",
              "IPY_MODEL_1810b2cff4484183909dab2ca5b724e2"
            ],
            "layout": "IPY_MODEL_51057c00b15e43abaa31bfc307ca7698"
          }
        },
        "558ece7560224fac81e2418c8217a26e": {
          "model_module": "@jupyter-widgets/controls",
          "model_name": "HTMLModel",
          "model_module_version": "1.5.0",
          "state": {
            "_dom_classes": [],
            "_model_module": "@jupyter-widgets/controls",
            "_model_module_version": "1.5.0",
            "_model_name": "HTMLModel",
            "_view_count": null,
            "_view_module": "@jupyter-widgets/controls",
            "_view_module_version": "1.5.0",
            "_view_name": "HTMLView",
            "description": "",
            "description_tooltip": null,
            "layout": "IPY_MODEL_f58bf08903034b019853cc8dcc4bb282",
            "placeholder": "​",
            "style": "IPY_MODEL_b9390f640639424fa24dfd5d5ec76180",
            "value": "100%"
          }
        },
        "06b83a952e3444f6926a63bbedfe8911": {
          "model_module": "@jupyter-widgets/controls",
          "model_name": "FloatProgressModel",
          "model_module_version": "1.5.0",
          "state": {
            "_dom_classes": [],
            "_model_module": "@jupyter-widgets/controls",
            "_model_module_version": "1.5.0",
            "_model_name": "FloatProgressModel",
            "_view_count": null,
            "_view_module": "@jupyter-widgets/controls",
            "_view_module_version": "1.5.0",
            "_view_name": "ProgressView",
            "bar_style": "success",
            "description": "",
            "description_tooltip": null,
            "layout": "IPY_MODEL_c78f1b4c10344fdb8081480296750297",
            "max": 102540417,
            "min": 0,
            "orientation": "horizontal",
            "style": "IPY_MODEL_dfe53e9f0e9e4315aed027f770c76e82",
            "value": 102540417
          }
        },
        "1810b2cff4484183909dab2ca5b724e2": {
          "model_module": "@jupyter-widgets/controls",
          "model_name": "HTMLModel",
          "model_module_version": "1.5.0",
          "state": {
            "_dom_classes": [],
            "_model_module": "@jupyter-widgets/controls",
            "_model_module_version": "1.5.0",
            "_model_name": "HTMLModel",
            "_view_count": null,
            "_view_module": "@jupyter-widgets/controls",
            "_view_module_version": "1.5.0",
            "_view_name": "HTMLView",
            "description": "",
            "description_tooltip": null,
            "layout": "IPY_MODEL_0a0baebf27c7458094429ff6f2e46106",
            "placeholder": "​",
            "style": "IPY_MODEL_0edf927d300041f2bea71a28b1ba9afa",
            "value": " 97.8M/97.8M [00:00&lt;00:00, 205MB/s]"
          }
        },
        "51057c00b15e43abaa31bfc307ca7698": {
          "model_module": "@jupyter-widgets/base",
          "model_name": "LayoutModel",
          "model_module_version": "1.2.0",
          "state": {
            "_model_module": "@jupyter-widgets/base",
            "_model_module_version": "1.2.0",
            "_model_name": "LayoutModel",
            "_view_count": null,
            "_view_module": "@jupyter-widgets/base",
            "_view_module_version": "1.2.0",
            "_view_name": "LayoutView",
            "align_content": null,
            "align_items": null,
            "align_self": null,
            "border": null,
            "bottom": null,
            "display": null,
            "flex": null,
            "flex_flow": null,
            "grid_area": null,
            "grid_auto_columns": null,
            "grid_auto_flow": null,
            "grid_auto_rows": null,
            "grid_column": null,
            "grid_gap": null,
            "grid_row": null,
            "grid_template_areas": null,
            "grid_template_columns": null,
            "grid_template_rows": null,
            "height": null,
            "justify_content": null,
            "justify_items": null,
            "left": null,
            "margin": null,
            "max_height": null,
            "max_width": null,
            "min_height": null,
            "min_width": null,
            "object_fit": null,
            "object_position": null,
            "order": null,
            "overflow": null,
            "overflow_x": null,
            "overflow_y": null,
            "padding": null,
            "right": null,
            "top": null,
            "visibility": null,
            "width": null
          }
        },
        "f58bf08903034b019853cc8dcc4bb282": {
          "model_module": "@jupyter-widgets/base",
          "model_name": "LayoutModel",
          "model_module_version": "1.2.0",
          "state": {
            "_model_module": "@jupyter-widgets/base",
            "_model_module_version": "1.2.0",
            "_model_name": "LayoutModel",
            "_view_count": null,
            "_view_module": "@jupyter-widgets/base",
            "_view_module_version": "1.2.0",
            "_view_name": "LayoutView",
            "align_content": null,
            "align_items": null,
            "align_self": null,
            "border": null,
            "bottom": null,
            "display": null,
            "flex": null,
            "flex_flow": null,
            "grid_area": null,
            "grid_auto_columns": null,
            "grid_auto_flow": null,
            "grid_auto_rows": null,
            "grid_column": null,
            "grid_gap": null,
            "grid_row": null,
            "grid_template_areas": null,
            "grid_template_columns": null,
            "grid_template_rows": null,
            "height": null,
            "justify_content": null,
            "justify_items": null,
            "left": null,
            "margin": null,
            "max_height": null,
            "max_width": null,
            "min_height": null,
            "min_width": null,
            "object_fit": null,
            "object_position": null,
            "order": null,
            "overflow": null,
            "overflow_x": null,
            "overflow_y": null,
            "padding": null,
            "right": null,
            "top": null,
            "visibility": null,
            "width": null
          }
        },
        "b9390f640639424fa24dfd5d5ec76180": {
          "model_module": "@jupyter-widgets/controls",
          "model_name": "DescriptionStyleModel",
          "model_module_version": "1.5.0",
          "state": {
            "_model_module": "@jupyter-widgets/controls",
            "_model_module_version": "1.5.0",
            "_model_name": "DescriptionStyleModel",
            "_view_count": null,
            "_view_module": "@jupyter-widgets/base",
            "_view_module_version": "1.2.0",
            "_view_name": "StyleView",
            "description_width": ""
          }
        },
        "c78f1b4c10344fdb8081480296750297": {
          "model_module": "@jupyter-widgets/base",
          "model_name": "LayoutModel",
          "model_module_version": "1.2.0",
          "state": {
            "_model_module": "@jupyter-widgets/base",
            "_model_module_version": "1.2.0",
            "_model_name": "LayoutModel",
            "_view_count": null,
            "_view_module": "@jupyter-widgets/base",
            "_view_module_version": "1.2.0",
            "_view_name": "LayoutView",
            "align_content": null,
            "align_items": null,
            "align_self": null,
            "border": null,
            "bottom": null,
            "display": null,
            "flex": null,
            "flex_flow": null,
            "grid_area": null,
            "grid_auto_columns": null,
            "grid_auto_flow": null,
            "grid_auto_rows": null,
            "grid_column": null,
            "grid_gap": null,
            "grid_row": null,
            "grid_template_areas": null,
            "grid_template_columns": null,
            "grid_template_rows": null,
            "height": null,
            "justify_content": null,
            "justify_items": null,
            "left": null,
            "margin": null,
            "max_height": null,
            "max_width": null,
            "min_height": null,
            "min_width": null,
            "object_fit": null,
            "object_position": null,
            "order": null,
            "overflow": null,
            "overflow_x": null,
            "overflow_y": null,
            "padding": null,
            "right": null,
            "top": null,
            "visibility": null,
            "width": null
          }
        },
        "dfe53e9f0e9e4315aed027f770c76e82": {
          "model_module": "@jupyter-widgets/controls",
          "model_name": "ProgressStyleModel",
          "model_module_version": "1.5.0",
          "state": {
            "_model_module": "@jupyter-widgets/controls",
            "_model_module_version": "1.5.0",
            "_model_name": "ProgressStyleModel",
            "_view_count": null,
            "_view_module": "@jupyter-widgets/base",
            "_view_module_version": "1.2.0",
            "_view_name": "StyleView",
            "bar_color": null,
            "description_width": ""
          }
        },
        "0a0baebf27c7458094429ff6f2e46106": {
          "model_module": "@jupyter-widgets/base",
          "model_name": "LayoutModel",
          "model_module_version": "1.2.0",
          "state": {
            "_model_module": "@jupyter-widgets/base",
            "_model_module_version": "1.2.0",
            "_model_name": "LayoutModel",
            "_view_count": null,
            "_view_module": "@jupyter-widgets/base",
            "_view_module_version": "1.2.0",
            "_view_name": "LayoutView",
            "align_content": null,
            "align_items": null,
            "align_self": null,
            "border": null,
            "bottom": null,
            "display": null,
            "flex": null,
            "flex_flow": null,
            "grid_area": null,
            "grid_auto_columns": null,
            "grid_auto_flow": null,
            "grid_auto_rows": null,
            "grid_column": null,
            "grid_gap": null,
            "grid_row": null,
            "grid_template_areas": null,
            "grid_template_columns": null,
            "grid_template_rows": null,
            "height": null,
            "justify_content": null,
            "justify_items": null,
            "left": null,
            "margin": null,
            "max_height": null,
            "max_width": null,
            "min_height": null,
            "min_width": null,
            "object_fit": null,
            "object_position": null,
            "order": null,
            "overflow": null,
            "overflow_x": null,
            "overflow_y": null,
            "padding": null,
            "right": null,
            "top": null,
            "visibility": null,
            "width": null
          }
        },
        "0edf927d300041f2bea71a28b1ba9afa": {
          "model_module": "@jupyter-widgets/controls",
          "model_name": "DescriptionStyleModel",
          "model_module_version": "1.5.0",
          "state": {
            "_model_module": "@jupyter-widgets/controls",
            "_model_module_version": "1.5.0",
            "_model_name": "DescriptionStyleModel",
            "_view_count": null,
            "_view_module": "@jupyter-widgets/base",
            "_view_module_version": "1.2.0",
            "_view_name": "StyleView",
            "description_width": ""
          }
        },
        "c33f3491a54d42379af4c9cbbdd67abc": {
          "model_module": "@jupyter-widgets/controls",
          "model_name": "HBoxModel",
          "model_module_version": "1.5.0",
          "state": {
            "_dom_classes": [],
            "_model_module": "@jupyter-widgets/controls",
            "_model_module_version": "1.5.0",
            "_model_name": "HBoxModel",
            "_view_count": null,
            "_view_module": "@jupyter-widgets/controls",
            "_view_module_version": "1.5.0",
            "_view_name": "HBoxView",
            "box_style": "",
            "children": [
              "IPY_MODEL_2d2eded86e424cb186c9bbd52a81b8d1",
              "IPY_MODEL_0f24f23834db425496daf0fb9e9b59eb",
              "IPY_MODEL_4e7001e9338840fab4e641e916e3aa39"
            ],
            "layout": "IPY_MODEL_e244ba18cc724014a94e00a1ff0a21c1"
          }
        },
        "2d2eded86e424cb186c9bbd52a81b8d1": {
          "model_module": "@jupyter-widgets/controls",
          "model_name": "HTMLModel",
          "model_module_version": "1.5.0",
          "state": {
            "_dom_classes": [],
            "_model_module": "@jupyter-widgets/controls",
            "_model_module_version": "1.5.0",
            "_model_name": "HTMLModel",
            "_view_count": null,
            "_view_module": "@jupyter-widgets/controls",
            "_view_module_version": "1.5.0",
            "_view_name": "HTMLView",
            "description": "",
            "description_tooltip": null,
            "layout": "IPY_MODEL_fe05de46819349948e8aef307f907c3f",
            "placeholder": "​",
            "style": "IPY_MODEL_d39e4b4507194390bddb5cc7564c0dbb",
            "value": "100%"
          }
        },
        "0f24f23834db425496daf0fb9e9b59eb": {
          "model_module": "@jupyter-widgets/controls",
          "model_name": "FloatProgressModel",
          "model_module_version": "1.5.0",
          "state": {
            "_dom_classes": [],
            "_model_module": "@jupyter-widgets/controls",
            "_model_module_version": "1.5.0",
            "_model_name": "FloatProgressModel",
            "_view_count": null,
            "_view_module": "@jupyter-widgets/controls",
            "_view_module_version": "1.5.0",
            "_view_name": "ProgressView",
            "bar_style": "success",
            "description": "",
            "description_tooltip": null,
            "layout": "IPY_MODEL_12a4f059b9db48cf95495392a3e50771",
            "max": 10,
            "min": 0,
            "orientation": "horizontal",
            "style": "IPY_MODEL_f08faa9c8252412491c04cfdb604eacf",
            "value": 10
          }
        },
        "4e7001e9338840fab4e641e916e3aa39": {
          "model_module": "@jupyter-widgets/controls",
          "model_name": "HTMLModel",
          "model_module_version": "1.5.0",
          "state": {
            "_dom_classes": [],
            "_model_module": "@jupyter-widgets/controls",
            "_model_module_version": "1.5.0",
            "_model_name": "HTMLModel",
            "_view_count": null,
            "_view_module": "@jupyter-widgets/controls",
            "_view_module_version": "1.5.0",
            "_view_name": "HTMLView",
            "description": "",
            "description_tooltip": null,
            "layout": "IPY_MODEL_a8fc302793d14a5b9c9d52ee3c33f76d",
            "placeholder": "​",
            "style": "IPY_MODEL_759dd4a3b67e4e2e8d6f3f53609654c6",
            "value": " 10/10 [05:10&lt;00:00, 30.67s/it]"
          }
        },
        "e244ba18cc724014a94e00a1ff0a21c1": {
          "model_module": "@jupyter-widgets/base",
          "model_name": "LayoutModel",
          "model_module_version": "1.2.0",
          "state": {
            "_model_module": "@jupyter-widgets/base",
            "_model_module_version": "1.2.0",
            "_model_name": "LayoutModel",
            "_view_count": null,
            "_view_module": "@jupyter-widgets/base",
            "_view_module_version": "1.2.0",
            "_view_name": "LayoutView",
            "align_content": null,
            "align_items": null,
            "align_self": null,
            "border": null,
            "bottom": null,
            "display": null,
            "flex": null,
            "flex_flow": null,
            "grid_area": null,
            "grid_auto_columns": null,
            "grid_auto_flow": null,
            "grid_auto_rows": null,
            "grid_column": null,
            "grid_gap": null,
            "grid_row": null,
            "grid_template_areas": null,
            "grid_template_columns": null,
            "grid_template_rows": null,
            "height": null,
            "justify_content": null,
            "justify_items": null,
            "left": null,
            "margin": null,
            "max_height": null,
            "max_width": null,
            "min_height": null,
            "min_width": null,
            "object_fit": null,
            "object_position": null,
            "order": null,
            "overflow": null,
            "overflow_x": null,
            "overflow_y": null,
            "padding": null,
            "right": null,
            "top": null,
            "visibility": null,
            "width": null
          }
        },
        "fe05de46819349948e8aef307f907c3f": {
          "model_module": "@jupyter-widgets/base",
          "model_name": "LayoutModel",
          "model_module_version": "1.2.0",
          "state": {
            "_model_module": "@jupyter-widgets/base",
            "_model_module_version": "1.2.0",
            "_model_name": "LayoutModel",
            "_view_count": null,
            "_view_module": "@jupyter-widgets/base",
            "_view_module_version": "1.2.0",
            "_view_name": "LayoutView",
            "align_content": null,
            "align_items": null,
            "align_self": null,
            "border": null,
            "bottom": null,
            "display": null,
            "flex": null,
            "flex_flow": null,
            "grid_area": null,
            "grid_auto_columns": null,
            "grid_auto_flow": null,
            "grid_auto_rows": null,
            "grid_column": null,
            "grid_gap": null,
            "grid_row": null,
            "grid_template_areas": null,
            "grid_template_columns": null,
            "grid_template_rows": null,
            "height": null,
            "justify_content": null,
            "justify_items": null,
            "left": null,
            "margin": null,
            "max_height": null,
            "max_width": null,
            "min_height": null,
            "min_width": null,
            "object_fit": null,
            "object_position": null,
            "order": null,
            "overflow": null,
            "overflow_x": null,
            "overflow_y": null,
            "padding": null,
            "right": null,
            "top": null,
            "visibility": null,
            "width": null
          }
        },
        "d39e4b4507194390bddb5cc7564c0dbb": {
          "model_module": "@jupyter-widgets/controls",
          "model_name": "DescriptionStyleModel",
          "model_module_version": "1.5.0",
          "state": {
            "_model_module": "@jupyter-widgets/controls",
            "_model_module_version": "1.5.0",
            "_model_name": "DescriptionStyleModel",
            "_view_count": null,
            "_view_module": "@jupyter-widgets/base",
            "_view_module_version": "1.2.0",
            "_view_name": "StyleView",
            "description_width": ""
          }
        },
        "12a4f059b9db48cf95495392a3e50771": {
          "model_module": "@jupyter-widgets/base",
          "model_name": "LayoutModel",
          "model_module_version": "1.2.0",
          "state": {
            "_model_module": "@jupyter-widgets/base",
            "_model_module_version": "1.2.0",
            "_model_name": "LayoutModel",
            "_view_count": null,
            "_view_module": "@jupyter-widgets/base",
            "_view_module_version": "1.2.0",
            "_view_name": "LayoutView",
            "align_content": null,
            "align_items": null,
            "align_self": null,
            "border": null,
            "bottom": null,
            "display": null,
            "flex": null,
            "flex_flow": null,
            "grid_area": null,
            "grid_auto_columns": null,
            "grid_auto_flow": null,
            "grid_auto_rows": null,
            "grid_column": null,
            "grid_gap": null,
            "grid_row": null,
            "grid_template_areas": null,
            "grid_template_columns": null,
            "grid_template_rows": null,
            "height": null,
            "justify_content": null,
            "justify_items": null,
            "left": null,
            "margin": null,
            "max_height": null,
            "max_width": null,
            "min_height": null,
            "min_width": null,
            "object_fit": null,
            "object_position": null,
            "order": null,
            "overflow": null,
            "overflow_x": null,
            "overflow_y": null,
            "padding": null,
            "right": null,
            "top": null,
            "visibility": null,
            "width": null
          }
        },
        "f08faa9c8252412491c04cfdb604eacf": {
          "model_module": "@jupyter-widgets/controls",
          "model_name": "ProgressStyleModel",
          "model_module_version": "1.5.0",
          "state": {
            "_model_module": "@jupyter-widgets/controls",
            "_model_module_version": "1.5.0",
            "_model_name": "ProgressStyleModel",
            "_view_count": null,
            "_view_module": "@jupyter-widgets/base",
            "_view_module_version": "1.2.0",
            "_view_name": "StyleView",
            "bar_color": null,
            "description_width": ""
          }
        },
        "a8fc302793d14a5b9c9d52ee3c33f76d": {
          "model_module": "@jupyter-widgets/base",
          "model_name": "LayoutModel",
          "model_module_version": "1.2.0",
          "state": {
            "_model_module": "@jupyter-widgets/base",
            "_model_module_version": "1.2.0",
            "_model_name": "LayoutModel",
            "_view_count": null,
            "_view_module": "@jupyter-widgets/base",
            "_view_module_version": "1.2.0",
            "_view_name": "LayoutView",
            "align_content": null,
            "align_items": null,
            "align_self": null,
            "border": null,
            "bottom": null,
            "display": null,
            "flex": null,
            "flex_flow": null,
            "grid_area": null,
            "grid_auto_columns": null,
            "grid_auto_flow": null,
            "grid_auto_rows": null,
            "grid_column": null,
            "grid_gap": null,
            "grid_row": null,
            "grid_template_areas": null,
            "grid_template_columns": null,
            "grid_template_rows": null,
            "height": null,
            "justify_content": null,
            "justify_items": null,
            "left": null,
            "margin": null,
            "max_height": null,
            "max_width": null,
            "min_height": null,
            "min_width": null,
            "object_fit": null,
            "object_position": null,
            "order": null,
            "overflow": null,
            "overflow_x": null,
            "overflow_y": null,
            "padding": null,
            "right": null,
            "top": null,
            "visibility": null,
            "width": null
          }
        },
        "759dd4a3b67e4e2e8d6f3f53609654c6": {
          "model_module": "@jupyter-widgets/controls",
          "model_name": "DescriptionStyleModel",
          "model_module_version": "1.5.0",
          "state": {
            "_model_module": "@jupyter-widgets/controls",
            "_model_module_version": "1.5.0",
            "_model_name": "DescriptionStyleModel",
            "_view_count": null,
            "_view_module": "@jupyter-widgets/base",
            "_view_module_version": "1.2.0",
            "_view_name": "StyleView",
            "description_width": ""
          }
        },
        "e2089a2376824913ab8950901fb2268b": {
          "model_module": "@jupyter-widgets/controls",
          "model_name": "HBoxModel",
          "model_module_version": "1.5.0",
          "state": {
            "_dom_classes": [],
            "_model_module": "@jupyter-widgets/controls",
            "_model_module_version": "1.5.0",
            "_model_name": "HBoxModel",
            "_view_count": null,
            "_view_module": "@jupyter-widgets/controls",
            "_view_module_version": "1.5.0",
            "_view_name": "HBoxView",
            "box_style": "",
            "children": [
              "IPY_MODEL_c1f24929fa954e679081fc5a3906daa7",
              "IPY_MODEL_970fe103c0844626b020aa61dee62a5c",
              "IPY_MODEL_8fabf2bf9d774142a6885be82e6ddd91"
            ],
            "layout": "IPY_MODEL_f4ab09f487bf446b848e06f26289a0f8"
          }
        },
        "c1f24929fa954e679081fc5a3906daa7": {
          "model_module": "@jupyter-widgets/controls",
          "model_name": "HTMLModel",
          "model_module_version": "1.5.0",
          "state": {
            "_dom_classes": [],
            "_model_module": "@jupyter-widgets/controls",
            "_model_module_version": "1.5.0",
            "_model_name": "HTMLModel",
            "_view_count": null,
            "_view_module": "@jupyter-widgets/controls",
            "_view_module_version": "1.5.0",
            "_view_name": "HTMLView",
            "description": "",
            "description_tooltip": null,
            "layout": "IPY_MODEL_6b05f0b451e7451cb57c9856e6f7776b",
            "placeholder": "​",
            "style": "IPY_MODEL_6940e85a5aa7404abfabd788752580c6",
            "value": "100%"
          }
        },
        "970fe103c0844626b020aa61dee62a5c": {
          "model_module": "@jupyter-widgets/controls",
          "model_name": "FloatProgressModel",
          "model_module_version": "1.5.0",
          "state": {
            "_dom_classes": [],
            "_model_module": "@jupyter-widgets/controls",
            "_model_module_version": "1.5.0",
            "_model_name": "FloatProgressModel",
            "_view_count": null,
            "_view_module": "@jupyter-widgets/controls",
            "_view_module_version": "1.5.0",
            "_view_name": "ProgressView",
            "bar_style": "success",
            "description": "",
            "description_tooltip": null,
            "layout": "IPY_MODEL_b91785ded7164b5d973cda42fcd01e32",
            "max": 346328529,
            "min": 0,
            "orientation": "horizontal",
            "style": "IPY_MODEL_60e1e9268aec48a89d0e1a0484fa33b5",
            "value": 346328529
          }
        },
        "8fabf2bf9d774142a6885be82e6ddd91": {
          "model_module": "@jupyter-widgets/controls",
          "model_name": "HTMLModel",
          "model_module_version": "1.5.0",
          "state": {
            "_dom_classes": [],
            "_model_module": "@jupyter-widgets/controls",
            "_model_module_version": "1.5.0",
            "_model_name": "HTMLModel",
            "_view_count": null,
            "_view_module": "@jupyter-widgets/controls",
            "_view_module_version": "1.5.0",
            "_view_name": "HTMLView",
            "description": "",
            "description_tooltip": null,
            "layout": "IPY_MODEL_c52d824661504b8abaf55d15bbb48ab3",
            "placeholder": "​",
            "style": "IPY_MODEL_2d7545b9a4a942aea74551d22539bf08",
            "value": " 330M/330M [00:02&lt;00:00, 201MB/s]"
          }
        },
        "f4ab09f487bf446b848e06f26289a0f8": {
          "model_module": "@jupyter-widgets/base",
          "model_name": "LayoutModel",
          "model_module_version": "1.2.0",
          "state": {
            "_model_module": "@jupyter-widgets/base",
            "_model_module_version": "1.2.0",
            "_model_name": "LayoutModel",
            "_view_count": null,
            "_view_module": "@jupyter-widgets/base",
            "_view_module_version": "1.2.0",
            "_view_name": "LayoutView",
            "align_content": null,
            "align_items": null,
            "align_self": null,
            "border": null,
            "bottom": null,
            "display": null,
            "flex": null,
            "flex_flow": null,
            "grid_area": null,
            "grid_auto_columns": null,
            "grid_auto_flow": null,
            "grid_auto_rows": null,
            "grid_column": null,
            "grid_gap": null,
            "grid_row": null,
            "grid_template_areas": null,
            "grid_template_columns": null,
            "grid_template_rows": null,
            "height": null,
            "justify_content": null,
            "justify_items": null,
            "left": null,
            "margin": null,
            "max_height": null,
            "max_width": null,
            "min_height": null,
            "min_width": null,
            "object_fit": null,
            "object_position": null,
            "order": null,
            "overflow": null,
            "overflow_x": null,
            "overflow_y": null,
            "padding": null,
            "right": null,
            "top": null,
            "visibility": null,
            "width": null
          }
        },
        "6b05f0b451e7451cb57c9856e6f7776b": {
          "model_module": "@jupyter-widgets/base",
          "model_name": "LayoutModel",
          "model_module_version": "1.2.0",
          "state": {
            "_model_module": "@jupyter-widgets/base",
            "_model_module_version": "1.2.0",
            "_model_name": "LayoutModel",
            "_view_count": null,
            "_view_module": "@jupyter-widgets/base",
            "_view_module_version": "1.2.0",
            "_view_name": "LayoutView",
            "align_content": null,
            "align_items": null,
            "align_self": null,
            "border": null,
            "bottom": null,
            "display": null,
            "flex": null,
            "flex_flow": null,
            "grid_area": null,
            "grid_auto_columns": null,
            "grid_auto_flow": null,
            "grid_auto_rows": null,
            "grid_column": null,
            "grid_gap": null,
            "grid_row": null,
            "grid_template_areas": null,
            "grid_template_columns": null,
            "grid_template_rows": null,
            "height": null,
            "justify_content": null,
            "justify_items": null,
            "left": null,
            "margin": null,
            "max_height": null,
            "max_width": null,
            "min_height": null,
            "min_width": null,
            "object_fit": null,
            "object_position": null,
            "order": null,
            "overflow": null,
            "overflow_x": null,
            "overflow_y": null,
            "padding": null,
            "right": null,
            "top": null,
            "visibility": null,
            "width": null
          }
        },
        "6940e85a5aa7404abfabd788752580c6": {
          "model_module": "@jupyter-widgets/controls",
          "model_name": "DescriptionStyleModel",
          "model_module_version": "1.5.0",
          "state": {
            "_model_module": "@jupyter-widgets/controls",
            "_model_module_version": "1.5.0",
            "_model_name": "DescriptionStyleModel",
            "_view_count": null,
            "_view_module": "@jupyter-widgets/base",
            "_view_module_version": "1.2.0",
            "_view_name": "StyleView",
            "description_width": ""
          }
        },
        "b91785ded7164b5d973cda42fcd01e32": {
          "model_module": "@jupyter-widgets/base",
          "model_name": "LayoutModel",
          "model_module_version": "1.2.0",
          "state": {
            "_model_module": "@jupyter-widgets/base",
            "_model_module_version": "1.2.0",
            "_model_name": "LayoutModel",
            "_view_count": null,
            "_view_module": "@jupyter-widgets/base",
            "_view_module_version": "1.2.0",
            "_view_name": "LayoutView",
            "align_content": null,
            "align_items": null,
            "align_self": null,
            "border": null,
            "bottom": null,
            "display": null,
            "flex": null,
            "flex_flow": null,
            "grid_area": null,
            "grid_auto_columns": null,
            "grid_auto_flow": null,
            "grid_auto_rows": null,
            "grid_column": null,
            "grid_gap": null,
            "grid_row": null,
            "grid_template_areas": null,
            "grid_template_columns": null,
            "grid_template_rows": null,
            "height": null,
            "justify_content": null,
            "justify_items": null,
            "left": null,
            "margin": null,
            "max_height": null,
            "max_width": null,
            "min_height": null,
            "min_width": null,
            "object_fit": null,
            "object_position": null,
            "order": null,
            "overflow": null,
            "overflow_x": null,
            "overflow_y": null,
            "padding": null,
            "right": null,
            "top": null,
            "visibility": null,
            "width": null
          }
        },
        "60e1e9268aec48a89d0e1a0484fa33b5": {
          "model_module": "@jupyter-widgets/controls",
          "model_name": "ProgressStyleModel",
          "model_module_version": "1.5.0",
          "state": {
            "_model_module": "@jupyter-widgets/controls",
            "_model_module_version": "1.5.0",
            "_model_name": "ProgressStyleModel",
            "_view_count": null,
            "_view_module": "@jupyter-widgets/base",
            "_view_module_version": "1.2.0",
            "_view_name": "StyleView",
            "bar_color": null,
            "description_width": ""
          }
        },
        "c52d824661504b8abaf55d15bbb48ab3": {
          "model_module": "@jupyter-widgets/base",
          "model_name": "LayoutModel",
          "model_module_version": "1.2.0",
          "state": {
            "_model_module": "@jupyter-widgets/base",
            "_model_module_version": "1.2.0",
            "_model_name": "LayoutModel",
            "_view_count": null,
            "_view_module": "@jupyter-widgets/base",
            "_view_module_version": "1.2.0",
            "_view_name": "LayoutView",
            "align_content": null,
            "align_items": null,
            "align_self": null,
            "border": null,
            "bottom": null,
            "display": null,
            "flex": null,
            "flex_flow": null,
            "grid_area": null,
            "grid_auto_columns": null,
            "grid_auto_flow": null,
            "grid_auto_rows": null,
            "grid_column": null,
            "grid_gap": null,
            "grid_row": null,
            "grid_template_areas": null,
            "grid_template_columns": null,
            "grid_template_rows": null,
            "height": null,
            "justify_content": null,
            "justify_items": null,
            "left": null,
            "margin": null,
            "max_height": null,
            "max_width": null,
            "min_height": null,
            "min_width": null,
            "object_fit": null,
            "object_position": null,
            "order": null,
            "overflow": null,
            "overflow_x": null,
            "overflow_y": null,
            "padding": null,
            "right": null,
            "top": null,
            "visibility": null,
            "width": null
          }
        },
        "2d7545b9a4a942aea74551d22539bf08": {
          "model_module": "@jupyter-widgets/controls",
          "model_name": "DescriptionStyleModel",
          "model_module_version": "1.5.0",
          "state": {
            "_model_module": "@jupyter-widgets/controls",
            "_model_module_version": "1.5.0",
            "_model_name": "DescriptionStyleModel",
            "_view_count": null,
            "_view_module": "@jupyter-widgets/base",
            "_view_module_version": "1.2.0",
            "_view_name": "StyleView",
            "description_width": ""
          }
        },
        "a9b50ab4a0e643548824470324912487": {
          "model_module": "@jupyter-widgets/controls",
          "model_name": "HBoxModel",
          "model_module_version": "1.5.0",
          "state": {
            "_dom_classes": [],
            "_model_module": "@jupyter-widgets/controls",
            "_model_module_version": "1.5.0",
            "_model_name": "HBoxModel",
            "_view_count": null,
            "_view_module": "@jupyter-widgets/controls",
            "_view_module_version": "1.5.0",
            "_view_name": "HBoxView",
            "box_style": "",
            "children": [
              "IPY_MODEL_c7f7181c18ef4198b4acb5e1b147bc4d",
              "IPY_MODEL_442c245c1095413eafada33ad578bca7",
              "IPY_MODEL_967faede5df04708a2808d00b8bfa69e"
            ],
            "layout": "IPY_MODEL_a401cff2e25444ac9154f49e9ce73c25"
          }
        },
        "c7f7181c18ef4198b4acb5e1b147bc4d": {
          "model_module": "@jupyter-widgets/controls",
          "model_name": "HTMLModel",
          "model_module_version": "1.5.0",
          "state": {
            "_dom_classes": [],
            "_model_module": "@jupyter-widgets/controls",
            "_model_module_version": "1.5.0",
            "_model_name": "HTMLModel",
            "_view_count": null,
            "_view_module": "@jupyter-widgets/controls",
            "_view_module_version": "1.5.0",
            "_view_name": "HTMLView",
            "description": "",
            "description_tooltip": null,
            "layout": "IPY_MODEL_e032f67c8e3f4cffa53b12aedbec5295",
            "placeholder": "​",
            "style": "IPY_MODEL_cf657809bf874ed4af432509dd1c5e3b",
            "value": "100%"
          }
        },
        "442c245c1095413eafada33ad578bca7": {
          "model_module": "@jupyter-widgets/controls",
          "model_name": "FloatProgressModel",
          "model_module_version": "1.5.0",
          "state": {
            "_dom_classes": [],
            "_model_module": "@jupyter-widgets/controls",
            "_model_module_version": "1.5.0",
            "_model_name": "FloatProgressModel",
            "_view_count": null,
            "_view_module": "@jupyter-widgets/controls",
            "_view_module_version": "1.5.0",
            "_view_name": "ProgressView",
            "bar_style": "success",
            "description": "",
            "description_tooltip": null,
            "layout": "IPY_MODEL_88088a6b006848c68bdb5cf87e3cdf32",
            "max": 10,
            "min": 0,
            "orientation": "horizontal",
            "style": "IPY_MODEL_b86489a9f3184c59a81366a2ba768eb5",
            "value": 10
          }
        },
        "967faede5df04708a2808d00b8bfa69e": {
          "model_module": "@jupyter-widgets/controls",
          "model_name": "HTMLModel",
          "model_module_version": "1.5.0",
          "state": {
            "_dom_classes": [],
            "_model_module": "@jupyter-widgets/controls",
            "_model_module_version": "1.5.0",
            "_model_name": "HTMLModel",
            "_view_count": null,
            "_view_module": "@jupyter-widgets/controls",
            "_view_module_version": "1.5.0",
            "_view_name": "HTMLView",
            "description": "",
            "description_tooltip": null,
            "layout": "IPY_MODEL_5bfef05b2aaa4e8fb7b3d81c9390ced3",
            "placeholder": "​",
            "style": "IPY_MODEL_0bc6484e76164aaf9956f339d38a4656",
            "value": " 10/10 [09:13&lt;00:00, 54.67s/it]"
          }
        },
        "a401cff2e25444ac9154f49e9ce73c25": {
          "model_module": "@jupyter-widgets/base",
          "model_name": "LayoutModel",
          "model_module_version": "1.2.0",
          "state": {
            "_model_module": "@jupyter-widgets/base",
            "_model_module_version": "1.2.0",
            "_model_name": "LayoutModel",
            "_view_count": null,
            "_view_module": "@jupyter-widgets/base",
            "_view_module_version": "1.2.0",
            "_view_name": "LayoutView",
            "align_content": null,
            "align_items": null,
            "align_self": null,
            "border": null,
            "bottom": null,
            "display": null,
            "flex": null,
            "flex_flow": null,
            "grid_area": null,
            "grid_auto_columns": null,
            "grid_auto_flow": null,
            "grid_auto_rows": null,
            "grid_column": null,
            "grid_gap": null,
            "grid_row": null,
            "grid_template_areas": null,
            "grid_template_columns": null,
            "grid_template_rows": null,
            "height": null,
            "justify_content": null,
            "justify_items": null,
            "left": null,
            "margin": null,
            "max_height": null,
            "max_width": null,
            "min_height": null,
            "min_width": null,
            "object_fit": null,
            "object_position": null,
            "order": null,
            "overflow": null,
            "overflow_x": null,
            "overflow_y": null,
            "padding": null,
            "right": null,
            "top": null,
            "visibility": null,
            "width": null
          }
        },
        "e032f67c8e3f4cffa53b12aedbec5295": {
          "model_module": "@jupyter-widgets/base",
          "model_name": "LayoutModel",
          "model_module_version": "1.2.0",
          "state": {
            "_model_module": "@jupyter-widgets/base",
            "_model_module_version": "1.2.0",
            "_model_name": "LayoutModel",
            "_view_count": null,
            "_view_module": "@jupyter-widgets/base",
            "_view_module_version": "1.2.0",
            "_view_name": "LayoutView",
            "align_content": null,
            "align_items": null,
            "align_self": null,
            "border": null,
            "bottom": null,
            "display": null,
            "flex": null,
            "flex_flow": null,
            "grid_area": null,
            "grid_auto_columns": null,
            "grid_auto_flow": null,
            "grid_auto_rows": null,
            "grid_column": null,
            "grid_gap": null,
            "grid_row": null,
            "grid_template_areas": null,
            "grid_template_columns": null,
            "grid_template_rows": null,
            "height": null,
            "justify_content": null,
            "justify_items": null,
            "left": null,
            "margin": null,
            "max_height": null,
            "max_width": null,
            "min_height": null,
            "min_width": null,
            "object_fit": null,
            "object_position": null,
            "order": null,
            "overflow": null,
            "overflow_x": null,
            "overflow_y": null,
            "padding": null,
            "right": null,
            "top": null,
            "visibility": null,
            "width": null
          }
        },
        "cf657809bf874ed4af432509dd1c5e3b": {
          "model_module": "@jupyter-widgets/controls",
          "model_name": "DescriptionStyleModel",
          "model_module_version": "1.5.0",
          "state": {
            "_model_module": "@jupyter-widgets/controls",
            "_model_module_version": "1.5.0",
            "_model_name": "DescriptionStyleModel",
            "_view_count": null,
            "_view_module": "@jupyter-widgets/base",
            "_view_module_version": "1.2.0",
            "_view_name": "StyleView",
            "description_width": ""
          }
        },
        "88088a6b006848c68bdb5cf87e3cdf32": {
          "model_module": "@jupyter-widgets/base",
          "model_name": "LayoutModel",
          "model_module_version": "1.2.0",
          "state": {
            "_model_module": "@jupyter-widgets/base",
            "_model_module_version": "1.2.0",
            "_model_name": "LayoutModel",
            "_view_count": null,
            "_view_module": "@jupyter-widgets/base",
            "_view_module_version": "1.2.0",
            "_view_name": "LayoutView",
            "align_content": null,
            "align_items": null,
            "align_self": null,
            "border": null,
            "bottom": null,
            "display": null,
            "flex": null,
            "flex_flow": null,
            "grid_area": null,
            "grid_auto_columns": null,
            "grid_auto_flow": null,
            "grid_auto_rows": null,
            "grid_column": null,
            "grid_gap": null,
            "grid_row": null,
            "grid_template_areas": null,
            "grid_template_columns": null,
            "grid_template_rows": null,
            "height": null,
            "justify_content": null,
            "justify_items": null,
            "left": null,
            "margin": null,
            "max_height": null,
            "max_width": null,
            "min_height": null,
            "min_width": null,
            "object_fit": null,
            "object_position": null,
            "order": null,
            "overflow": null,
            "overflow_x": null,
            "overflow_y": null,
            "padding": null,
            "right": null,
            "top": null,
            "visibility": null,
            "width": null
          }
        },
        "b86489a9f3184c59a81366a2ba768eb5": {
          "model_module": "@jupyter-widgets/controls",
          "model_name": "ProgressStyleModel",
          "model_module_version": "1.5.0",
          "state": {
            "_model_module": "@jupyter-widgets/controls",
            "_model_module_version": "1.5.0",
            "_model_name": "ProgressStyleModel",
            "_view_count": null,
            "_view_module": "@jupyter-widgets/base",
            "_view_module_version": "1.2.0",
            "_view_name": "StyleView",
            "bar_color": null,
            "description_width": ""
          }
        },
        "5bfef05b2aaa4e8fb7b3d81c9390ced3": {
          "model_module": "@jupyter-widgets/base",
          "model_name": "LayoutModel",
          "model_module_version": "1.2.0",
          "state": {
            "_model_module": "@jupyter-widgets/base",
            "_model_module_version": "1.2.0",
            "_model_name": "LayoutModel",
            "_view_count": null,
            "_view_module": "@jupyter-widgets/base",
            "_view_module_version": "1.2.0",
            "_view_name": "LayoutView",
            "align_content": null,
            "align_items": null,
            "align_self": null,
            "border": null,
            "bottom": null,
            "display": null,
            "flex": null,
            "flex_flow": null,
            "grid_area": null,
            "grid_auto_columns": null,
            "grid_auto_flow": null,
            "grid_auto_rows": null,
            "grid_column": null,
            "grid_gap": null,
            "grid_row": null,
            "grid_template_areas": null,
            "grid_template_columns": null,
            "grid_template_rows": null,
            "height": null,
            "justify_content": null,
            "justify_items": null,
            "left": null,
            "margin": null,
            "max_height": null,
            "max_width": null,
            "min_height": null,
            "min_width": null,
            "object_fit": null,
            "object_position": null,
            "order": null,
            "overflow": null,
            "overflow_x": null,
            "overflow_y": null,
            "padding": null,
            "right": null,
            "top": null,
            "visibility": null,
            "width": null
          }
        },
        "0bc6484e76164aaf9956f339d38a4656": {
          "model_module": "@jupyter-widgets/controls",
          "model_name": "DescriptionStyleModel",
          "model_module_version": "1.5.0",
          "state": {
            "_model_module": "@jupyter-widgets/controls",
            "_model_module_version": "1.5.0",
            "_model_name": "DescriptionStyleModel",
            "_view_count": null,
            "_view_module": "@jupyter-widgets/base",
            "_view_module_version": "1.2.0",
            "_view_name": "StyleView",
            "description_width": ""
          }
        },
        "0696c5ed50704da2b87fd0f3b35432a6": {
          "model_module": "@jupyter-widgets/controls",
          "model_name": "HBoxModel",
          "model_module_version": "1.5.0",
          "state": {
            "_dom_classes": [],
            "_model_module": "@jupyter-widgets/controls",
            "_model_module_version": "1.5.0",
            "_model_name": "HBoxModel",
            "_view_count": null,
            "_view_module": "@jupyter-widgets/controls",
            "_view_module_version": "1.5.0",
            "_view_name": "HBoxView",
            "box_style": "",
            "children": [
              "IPY_MODEL_ec819e0a60ae4983ae132dc181b58cec",
              "IPY_MODEL_5b9bfc1e99f146fe9d0d15559d06f12c",
              "IPY_MODEL_d71a735dfab74e0cb642cbd8378bc490"
            ],
            "layout": "IPY_MODEL_4baa55e0278a4f0092ef49c15dfe915b"
          }
        },
        "ec819e0a60ae4983ae132dc181b58cec": {
          "model_module": "@jupyter-widgets/controls",
          "model_name": "HTMLModel",
          "model_module_version": "1.5.0",
          "state": {
            "_dom_classes": [],
            "_model_module": "@jupyter-widgets/controls",
            "_model_module_version": "1.5.0",
            "_model_name": "HTMLModel",
            "_view_count": null,
            "_view_module": "@jupyter-widgets/controls",
            "_view_module_version": "1.5.0",
            "_view_name": "HTMLView",
            "description": "",
            "description_tooltip": null,
            "layout": "IPY_MODEL_384c462b1e7a4b75b016b8de2e69833f",
            "placeholder": "​",
            "style": "IPY_MODEL_3dbc5bf8426f4df78b170444bc7d668e",
            "value": "100%"
          }
        },
        "5b9bfc1e99f146fe9d0d15559d06f12c": {
          "model_module": "@jupyter-widgets/controls",
          "model_name": "FloatProgressModel",
          "model_module_version": "1.5.0",
          "state": {
            "_dom_classes": [],
            "_model_module": "@jupyter-widgets/controls",
            "_model_module_version": "1.5.0",
            "_model_name": "FloatProgressModel",
            "_view_count": null,
            "_view_module": "@jupyter-widgets/controls",
            "_view_module_version": "1.5.0",
            "_view_name": "ProgressView",
            "bar_style": "success",
            "description": "",
            "description_tooltip": null,
            "layout": "IPY_MODEL_8feabd793b244f03ba46dcdba30d9faa",
            "max": 334,
            "min": 0,
            "orientation": "horizontal",
            "style": "IPY_MODEL_d130f0b49b714bb2902cd33cc6ec7fd0",
            "value": 334
          }
        },
        "d71a735dfab74e0cb642cbd8378bc490": {
          "model_module": "@jupyter-widgets/controls",
          "model_name": "HTMLModel",
          "model_module_version": "1.5.0",
          "state": {
            "_dom_classes": [],
            "_model_module": "@jupyter-widgets/controls",
            "_model_module_version": "1.5.0",
            "_model_name": "HTMLModel",
            "_view_count": null,
            "_view_module": "@jupyter-widgets/controls",
            "_view_module_version": "1.5.0",
            "_view_name": "HTMLView",
            "description": "",
            "description_tooltip": null,
            "layout": "IPY_MODEL_0373de2561de466682191ffa2bc44313",
            "placeholder": "​",
            "style": "IPY_MODEL_6584ba34c4514834a0e54c89b6df4de2",
            "value": " 334/334 [00:43&lt;00:00,  8.76it/s]"
          }
        },
        "4baa55e0278a4f0092ef49c15dfe915b": {
          "model_module": "@jupyter-widgets/base",
          "model_name": "LayoutModel",
          "model_module_version": "1.2.0",
          "state": {
            "_model_module": "@jupyter-widgets/base",
            "_model_module_version": "1.2.0",
            "_model_name": "LayoutModel",
            "_view_count": null,
            "_view_module": "@jupyter-widgets/base",
            "_view_module_version": "1.2.0",
            "_view_name": "LayoutView",
            "align_content": null,
            "align_items": null,
            "align_self": null,
            "border": null,
            "bottom": null,
            "display": null,
            "flex": null,
            "flex_flow": null,
            "grid_area": null,
            "grid_auto_columns": null,
            "grid_auto_flow": null,
            "grid_auto_rows": null,
            "grid_column": null,
            "grid_gap": null,
            "grid_row": null,
            "grid_template_areas": null,
            "grid_template_columns": null,
            "grid_template_rows": null,
            "height": null,
            "justify_content": null,
            "justify_items": null,
            "left": null,
            "margin": null,
            "max_height": null,
            "max_width": null,
            "min_height": null,
            "min_width": null,
            "object_fit": null,
            "object_position": null,
            "order": null,
            "overflow": null,
            "overflow_x": null,
            "overflow_y": null,
            "padding": null,
            "right": null,
            "top": null,
            "visibility": null,
            "width": null
          }
        },
        "384c462b1e7a4b75b016b8de2e69833f": {
          "model_module": "@jupyter-widgets/base",
          "model_name": "LayoutModel",
          "model_module_version": "1.2.0",
          "state": {
            "_model_module": "@jupyter-widgets/base",
            "_model_module_version": "1.2.0",
            "_model_name": "LayoutModel",
            "_view_count": null,
            "_view_module": "@jupyter-widgets/base",
            "_view_module_version": "1.2.0",
            "_view_name": "LayoutView",
            "align_content": null,
            "align_items": null,
            "align_self": null,
            "border": null,
            "bottom": null,
            "display": null,
            "flex": null,
            "flex_flow": null,
            "grid_area": null,
            "grid_auto_columns": null,
            "grid_auto_flow": null,
            "grid_auto_rows": null,
            "grid_column": null,
            "grid_gap": null,
            "grid_row": null,
            "grid_template_areas": null,
            "grid_template_columns": null,
            "grid_template_rows": null,
            "height": null,
            "justify_content": null,
            "justify_items": null,
            "left": null,
            "margin": null,
            "max_height": null,
            "max_width": null,
            "min_height": null,
            "min_width": null,
            "object_fit": null,
            "object_position": null,
            "order": null,
            "overflow": null,
            "overflow_x": null,
            "overflow_y": null,
            "padding": null,
            "right": null,
            "top": null,
            "visibility": null,
            "width": null
          }
        },
        "3dbc5bf8426f4df78b170444bc7d668e": {
          "model_module": "@jupyter-widgets/controls",
          "model_name": "DescriptionStyleModel",
          "model_module_version": "1.5.0",
          "state": {
            "_model_module": "@jupyter-widgets/controls",
            "_model_module_version": "1.5.0",
            "_model_name": "DescriptionStyleModel",
            "_view_count": null,
            "_view_module": "@jupyter-widgets/base",
            "_view_module_version": "1.2.0",
            "_view_name": "StyleView",
            "description_width": ""
          }
        },
        "8feabd793b244f03ba46dcdba30d9faa": {
          "model_module": "@jupyter-widgets/base",
          "model_name": "LayoutModel",
          "model_module_version": "1.2.0",
          "state": {
            "_model_module": "@jupyter-widgets/base",
            "_model_module_version": "1.2.0",
            "_model_name": "LayoutModel",
            "_view_count": null,
            "_view_module": "@jupyter-widgets/base",
            "_view_module_version": "1.2.0",
            "_view_name": "LayoutView",
            "align_content": null,
            "align_items": null,
            "align_self": null,
            "border": null,
            "bottom": null,
            "display": null,
            "flex": null,
            "flex_flow": null,
            "grid_area": null,
            "grid_auto_columns": null,
            "grid_auto_flow": null,
            "grid_auto_rows": null,
            "grid_column": null,
            "grid_gap": null,
            "grid_row": null,
            "grid_template_areas": null,
            "grid_template_columns": null,
            "grid_template_rows": null,
            "height": null,
            "justify_content": null,
            "justify_items": null,
            "left": null,
            "margin": null,
            "max_height": null,
            "max_width": null,
            "min_height": null,
            "min_width": null,
            "object_fit": null,
            "object_position": null,
            "order": null,
            "overflow": null,
            "overflow_x": null,
            "overflow_y": null,
            "padding": null,
            "right": null,
            "top": null,
            "visibility": null,
            "width": null
          }
        },
        "d130f0b49b714bb2902cd33cc6ec7fd0": {
          "model_module": "@jupyter-widgets/controls",
          "model_name": "ProgressStyleModel",
          "model_module_version": "1.5.0",
          "state": {
            "_model_module": "@jupyter-widgets/controls",
            "_model_module_version": "1.5.0",
            "_model_name": "ProgressStyleModel",
            "_view_count": null,
            "_view_module": "@jupyter-widgets/base",
            "_view_module_version": "1.2.0",
            "_view_name": "StyleView",
            "bar_color": null,
            "description_width": ""
          }
        },
        "0373de2561de466682191ffa2bc44313": {
          "model_module": "@jupyter-widgets/base",
          "model_name": "LayoutModel",
          "model_module_version": "1.2.0",
          "state": {
            "_model_module": "@jupyter-widgets/base",
            "_model_module_version": "1.2.0",
            "_model_name": "LayoutModel",
            "_view_count": null,
            "_view_module": "@jupyter-widgets/base",
            "_view_module_version": "1.2.0",
            "_view_name": "LayoutView",
            "align_content": null,
            "align_items": null,
            "align_self": null,
            "border": null,
            "bottom": null,
            "display": null,
            "flex": null,
            "flex_flow": null,
            "grid_area": null,
            "grid_auto_columns": null,
            "grid_auto_flow": null,
            "grid_auto_rows": null,
            "grid_column": null,
            "grid_gap": null,
            "grid_row": null,
            "grid_template_areas": null,
            "grid_template_columns": null,
            "grid_template_rows": null,
            "height": null,
            "justify_content": null,
            "justify_items": null,
            "left": null,
            "margin": null,
            "max_height": null,
            "max_width": null,
            "min_height": null,
            "min_width": null,
            "object_fit": null,
            "object_position": null,
            "order": null,
            "overflow": null,
            "overflow_x": null,
            "overflow_y": null,
            "padding": null,
            "right": null,
            "top": null,
            "visibility": null,
            "width": null
          }
        },
        "6584ba34c4514834a0e54c89b6df4de2": {
          "model_module": "@jupyter-widgets/controls",
          "model_name": "DescriptionStyleModel",
          "model_module_version": "1.5.0",
          "state": {
            "_model_module": "@jupyter-widgets/controls",
            "_model_module_version": "1.5.0",
            "_model_name": "DescriptionStyleModel",
            "_view_count": null,
            "_view_module": "@jupyter-widgets/base",
            "_view_module_version": "1.2.0",
            "_view_name": "StyleView",
            "description_width": ""
          }
        },
        "749a6365592d44268beb3b88971a5b48": {
          "model_module": "@jupyter-widgets/controls",
          "model_name": "HBoxModel",
          "model_module_version": "1.5.0",
          "state": {
            "_dom_classes": [],
            "_model_module": "@jupyter-widgets/controls",
            "_model_module_version": "1.5.0",
            "_model_name": "HBoxModel",
            "_view_count": null,
            "_view_module": "@jupyter-widgets/controls",
            "_view_module_version": "1.5.0",
            "_view_name": "HBoxView",
            "box_style": "",
            "children": [
              "IPY_MODEL_e6d1fcb0e65f49018cf9dcfa43085c50",
              "IPY_MODEL_a9294a2534b24da9aa106786d683d6fa",
              "IPY_MODEL_fbd9dd26a6a34b2dbb5b9a4e7ee9488d"
            ],
            "layout": "IPY_MODEL_d580a8dd62334ded91051137c6b224e1"
          }
        },
        "e6d1fcb0e65f49018cf9dcfa43085c50": {
          "model_module": "@jupyter-widgets/controls",
          "model_name": "HTMLModel",
          "model_module_version": "1.5.0",
          "state": {
            "_dom_classes": [],
            "_model_module": "@jupyter-widgets/controls",
            "_model_module_version": "1.5.0",
            "_model_name": "HTMLModel",
            "_view_count": null,
            "_view_module": "@jupyter-widgets/controls",
            "_view_module_version": "1.5.0",
            "_view_name": "HTMLView",
            "description": "",
            "description_tooltip": null,
            "layout": "IPY_MODEL_284c79bb4ea04d27a665139b2a83ae68",
            "placeholder": "​",
            "style": "IPY_MODEL_e67fa9ba779c4f2eb12b8a1d8fae6319",
            "value": "100%"
          }
        },
        "a9294a2534b24da9aa106786d683d6fa": {
          "model_module": "@jupyter-widgets/controls",
          "model_name": "FloatProgressModel",
          "model_module_version": "1.5.0",
          "state": {
            "_dom_classes": [],
            "_model_module": "@jupyter-widgets/controls",
            "_model_module_version": "1.5.0",
            "_model_name": "FloatProgressModel",
            "_view_count": null,
            "_view_module": "@jupyter-widgets/controls",
            "_view_module_version": "1.5.0",
            "_view_name": "ProgressView",
            "bar_style": "success",
            "description": "",
            "description_tooltip": null,
            "layout": "IPY_MODEL_22380c6bf74240e7945d9cca4a575c0c",
            "max": 334,
            "min": 0,
            "orientation": "horizontal",
            "style": "IPY_MODEL_5a678ea0bfda44ed90dfb74441915728",
            "value": 334
          }
        },
        "fbd9dd26a6a34b2dbb5b9a4e7ee9488d": {
          "model_module": "@jupyter-widgets/controls",
          "model_name": "HTMLModel",
          "model_module_version": "1.5.0",
          "state": {
            "_dom_classes": [],
            "_model_module": "@jupyter-widgets/controls",
            "_model_module_version": "1.5.0",
            "_model_name": "HTMLModel",
            "_view_count": null,
            "_view_module": "@jupyter-widgets/controls",
            "_view_module_version": "1.5.0",
            "_view_name": "HTMLView",
            "description": "",
            "description_tooltip": null,
            "layout": "IPY_MODEL_5b24ec71c8b24dba98be5d583686fe87",
            "placeholder": "​",
            "style": "IPY_MODEL_df282abcbc5f47aa906d440c4552933c",
            "value": " 334/334 [00:20&lt;00:00, 18.84it/s]"
          }
        },
        "d580a8dd62334ded91051137c6b224e1": {
          "model_module": "@jupyter-widgets/base",
          "model_name": "LayoutModel",
          "model_module_version": "1.2.0",
          "state": {
            "_model_module": "@jupyter-widgets/base",
            "_model_module_version": "1.2.0",
            "_model_name": "LayoutModel",
            "_view_count": null,
            "_view_module": "@jupyter-widgets/base",
            "_view_module_version": "1.2.0",
            "_view_name": "LayoutView",
            "align_content": null,
            "align_items": null,
            "align_self": null,
            "border": null,
            "bottom": null,
            "display": null,
            "flex": null,
            "flex_flow": null,
            "grid_area": null,
            "grid_auto_columns": null,
            "grid_auto_flow": null,
            "grid_auto_rows": null,
            "grid_column": null,
            "grid_gap": null,
            "grid_row": null,
            "grid_template_areas": null,
            "grid_template_columns": null,
            "grid_template_rows": null,
            "height": null,
            "justify_content": null,
            "justify_items": null,
            "left": null,
            "margin": null,
            "max_height": null,
            "max_width": null,
            "min_height": null,
            "min_width": null,
            "object_fit": null,
            "object_position": null,
            "order": null,
            "overflow": null,
            "overflow_x": null,
            "overflow_y": null,
            "padding": null,
            "right": null,
            "top": null,
            "visibility": null,
            "width": null
          }
        },
        "284c79bb4ea04d27a665139b2a83ae68": {
          "model_module": "@jupyter-widgets/base",
          "model_name": "LayoutModel",
          "model_module_version": "1.2.0",
          "state": {
            "_model_module": "@jupyter-widgets/base",
            "_model_module_version": "1.2.0",
            "_model_name": "LayoutModel",
            "_view_count": null,
            "_view_module": "@jupyter-widgets/base",
            "_view_module_version": "1.2.0",
            "_view_name": "LayoutView",
            "align_content": null,
            "align_items": null,
            "align_self": null,
            "border": null,
            "bottom": null,
            "display": null,
            "flex": null,
            "flex_flow": null,
            "grid_area": null,
            "grid_auto_columns": null,
            "grid_auto_flow": null,
            "grid_auto_rows": null,
            "grid_column": null,
            "grid_gap": null,
            "grid_row": null,
            "grid_template_areas": null,
            "grid_template_columns": null,
            "grid_template_rows": null,
            "height": null,
            "justify_content": null,
            "justify_items": null,
            "left": null,
            "margin": null,
            "max_height": null,
            "max_width": null,
            "min_height": null,
            "min_width": null,
            "object_fit": null,
            "object_position": null,
            "order": null,
            "overflow": null,
            "overflow_x": null,
            "overflow_y": null,
            "padding": null,
            "right": null,
            "top": null,
            "visibility": null,
            "width": null
          }
        },
        "e67fa9ba779c4f2eb12b8a1d8fae6319": {
          "model_module": "@jupyter-widgets/controls",
          "model_name": "DescriptionStyleModel",
          "model_module_version": "1.5.0",
          "state": {
            "_model_module": "@jupyter-widgets/controls",
            "_model_module_version": "1.5.0",
            "_model_name": "DescriptionStyleModel",
            "_view_count": null,
            "_view_module": "@jupyter-widgets/base",
            "_view_module_version": "1.2.0",
            "_view_name": "StyleView",
            "description_width": ""
          }
        },
        "22380c6bf74240e7945d9cca4a575c0c": {
          "model_module": "@jupyter-widgets/base",
          "model_name": "LayoutModel",
          "model_module_version": "1.2.0",
          "state": {
            "_model_module": "@jupyter-widgets/base",
            "_model_module_version": "1.2.0",
            "_model_name": "LayoutModel",
            "_view_count": null,
            "_view_module": "@jupyter-widgets/base",
            "_view_module_version": "1.2.0",
            "_view_name": "LayoutView",
            "align_content": null,
            "align_items": null,
            "align_self": null,
            "border": null,
            "bottom": null,
            "display": null,
            "flex": null,
            "flex_flow": null,
            "grid_area": null,
            "grid_auto_columns": null,
            "grid_auto_flow": null,
            "grid_auto_rows": null,
            "grid_column": null,
            "grid_gap": null,
            "grid_row": null,
            "grid_template_areas": null,
            "grid_template_columns": null,
            "grid_template_rows": null,
            "height": null,
            "justify_content": null,
            "justify_items": null,
            "left": null,
            "margin": null,
            "max_height": null,
            "max_width": null,
            "min_height": null,
            "min_width": null,
            "object_fit": null,
            "object_position": null,
            "order": null,
            "overflow": null,
            "overflow_x": null,
            "overflow_y": null,
            "padding": null,
            "right": null,
            "top": null,
            "visibility": null,
            "width": null
          }
        },
        "5a678ea0bfda44ed90dfb74441915728": {
          "model_module": "@jupyter-widgets/controls",
          "model_name": "ProgressStyleModel",
          "model_module_version": "1.5.0",
          "state": {
            "_model_module": "@jupyter-widgets/controls",
            "_model_module_version": "1.5.0",
            "_model_name": "ProgressStyleModel",
            "_view_count": null,
            "_view_module": "@jupyter-widgets/base",
            "_view_module_version": "1.2.0",
            "_view_name": "StyleView",
            "bar_color": null,
            "description_width": ""
          }
        },
        "5b24ec71c8b24dba98be5d583686fe87": {
          "model_module": "@jupyter-widgets/base",
          "model_name": "LayoutModel",
          "model_module_version": "1.2.0",
          "state": {
            "_model_module": "@jupyter-widgets/base",
            "_model_module_version": "1.2.0",
            "_model_name": "LayoutModel",
            "_view_count": null,
            "_view_module": "@jupyter-widgets/base",
            "_view_module_version": "1.2.0",
            "_view_name": "LayoutView",
            "align_content": null,
            "align_items": null,
            "align_self": null,
            "border": null,
            "bottom": null,
            "display": null,
            "flex": null,
            "flex_flow": null,
            "grid_area": null,
            "grid_auto_columns": null,
            "grid_auto_flow": null,
            "grid_auto_rows": null,
            "grid_column": null,
            "grid_gap": null,
            "grid_row": null,
            "grid_template_areas": null,
            "grid_template_columns": null,
            "grid_template_rows": null,
            "height": null,
            "justify_content": null,
            "justify_items": null,
            "left": null,
            "margin": null,
            "max_height": null,
            "max_width": null,
            "min_height": null,
            "min_width": null,
            "object_fit": null,
            "object_position": null,
            "order": null,
            "overflow": null,
            "overflow_x": null,
            "overflow_y": null,
            "padding": null,
            "right": null,
            "top": null,
            "visibility": null,
            "width": null
          }
        },
        "df282abcbc5f47aa906d440c4552933c": {
          "model_module": "@jupyter-widgets/controls",
          "model_name": "DescriptionStyleModel",
          "model_module_version": "1.5.0",
          "state": {
            "_model_module": "@jupyter-widgets/controls",
            "_model_module_version": "1.5.0",
            "_model_name": "DescriptionStyleModel",
            "_view_count": null,
            "_view_module": "@jupyter-widgets/base",
            "_view_module_version": "1.2.0",
            "_view_name": "StyleView",
            "description_width": ""
          }
        },
        "87d4444f0ff94cc4a089c017c6e4b117": {
          "model_module": "@jupyter-widgets/controls",
          "model_name": "HBoxModel",
          "model_module_version": "1.5.0",
          "state": {
            "_dom_classes": [],
            "_model_module": "@jupyter-widgets/controls",
            "_model_module_version": "1.5.0",
            "_model_name": "HBoxModel",
            "_view_count": null,
            "_view_module": "@jupyter-widgets/controls",
            "_view_module_version": "1.5.0",
            "_view_name": "HBoxView",
            "box_style": "",
            "children": [
              "IPY_MODEL_d9455b219f2f4083891872a1a0e415c0",
              "IPY_MODEL_c6fa33dbdc62451d804914e70710760c",
              "IPY_MODEL_b3bff120c13b49cbb981c12a41d42654"
            ],
            "layout": "IPY_MODEL_49b61bfc479b439c8710b1ac7d7e66df"
          }
        },
        "d9455b219f2f4083891872a1a0e415c0": {
          "model_module": "@jupyter-widgets/controls",
          "model_name": "HTMLModel",
          "model_module_version": "1.5.0",
          "state": {
            "_dom_classes": [],
            "_model_module": "@jupyter-widgets/controls",
            "_model_module_version": "1.5.0",
            "_model_name": "HTMLModel",
            "_view_count": null,
            "_view_module": "@jupyter-widgets/controls",
            "_view_module_version": "1.5.0",
            "_view_name": "HTMLView",
            "description": "",
            "description_tooltip": null,
            "layout": "IPY_MODEL_7761d354dc614e639aa538dff0c76e65",
            "placeholder": "​",
            "style": "IPY_MODEL_899d42f977574e02b21f4afc8e544a2a",
            "value": "100%"
          }
        },
        "c6fa33dbdc62451d804914e70710760c": {
          "model_module": "@jupyter-widgets/controls",
          "model_name": "FloatProgressModel",
          "model_module_version": "1.5.0",
          "state": {
            "_dom_classes": [],
            "_model_module": "@jupyter-widgets/controls",
            "_model_module_version": "1.5.0",
            "_model_name": "FloatProgressModel",
            "_view_count": null,
            "_view_module": "@jupyter-widgets/controls",
            "_view_module_version": "1.5.0",
            "_view_name": "ProgressView",
            "bar_style": "success",
            "description": "",
            "description_tooltip": null,
            "layout": "IPY_MODEL_c24998f81c1e45acb908b36bcf0aefb5",
            "max": 334,
            "min": 0,
            "orientation": "horizontal",
            "style": "IPY_MODEL_03897a961f7f4db68acd79b6ce5bc746",
            "value": 334
          }
        },
        "b3bff120c13b49cbb981c12a41d42654": {
          "model_module": "@jupyter-widgets/controls",
          "model_name": "HTMLModel",
          "model_module_version": "1.5.0",
          "state": {
            "_dom_classes": [],
            "_model_module": "@jupyter-widgets/controls",
            "_model_module_version": "1.5.0",
            "_model_name": "HTMLModel",
            "_view_count": null,
            "_view_module": "@jupyter-widgets/controls",
            "_view_module_version": "1.5.0",
            "_view_name": "HTMLView",
            "description": "",
            "description_tooltip": null,
            "layout": "IPY_MODEL_01cb2387fd714034b094ee6d1e032a58",
            "placeholder": "​",
            "style": "IPY_MODEL_b5c5df38adb2431f92473920b8ea2623",
            "value": " 334/334 [00:42&lt;00:00,  8.81it/s]"
          }
        },
        "49b61bfc479b439c8710b1ac7d7e66df": {
          "model_module": "@jupyter-widgets/base",
          "model_name": "LayoutModel",
          "model_module_version": "1.2.0",
          "state": {
            "_model_module": "@jupyter-widgets/base",
            "_model_module_version": "1.2.0",
            "_model_name": "LayoutModel",
            "_view_count": null,
            "_view_module": "@jupyter-widgets/base",
            "_view_module_version": "1.2.0",
            "_view_name": "LayoutView",
            "align_content": null,
            "align_items": null,
            "align_self": null,
            "border": null,
            "bottom": null,
            "display": null,
            "flex": null,
            "flex_flow": null,
            "grid_area": null,
            "grid_auto_columns": null,
            "grid_auto_flow": null,
            "grid_auto_rows": null,
            "grid_column": null,
            "grid_gap": null,
            "grid_row": null,
            "grid_template_areas": null,
            "grid_template_columns": null,
            "grid_template_rows": null,
            "height": null,
            "justify_content": null,
            "justify_items": null,
            "left": null,
            "margin": null,
            "max_height": null,
            "max_width": null,
            "min_height": null,
            "min_width": null,
            "object_fit": null,
            "object_position": null,
            "order": null,
            "overflow": null,
            "overflow_x": null,
            "overflow_y": null,
            "padding": null,
            "right": null,
            "top": null,
            "visibility": null,
            "width": null
          }
        },
        "7761d354dc614e639aa538dff0c76e65": {
          "model_module": "@jupyter-widgets/base",
          "model_name": "LayoutModel",
          "model_module_version": "1.2.0",
          "state": {
            "_model_module": "@jupyter-widgets/base",
            "_model_module_version": "1.2.0",
            "_model_name": "LayoutModel",
            "_view_count": null,
            "_view_module": "@jupyter-widgets/base",
            "_view_module_version": "1.2.0",
            "_view_name": "LayoutView",
            "align_content": null,
            "align_items": null,
            "align_self": null,
            "border": null,
            "bottom": null,
            "display": null,
            "flex": null,
            "flex_flow": null,
            "grid_area": null,
            "grid_auto_columns": null,
            "grid_auto_flow": null,
            "grid_auto_rows": null,
            "grid_column": null,
            "grid_gap": null,
            "grid_row": null,
            "grid_template_areas": null,
            "grid_template_columns": null,
            "grid_template_rows": null,
            "height": null,
            "justify_content": null,
            "justify_items": null,
            "left": null,
            "margin": null,
            "max_height": null,
            "max_width": null,
            "min_height": null,
            "min_width": null,
            "object_fit": null,
            "object_position": null,
            "order": null,
            "overflow": null,
            "overflow_x": null,
            "overflow_y": null,
            "padding": null,
            "right": null,
            "top": null,
            "visibility": null,
            "width": null
          }
        },
        "899d42f977574e02b21f4afc8e544a2a": {
          "model_module": "@jupyter-widgets/controls",
          "model_name": "DescriptionStyleModel",
          "model_module_version": "1.5.0",
          "state": {
            "_model_module": "@jupyter-widgets/controls",
            "_model_module_version": "1.5.0",
            "_model_name": "DescriptionStyleModel",
            "_view_count": null,
            "_view_module": "@jupyter-widgets/base",
            "_view_module_version": "1.2.0",
            "_view_name": "StyleView",
            "description_width": ""
          }
        },
        "c24998f81c1e45acb908b36bcf0aefb5": {
          "model_module": "@jupyter-widgets/base",
          "model_name": "LayoutModel",
          "model_module_version": "1.2.0",
          "state": {
            "_model_module": "@jupyter-widgets/base",
            "_model_module_version": "1.2.0",
            "_model_name": "LayoutModel",
            "_view_count": null,
            "_view_module": "@jupyter-widgets/base",
            "_view_module_version": "1.2.0",
            "_view_name": "LayoutView",
            "align_content": null,
            "align_items": null,
            "align_self": null,
            "border": null,
            "bottom": null,
            "display": null,
            "flex": null,
            "flex_flow": null,
            "grid_area": null,
            "grid_auto_columns": null,
            "grid_auto_flow": null,
            "grid_auto_rows": null,
            "grid_column": null,
            "grid_gap": null,
            "grid_row": null,
            "grid_template_areas": null,
            "grid_template_columns": null,
            "grid_template_rows": null,
            "height": null,
            "justify_content": null,
            "justify_items": null,
            "left": null,
            "margin": null,
            "max_height": null,
            "max_width": null,
            "min_height": null,
            "min_width": null,
            "object_fit": null,
            "object_position": null,
            "order": null,
            "overflow": null,
            "overflow_x": null,
            "overflow_y": null,
            "padding": null,
            "right": null,
            "top": null,
            "visibility": null,
            "width": null
          }
        },
        "03897a961f7f4db68acd79b6ce5bc746": {
          "model_module": "@jupyter-widgets/controls",
          "model_name": "ProgressStyleModel",
          "model_module_version": "1.5.0",
          "state": {
            "_model_module": "@jupyter-widgets/controls",
            "_model_module_version": "1.5.0",
            "_model_name": "ProgressStyleModel",
            "_view_count": null,
            "_view_module": "@jupyter-widgets/base",
            "_view_module_version": "1.2.0",
            "_view_name": "StyleView",
            "bar_color": null,
            "description_width": ""
          }
        },
        "01cb2387fd714034b094ee6d1e032a58": {
          "model_module": "@jupyter-widgets/base",
          "model_name": "LayoutModel",
          "model_module_version": "1.2.0",
          "state": {
            "_model_module": "@jupyter-widgets/base",
            "_model_module_version": "1.2.0",
            "_model_name": "LayoutModel",
            "_view_count": null,
            "_view_module": "@jupyter-widgets/base",
            "_view_module_version": "1.2.0",
            "_view_name": "LayoutView",
            "align_content": null,
            "align_items": null,
            "align_self": null,
            "border": null,
            "bottom": null,
            "display": null,
            "flex": null,
            "flex_flow": null,
            "grid_area": null,
            "grid_auto_columns": null,
            "grid_auto_flow": null,
            "grid_auto_rows": null,
            "grid_column": null,
            "grid_gap": null,
            "grid_row": null,
            "grid_template_areas": null,
            "grid_template_columns": null,
            "grid_template_rows": null,
            "height": null,
            "justify_content": null,
            "justify_items": null,
            "left": null,
            "margin": null,
            "max_height": null,
            "max_width": null,
            "min_height": null,
            "min_width": null,
            "object_fit": null,
            "object_position": null,
            "order": null,
            "overflow": null,
            "overflow_x": null,
            "overflow_y": null,
            "padding": null,
            "right": null,
            "top": null,
            "visibility": null,
            "width": null
          }
        },
        "b5c5df38adb2431f92473920b8ea2623": {
          "model_module": "@jupyter-widgets/controls",
          "model_name": "DescriptionStyleModel",
          "model_module_version": "1.5.0",
          "state": {
            "_model_module": "@jupyter-widgets/controls",
            "_model_module_version": "1.5.0",
            "_model_name": "DescriptionStyleModel",
            "_view_count": null,
            "_view_module": "@jupyter-widgets/base",
            "_view_module_version": "1.2.0",
            "_view_name": "StyleView",
            "description_width": ""
          }
        },
        "abc0108e97964716b8444d2131bf3799": {
          "model_module": "@jupyter-widgets/controls",
          "model_name": "HBoxModel",
          "model_module_version": "1.5.0",
          "state": {
            "_dom_classes": [],
            "_model_module": "@jupyter-widgets/controls",
            "_model_module_version": "1.5.0",
            "_model_name": "HBoxModel",
            "_view_count": null,
            "_view_module": "@jupyter-widgets/controls",
            "_view_module_version": "1.5.0",
            "_view_name": "HBoxView",
            "box_style": "",
            "children": [
              "IPY_MODEL_1eee06fc2dad4dada340685c235ca85d",
              "IPY_MODEL_d5562fe2a89b4317b15913ec08f812cb",
              "IPY_MODEL_c7c0a648ec83465fa7d600f86c30ece6"
            ],
            "layout": "IPY_MODEL_0d6e0ecb50dd4341a050a83e0bc2858a"
          }
        },
        "1eee06fc2dad4dada340685c235ca85d": {
          "model_module": "@jupyter-widgets/controls",
          "model_name": "HTMLModel",
          "model_module_version": "1.5.0",
          "state": {
            "_dom_classes": [],
            "_model_module": "@jupyter-widgets/controls",
            "_model_module_version": "1.5.0",
            "_model_name": "HTMLModel",
            "_view_count": null,
            "_view_module": "@jupyter-widgets/controls",
            "_view_module_version": "1.5.0",
            "_view_name": "HTMLView",
            "description": "",
            "description_tooltip": null,
            "layout": "IPY_MODEL_8af9d99262ad4112a480ccd2079443c0",
            "placeholder": "​",
            "style": "IPY_MODEL_8b78301b81824e1aae98b6a8efe88097",
            "value": "100%"
          }
        },
        "d5562fe2a89b4317b15913ec08f812cb": {
          "model_module": "@jupyter-widgets/controls",
          "model_name": "FloatProgressModel",
          "model_module_version": "1.5.0",
          "state": {
            "_dom_classes": [],
            "_model_module": "@jupyter-widgets/controls",
            "_model_module_version": "1.5.0",
            "_model_name": "FloatProgressModel",
            "_view_count": null,
            "_view_module": "@jupyter-widgets/controls",
            "_view_module_version": "1.5.0",
            "_view_name": "ProgressView",
            "bar_style": "success",
            "description": "",
            "description_tooltip": null,
            "layout": "IPY_MODEL_79cbd39dbf8a44b19b2ef02ff2ab8f4d",
            "max": 334,
            "min": 0,
            "orientation": "horizontal",
            "style": "IPY_MODEL_23b1fad5f03b47689df77f163ad9fc61",
            "value": 334
          }
        },
        "c7c0a648ec83465fa7d600f86c30ece6": {
          "model_module": "@jupyter-widgets/controls",
          "model_name": "HTMLModel",
          "model_module_version": "1.5.0",
          "state": {
            "_dom_classes": [],
            "_model_module": "@jupyter-widgets/controls",
            "_model_module_version": "1.5.0",
            "_model_name": "HTMLModel",
            "_view_count": null,
            "_view_module": "@jupyter-widgets/controls",
            "_view_module_version": "1.5.0",
            "_view_name": "HTMLView",
            "description": "",
            "description_tooltip": null,
            "layout": "IPY_MODEL_cdcf87cfd6b141508da53418468b165e",
            "placeholder": "​",
            "style": "IPY_MODEL_0d7265bf10f34a9ea6245ec69e08c7fa",
            "value": " 334/334 [01:09&lt;00:00,  5.84it/s]"
          }
        },
        "0d6e0ecb50dd4341a050a83e0bc2858a": {
          "model_module": "@jupyter-widgets/base",
          "model_name": "LayoutModel",
          "model_module_version": "1.2.0",
          "state": {
            "_model_module": "@jupyter-widgets/base",
            "_model_module_version": "1.2.0",
            "_model_name": "LayoutModel",
            "_view_count": null,
            "_view_module": "@jupyter-widgets/base",
            "_view_module_version": "1.2.0",
            "_view_name": "LayoutView",
            "align_content": null,
            "align_items": null,
            "align_self": null,
            "border": null,
            "bottom": null,
            "display": null,
            "flex": null,
            "flex_flow": null,
            "grid_area": null,
            "grid_auto_columns": null,
            "grid_auto_flow": null,
            "grid_auto_rows": null,
            "grid_column": null,
            "grid_gap": null,
            "grid_row": null,
            "grid_template_areas": null,
            "grid_template_columns": null,
            "grid_template_rows": null,
            "height": null,
            "justify_content": null,
            "justify_items": null,
            "left": null,
            "margin": null,
            "max_height": null,
            "max_width": null,
            "min_height": null,
            "min_width": null,
            "object_fit": null,
            "object_position": null,
            "order": null,
            "overflow": null,
            "overflow_x": null,
            "overflow_y": null,
            "padding": null,
            "right": null,
            "top": null,
            "visibility": null,
            "width": null
          }
        },
        "8af9d99262ad4112a480ccd2079443c0": {
          "model_module": "@jupyter-widgets/base",
          "model_name": "LayoutModel",
          "model_module_version": "1.2.0",
          "state": {
            "_model_module": "@jupyter-widgets/base",
            "_model_module_version": "1.2.0",
            "_model_name": "LayoutModel",
            "_view_count": null,
            "_view_module": "@jupyter-widgets/base",
            "_view_module_version": "1.2.0",
            "_view_name": "LayoutView",
            "align_content": null,
            "align_items": null,
            "align_self": null,
            "border": null,
            "bottom": null,
            "display": null,
            "flex": null,
            "flex_flow": null,
            "grid_area": null,
            "grid_auto_columns": null,
            "grid_auto_flow": null,
            "grid_auto_rows": null,
            "grid_column": null,
            "grid_gap": null,
            "grid_row": null,
            "grid_template_areas": null,
            "grid_template_columns": null,
            "grid_template_rows": null,
            "height": null,
            "justify_content": null,
            "justify_items": null,
            "left": null,
            "margin": null,
            "max_height": null,
            "max_width": null,
            "min_height": null,
            "min_width": null,
            "object_fit": null,
            "object_position": null,
            "order": null,
            "overflow": null,
            "overflow_x": null,
            "overflow_y": null,
            "padding": null,
            "right": null,
            "top": null,
            "visibility": null,
            "width": null
          }
        },
        "8b78301b81824e1aae98b6a8efe88097": {
          "model_module": "@jupyter-widgets/controls",
          "model_name": "DescriptionStyleModel",
          "model_module_version": "1.5.0",
          "state": {
            "_model_module": "@jupyter-widgets/controls",
            "_model_module_version": "1.5.0",
            "_model_name": "DescriptionStyleModel",
            "_view_count": null,
            "_view_module": "@jupyter-widgets/base",
            "_view_module_version": "1.2.0",
            "_view_name": "StyleView",
            "description_width": ""
          }
        },
        "79cbd39dbf8a44b19b2ef02ff2ab8f4d": {
          "model_module": "@jupyter-widgets/base",
          "model_name": "LayoutModel",
          "model_module_version": "1.2.0",
          "state": {
            "_model_module": "@jupyter-widgets/base",
            "_model_module_version": "1.2.0",
            "_model_name": "LayoutModel",
            "_view_count": null,
            "_view_module": "@jupyter-widgets/base",
            "_view_module_version": "1.2.0",
            "_view_name": "LayoutView",
            "align_content": null,
            "align_items": null,
            "align_self": null,
            "border": null,
            "bottom": null,
            "display": null,
            "flex": null,
            "flex_flow": null,
            "grid_area": null,
            "grid_auto_columns": null,
            "grid_auto_flow": null,
            "grid_auto_rows": null,
            "grid_column": null,
            "grid_gap": null,
            "grid_row": null,
            "grid_template_areas": null,
            "grid_template_columns": null,
            "grid_template_rows": null,
            "height": null,
            "justify_content": null,
            "justify_items": null,
            "left": null,
            "margin": null,
            "max_height": null,
            "max_width": null,
            "min_height": null,
            "min_width": null,
            "object_fit": null,
            "object_position": null,
            "order": null,
            "overflow": null,
            "overflow_x": null,
            "overflow_y": null,
            "padding": null,
            "right": null,
            "top": null,
            "visibility": null,
            "width": null
          }
        },
        "23b1fad5f03b47689df77f163ad9fc61": {
          "model_module": "@jupyter-widgets/controls",
          "model_name": "ProgressStyleModel",
          "model_module_version": "1.5.0",
          "state": {
            "_model_module": "@jupyter-widgets/controls",
            "_model_module_version": "1.5.0",
            "_model_name": "ProgressStyleModel",
            "_view_count": null,
            "_view_module": "@jupyter-widgets/base",
            "_view_module_version": "1.2.0",
            "_view_name": "StyleView",
            "bar_color": null,
            "description_width": ""
          }
        },
        "cdcf87cfd6b141508da53418468b165e": {
          "model_module": "@jupyter-widgets/base",
          "model_name": "LayoutModel",
          "model_module_version": "1.2.0",
          "state": {
            "_model_module": "@jupyter-widgets/base",
            "_model_module_version": "1.2.0",
            "_model_name": "LayoutModel",
            "_view_count": null,
            "_view_module": "@jupyter-widgets/base",
            "_view_module_version": "1.2.0",
            "_view_name": "LayoutView",
            "align_content": null,
            "align_items": null,
            "align_self": null,
            "border": null,
            "bottom": null,
            "display": null,
            "flex": null,
            "flex_flow": null,
            "grid_area": null,
            "grid_auto_columns": null,
            "grid_auto_flow": null,
            "grid_auto_rows": null,
            "grid_column": null,
            "grid_gap": null,
            "grid_row": null,
            "grid_template_areas": null,
            "grid_template_columns": null,
            "grid_template_rows": null,
            "height": null,
            "justify_content": null,
            "justify_items": null,
            "left": null,
            "margin": null,
            "max_height": null,
            "max_width": null,
            "min_height": null,
            "min_width": null,
            "object_fit": null,
            "object_position": null,
            "order": null,
            "overflow": null,
            "overflow_x": null,
            "overflow_y": null,
            "padding": null,
            "right": null,
            "top": null,
            "visibility": null,
            "width": null
          }
        },
        "0d7265bf10f34a9ea6245ec69e08c7fa": {
          "model_module": "@jupyter-widgets/controls",
          "model_name": "DescriptionStyleModel",
          "model_module_version": "1.5.0",
          "state": {
            "_model_module": "@jupyter-widgets/controls",
            "_model_module_version": "1.5.0",
            "_model_name": "DescriptionStyleModel",
            "_view_count": null,
            "_view_module": "@jupyter-widgets/base",
            "_view_module_version": "1.2.0",
            "_view_name": "StyleView",
            "description_width": ""
          }
        },
        "124f3994636b4fc8a63a1c7f9a7a9908": {
          "model_module": "@jupyter-widgets/controls",
          "model_name": "HBoxModel",
          "model_module_version": "1.5.0",
          "state": {
            "_dom_classes": [],
            "_model_module": "@jupyter-widgets/controls",
            "_model_module_version": "1.5.0",
            "_model_name": "HBoxModel",
            "_view_count": null,
            "_view_module": "@jupyter-widgets/controls",
            "_view_module_version": "1.5.0",
            "_view_name": "HBoxView",
            "box_style": "",
            "children": [
              "IPY_MODEL_1d074522bf20442bac39c0b553edb4dc",
              "IPY_MODEL_fcb002e1acc04216b9757bbdd1d458b9",
              "IPY_MODEL_e5734a2fa8b2463bb0c4bec125c8125f"
            ],
            "layout": "IPY_MODEL_66993c0230b74e77bb24f0789a0def81"
          }
        },
        "1d074522bf20442bac39c0b553edb4dc": {
          "model_module": "@jupyter-widgets/controls",
          "model_name": "HTMLModel",
          "model_module_version": "1.5.0",
          "state": {
            "_dom_classes": [],
            "_model_module": "@jupyter-widgets/controls",
            "_model_module_version": "1.5.0",
            "_model_name": "HTMLModel",
            "_view_count": null,
            "_view_module": "@jupyter-widgets/controls",
            "_view_module_version": "1.5.0",
            "_view_name": "HTMLView",
            "description": "",
            "description_tooltip": null,
            "layout": "IPY_MODEL_3644386fea31464ba5346fc229082dc2",
            "placeholder": "​",
            "style": "IPY_MODEL_8b4a20ebaa0e4a01a48873e69d042eff",
            "value": "100%"
          }
        },
        "fcb002e1acc04216b9757bbdd1d458b9": {
          "model_module": "@jupyter-widgets/controls",
          "model_name": "FloatProgressModel",
          "model_module_version": "1.5.0",
          "state": {
            "_dom_classes": [],
            "_model_module": "@jupyter-widgets/controls",
            "_model_module_version": "1.5.0",
            "_model_name": "FloatProgressModel",
            "_view_count": null,
            "_view_module": "@jupyter-widgets/controls",
            "_view_module_version": "1.5.0",
            "_view_name": "ProgressView",
            "bar_style": "success",
            "description": "",
            "description_tooltip": null,
            "layout": "IPY_MODEL_76814b7f06df40e98947c69ce3f18854",
            "max": 334,
            "min": 0,
            "orientation": "horizontal",
            "style": "IPY_MODEL_54703851bc194849b7e7bb728a0424d8",
            "value": 334
          }
        },
        "e5734a2fa8b2463bb0c4bec125c8125f": {
          "model_module": "@jupyter-widgets/controls",
          "model_name": "HTMLModel",
          "model_module_version": "1.5.0",
          "state": {
            "_dom_classes": [],
            "_model_module": "@jupyter-widgets/controls",
            "_model_module_version": "1.5.0",
            "_model_name": "HTMLModel",
            "_view_count": null,
            "_view_module": "@jupyter-widgets/controls",
            "_view_module_version": "1.5.0",
            "_view_name": "HTMLView",
            "description": "",
            "description_tooltip": null,
            "layout": "IPY_MODEL_b11b5116b26e4e8f8e8273af3c6ab25b",
            "placeholder": "​",
            "style": "IPY_MODEL_00a95cbecaa546ddb8a736dbf1e480a5",
            "value": " 334/334 [03:45&lt;00:00,  1.71it/s]"
          }
        },
        "66993c0230b74e77bb24f0789a0def81": {
          "model_module": "@jupyter-widgets/base",
          "model_name": "LayoutModel",
          "model_module_version": "1.2.0",
          "state": {
            "_model_module": "@jupyter-widgets/base",
            "_model_module_version": "1.2.0",
            "_model_name": "LayoutModel",
            "_view_count": null,
            "_view_module": "@jupyter-widgets/base",
            "_view_module_version": "1.2.0",
            "_view_name": "LayoutView",
            "align_content": null,
            "align_items": null,
            "align_self": null,
            "border": null,
            "bottom": null,
            "display": null,
            "flex": null,
            "flex_flow": null,
            "grid_area": null,
            "grid_auto_columns": null,
            "grid_auto_flow": null,
            "grid_auto_rows": null,
            "grid_column": null,
            "grid_gap": null,
            "grid_row": null,
            "grid_template_areas": null,
            "grid_template_columns": null,
            "grid_template_rows": null,
            "height": null,
            "justify_content": null,
            "justify_items": null,
            "left": null,
            "margin": null,
            "max_height": null,
            "max_width": null,
            "min_height": null,
            "min_width": null,
            "object_fit": null,
            "object_position": null,
            "order": null,
            "overflow": null,
            "overflow_x": null,
            "overflow_y": null,
            "padding": null,
            "right": null,
            "top": null,
            "visibility": null,
            "width": null
          }
        },
        "3644386fea31464ba5346fc229082dc2": {
          "model_module": "@jupyter-widgets/base",
          "model_name": "LayoutModel",
          "model_module_version": "1.2.0",
          "state": {
            "_model_module": "@jupyter-widgets/base",
            "_model_module_version": "1.2.0",
            "_model_name": "LayoutModel",
            "_view_count": null,
            "_view_module": "@jupyter-widgets/base",
            "_view_module_version": "1.2.0",
            "_view_name": "LayoutView",
            "align_content": null,
            "align_items": null,
            "align_self": null,
            "border": null,
            "bottom": null,
            "display": null,
            "flex": null,
            "flex_flow": null,
            "grid_area": null,
            "grid_auto_columns": null,
            "grid_auto_flow": null,
            "grid_auto_rows": null,
            "grid_column": null,
            "grid_gap": null,
            "grid_row": null,
            "grid_template_areas": null,
            "grid_template_columns": null,
            "grid_template_rows": null,
            "height": null,
            "justify_content": null,
            "justify_items": null,
            "left": null,
            "margin": null,
            "max_height": null,
            "max_width": null,
            "min_height": null,
            "min_width": null,
            "object_fit": null,
            "object_position": null,
            "order": null,
            "overflow": null,
            "overflow_x": null,
            "overflow_y": null,
            "padding": null,
            "right": null,
            "top": null,
            "visibility": null,
            "width": null
          }
        },
        "8b4a20ebaa0e4a01a48873e69d042eff": {
          "model_module": "@jupyter-widgets/controls",
          "model_name": "DescriptionStyleModel",
          "model_module_version": "1.5.0",
          "state": {
            "_model_module": "@jupyter-widgets/controls",
            "_model_module_version": "1.5.0",
            "_model_name": "DescriptionStyleModel",
            "_view_count": null,
            "_view_module": "@jupyter-widgets/base",
            "_view_module_version": "1.2.0",
            "_view_name": "StyleView",
            "description_width": ""
          }
        },
        "76814b7f06df40e98947c69ce3f18854": {
          "model_module": "@jupyter-widgets/base",
          "model_name": "LayoutModel",
          "model_module_version": "1.2.0",
          "state": {
            "_model_module": "@jupyter-widgets/base",
            "_model_module_version": "1.2.0",
            "_model_name": "LayoutModel",
            "_view_count": null,
            "_view_module": "@jupyter-widgets/base",
            "_view_module_version": "1.2.0",
            "_view_name": "LayoutView",
            "align_content": null,
            "align_items": null,
            "align_self": null,
            "border": null,
            "bottom": null,
            "display": null,
            "flex": null,
            "flex_flow": null,
            "grid_area": null,
            "grid_auto_columns": null,
            "grid_auto_flow": null,
            "grid_auto_rows": null,
            "grid_column": null,
            "grid_gap": null,
            "grid_row": null,
            "grid_template_areas": null,
            "grid_template_columns": null,
            "grid_template_rows": null,
            "height": null,
            "justify_content": null,
            "justify_items": null,
            "left": null,
            "margin": null,
            "max_height": null,
            "max_width": null,
            "min_height": null,
            "min_width": null,
            "object_fit": null,
            "object_position": null,
            "order": null,
            "overflow": null,
            "overflow_x": null,
            "overflow_y": null,
            "padding": null,
            "right": null,
            "top": null,
            "visibility": null,
            "width": null
          }
        },
        "54703851bc194849b7e7bb728a0424d8": {
          "model_module": "@jupyter-widgets/controls",
          "model_name": "ProgressStyleModel",
          "model_module_version": "1.5.0",
          "state": {
            "_model_module": "@jupyter-widgets/controls",
            "_model_module_version": "1.5.0",
            "_model_name": "ProgressStyleModel",
            "_view_count": null,
            "_view_module": "@jupyter-widgets/base",
            "_view_module_version": "1.2.0",
            "_view_name": "StyleView",
            "bar_color": null,
            "description_width": ""
          }
        },
        "b11b5116b26e4e8f8e8273af3c6ab25b": {
          "model_module": "@jupyter-widgets/base",
          "model_name": "LayoutModel",
          "model_module_version": "1.2.0",
          "state": {
            "_model_module": "@jupyter-widgets/base",
            "_model_module_version": "1.2.0",
            "_model_name": "LayoutModel",
            "_view_count": null,
            "_view_module": "@jupyter-widgets/base",
            "_view_module_version": "1.2.0",
            "_view_name": "LayoutView",
            "align_content": null,
            "align_items": null,
            "align_self": null,
            "border": null,
            "bottom": null,
            "display": null,
            "flex": null,
            "flex_flow": null,
            "grid_area": null,
            "grid_auto_columns": null,
            "grid_auto_flow": null,
            "grid_auto_rows": null,
            "grid_column": null,
            "grid_gap": null,
            "grid_row": null,
            "grid_template_areas": null,
            "grid_template_columns": null,
            "grid_template_rows": null,
            "height": null,
            "justify_content": null,
            "justify_items": null,
            "left": null,
            "margin": null,
            "max_height": null,
            "max_width": null,
            "min_height": null,
            "min_width": null,
            "object_fit": null,
            "object_position": null,
            "order": null,
            "overflow": null,
            "overflow_x": null,
            "overflow_y": null,
            "padding": null,
            "right": null,
            "top": null,
            "visibility": null,
            "width": null
          }
        },
        "00a95cbecaa546ddb8a736dbf1e480a5": {
          "model_module": "@jupyter-widgets/controls",
          "model_name": "DescriptionStyleModel",
          "model_module_version": "1.5.0",
          "state": {
            "_model_module": "@jupyter-widgets/controls",
            "_model_module_version": "1.5.0",
            "_model_name": "DescriptionStyleModel",
            "_view_count": null,
            "_view_module": "@jupyter-widgets/base",
            "_view_module_version": "1.2.0",
            "_view_name": "StyleView",
            "description_width": ""
          }
        }
      }
    },
    "accelerator": "GPU",
    "gpuClass": "standard"
  },
  "cells": [
    {
      "cell_type": "markdown",
      "metadata": {
        "id": "view-in-github",
        "colab_type": "text"
      },
      "source": [
        "<a href=\"https://colab.research.google.com/github/DannMacias/corn-leaf-disease-detection/blob/main/03_models_comparison.ipynb\" target=\"_parent\"><img src=\"https://colab.research.google.com/assets/colab-badge.svg\" alt=\"Open In Colab\"/></a>"
      ]
    },
    {
      "cell_type": "markdown",
      "source": [
        "#<b> Model comparison for corn leaf disease detection </b> 🌽🦠\n",
        "\n",
        "In this notebook I will focus on the evaluation of different models for the detection of diseases in maize leaves.\n",
        "\n",
        "The models to be compared are:\n",
        "* EfficientNetB2 (Model base or control).\n",
        "* AlexNet.\n",
        "* GoogleNet.\n",
        "* ResNet50.\n",
        "* ViT.\n",
        "\n",
        "The conditions of each of the experiments are:\n",
        "* Same train and test data.\n",
        "* 10 epochs.\n",
        "* Batch size of 32.\n",
        "* Criterion (or loss function): `CrossEntropyLoss`\n",
        "* Optimizer: `Adam` with a learning rate of `1e-3`."
      ],
      "metadata": {
        "id": "StEcyo0AvtjC"
      }
    },
    {
      "cell_type": "code",
      "execution_count": 1,
      "metadata": {
        "colab": {
          "base_uri": "https://localhost:8080/"
        },
        "id": "6804mOP3vfwJ",
        "outputId": "a13395dc-b725-4003-d3df-87ad458ba4c0"
      },
      "outputs": [
        {
          "output_type": "stream",
          "name": "stdout",
          "text": [
            "torch version: 1.13.1+cu116\n",
            "torchvision version: 0.14.1+cu116\n"
          ]
        }
      ],
      "source": [
        "# Import basic libraries\n",
        "import torch\n",
        "import torchvision\n",
        "from torch import nn\n",
        "from torch.utils.data import DataLoader\n",
        "from torchvision import datasets, transforms\n",
        "\n",
        "print(f\"torch version: {torch.__version__}\")\n",
        "print(f\"torchvision version: {torchvision.__version__}\")"
      ]
    },
    {
      "cell_type": "code",
      "source": [
        "# Setup device agnostic code\n",
        "device = \"cuda\" if torch.cuda.is_available() else \"cpu\"\n",
        "device"
      ],
      "metadata": {
        "colab": {
          "base_uri": "https://localhost:8080/",
          "height": 35
        },
        "id": "xnFdiAgpxKu7",
        "outputId": "4e95ea43-a1ac-4c50-ff5b-84812575e2ee"
      },
      "execution_count": 2,
      "outputs": [
        {
          "output_type": "execute_result",
          "data": {
            "text/plain": [
              "'cuda'"
            ],
            "application/vnd.google.colaboratory.intrinsic+json": {
              "type": "string"
            }
          },
          "metadata": {},
          "execution_count": 2
        }
      ]
    },
    {
      "cell_type": "code",
      "source": [
        "# Get helper functions (for training and make predictions) from GitHub repo\n",
        "# See https://github.com/DannMacias/corn-leaf-disease-detection\n",
        "# Clone the repo\n",
        "!git clone https://github.com/DannMacias/corn-leaf-disease-detection\n",
        "\n",
        "# Move the folder helper_functions\n",
        "!mv corn-leaf-disease-detection/helper_functions .\n",
        "\n",
        "# Remove the remaining files from the repo of Google Colab\n",
        "!rm -rf corn-leaf-disease-detection\n",
        "from helper_functions import engine, predictions, utils"
      ],
      "metadata": {
        "colab": {
          "base_uri": "https://localhost:8080/"
        },
        "id": "cU8sZ4rTxdpp",
        "outputId": "3611ff4f-253f-4fd5-fff9-200e160d8ca3"
      },
      "execution_count": 3,
      "outputs": [
        {
          "output_type": "stream",
          "name": "stdout",
          "text": [
            "Cloning into 'corn-leaf-disease-detection'...\n",
            "remote: Enumerating objects: 56, done.\u001b[K\n",
            "remote: Counting objects: 100% (56/56), done.\u001b[K\n",
            "remote: Compressing objects: 100% (49/49), done.\u001b[K\n",
            "remote: Total 56 (delta 20), reused 14 (delta 3), pack-reused 0\u001b[K\n",
            "Unpacking objects: 100% (56/56), 2.93 MiB | 4.62 MiB/s, done.\n"
          ]
        }
      ]
    },
    {
      "cell_type": "markdown",
      "source": [
        "# 1. Get the data"
      ],
      "metadata": {
        "id": "3lMo8YfFxjgL"
      }
    },
    {
      "cell_type": "code",
      "source": [
        "# Get the data from Google Drive\n",
        "!unzip /content/drive/MyDrive/Pytorch_notes/corn-leaf-image-classification/corn-leaf-disease.zip > /dev/null"
      ],
      "metadata": {
        "id": "MLUi6qubxhdi"
      },
      "execution_count": 4,
      "outputs": []
    },
    {
      "cell_type": "code",
      "source": [
        "data_path = \"/content/data\""
      ],
      "metadata": {
        "id": "1luMDOttxmKT"
      },
      "execution_count": 5,
      "outputs": []
    },
    {
      "cell_type": "code",
      "source": [
        "# Download and import splitfolders\n",
        "!pip install split-folders\n",
        "import splitfolders"
      ],
      "metadata": {
        "colab": {
          "base_uri": "https://localhost:8080/"
        },
        "id": "fp9Er8QsxuBS",
        "outputId": "9b2a269a-ca8f-42dd-9025-73cace6f10fb"
      },
      "execution_count": 6,
      "outputs": [
        {
          "output_type": "stream",
          "name": "stdout",
          "text": [
            "Looking in indexes: https://pypi.org/simple, https://us-python.pkg.dev/colab-wheels/public/simple/\n",
            "Collecting split-folders\n",
            "  Downloading split_folders-0.5.1-py3-none-any.whl (8.4 kB)\n",
            "Installing collected packages: split-folders\n",
            "Successfully installed split-folders-0.5.1\n"
          ]
        }
      ]
    },
    {
      "cell_type": "code",
      "source": [
        "# Split the data train (80%) and test (20%)\n",
        "splitfolders.ratio(input = data_path,\n",
        "                   output = \"splitted_data\",\n",
        "                   seed = 42,\n",
        "                   ratio = (0.8, 0.2),\n",
        "                   group_prefix = None,\n",
        "                   move = False)"
      ],
      "metadata": {
        "colab": {
          "base_uri": "https://localhost:8080/"
        },
        "id": "lNSOOdt_x0HO",
        "outputId": "82969e1a-bf11-44ae-873b-7443919bcd78"
      },
      "execution_count": 7,
      "outputs": [
        {
          "output_type": "stream",
          "name": "stderr",
          "text": [
            "Copying files: 4188 files [00:00, 4772.75 files/s]\n"
          ]
        }
      ]
    },
    {
      "cell_type": "code",
      "source": [
        "# Setup train and test directories\n",
        "train_dir = \"/content/splitted_data/train\"\n",
        "test_dir = \"/content/splitted_data/val\"\n",
        "\n",
        "train_dir, test_dir"
      ],
      "metadata": {
        "colab": {
          "base_uri": "https://localhost:8080/"
        },
        "id": "X46EpWpLyKee",
        "outputId": "edb67e56-d779-44f9-e687-3246b9264984"
      },
      "execution_count": 8,
      "outputs": [
        {
          "output_type": "execute_result",
          "data": {
            "text/plain": [
              "('/content/splitted_data/train', '/content/splitted_data/val')"
            ]
          },
          "metadata": {},
          "execution_count": 8
        }
      ]
    },
    {
      "cell_type": "code",
      "source": [
        "# Create a function to make datasets and DataLoaders\n",
        "import os\n",
        "NUM_WORKERS = os.cpu_count()\n",
        "\n",
        "def create_dataloaders(train_dir: str,\n",
        "                       test_dir: str,\n",
        "                       transform: transforms.Compose,\n",
        "                       batch_size: int,\n",
        "                       num_workers: int):\n",
        "    \n",
        "  # Use Image Folder to create datasets\n",
        "  train_data = datasets.ImageFolder(train_dir, transform = transform)\n",
        "  test_data = datasets.ImageFolder(test_dir, transform = transform)\n",
        "\n",
        "  # Get class names\n",
        "  class_names = train_data.classes\n",
        "\n",
        "  # Turn datasets into DataLoaders\n",
        "  train_dataloader = DataLoader(train_data,\n",
        "                                batch_size = batch_size,\n",
        "                                shuffle = True,\n",
        "                                num_workers = num_workers,\n",
        "                                pin_memory = True)\n",
        "  \n",
        "  test_dataloader = DataLoader(test_data,\n",
        "                               batch_size = batch_size,\n",
        "                               shuffle = False,\n",
        "                               num_workers = num_workers,\n",
        "                               pin_memory = True)\n",
        "  \n",
        "  return train_dataloader, test_dataloader, class_names"
      ],
      "metadata": {
        "id": "kuMzrvUwyNN_"
      },
      "execution_count": 9,
      "outputs": []
    },
    {
      "cell_type": "markdown",
      "source": [
        "# Models"
      ],
      "metadata": {
        "id": "ZKJs0bqv0Zzy"
      }
    },
    {
      "cell_type": "code",
      "source": [
        "# Hyperparameters\n",
        "BATCH_SIZE = 32\n",
        "NUM_WORKERS = os.cpu_count()\n",
        "LEARNING_RATE = 1e-3"
      ],
      "metadata": {
        "id": "Al8q1iCH2saw"
      },
      "execution_count": 10,
      "outputs": []
    },
    {
      "cell_type": "markdown",
      "source": [
        "## EficientNetB2 (control)"
      ],
      "metadata": {
        "id": "-uQbIGux0bUw"
      }
    },
    {
      "cell_type": "code",
      "source": [
        "# Creating an EffNetB2 feature extractor\n",
        "def create_effnetb2_model(num_classes: int = 4,\n",
        "                          seed: int = 42):\n",
        "  \n",
        "  # Create EffNetB2 pretrained weights, transforms and model\n",
        "  weights = torchvision.models.EfficientNet_B2_Weights.DEFAULT\n",
        "  transforms = weights.transforms()\n",
        "  model = torchvision.models.efficientnet_b2(weights = weights)\n",
        "\n",
        "  # Freeze all the layers in base model\n",
        "  for param in model.parameters():\n",
        "    param.requires_grad = False\n",
        "\n",
        "  # Change the classfier head with random seed for reproducibility\n",
        "  torch.manual_seed(seed)\n",
        "  model.classifier = nn.Sequential(\n",
        "      nn.Dropout(p = 0.3, inplace = True),\n",
        "      nn.Linear(in_features = 1408,\n",
        "                out_features = num_classes,\n",
        "                bias = True)\n",
        "      )\n",
        "  \n",
        "  return model, transforms"
      ],
      "metadata": {
        "id": "jEG4FwDM0KBY"
      },
      "execution_count": 11,
      "outputs": []
    },
    {
      "cell_type": "code",
      "source": [
        "# Create EffNetB2 model\n",
        "effnetb2, effnetb2_transforms = create_effnetb2_model()"
      ],
      "metadata": {
        "id": "_WfZVsKu2bjW",
        "colab": {
          "base_uri": "https://localhost:8080/",
          "height": 86,
          "referenced_widgets": [
            "132a31ee43664056860f8258063b8768",
            "6350603efa96424f85bf4590038451cf",
            "ee8d844a0248496dac8ea0d6e3897cc9",
            "5622070b6bb34b458ff65b8988e4208a",
            "add3237c31d24cb2b2c2e070406dfa35",
            "727a1e89e3c344d4974cb30bdf8c390d",
            "dc8dc221ff514e12a8f1af159f7c7df7",
            "d8eace83e0dd46d4a9cf8c2f3fc5ebc5",
            "c166b80c176d49b49d13c380a8857c91",
            "64d902c49e3e47f4842da3fd1e45b4bf",
            "f8ecd61236514337a16dc3162080edcf"
          ]
        },
        "outputId": "bb083986-9ddd-4b1c-866d-c63b49a7c4f8"
      },
      "execution_count": 12,
      "outputs": [
        {
          "output_type": "stream",
          "name": "stderr",
          "text": [
            "Downloading: \"https://download.pytorch.org/models/efficientnet_b2_rwightman-bcdf34b7.pth\" to /root/.cache/torch/hub/checkpoints/efficientnet_b2_rwightman-bcdf34b7.pth\n"
          ]
        },
        {
          "output_type": "display_data",
          "data": {
            "text/plain": [
              "  0%|          | 0.00/35.2M [00:00<?, ?B/s]"
            ],
            "application/vnd.jupyter.widget-view+json": {
              "version_major": 2,
              "version_minor": 0,
              "model_id": "132a31ee43664056860f8258063b8768"
            }
          },
          "metadata": {}
        }
      ]
    },
    {
      "cell_type": "code",
      "source": [
        "# Create DataLoaders\n",
        "train_dataloader_effnetb2, test_dataloader_effnetb2, class_names = create_dataloaders(\n",
        "    train_dir = train_dir,\n",
        "    test_dir = test_dir,\n",
        "    transform = effnetb2_transforms,\n",
        "    batch_size = BATCH_SIZE,\n",
        "    num_workers = NUM_WORKERS\n",
        "    )"
      ],
      "metadata": {
        "id": "SdmtVgM5NLBz"
      },
      "execution_count": 13,
      "outputs": []
    },
    {
      "cell_type": "code",
      "source": [
        "# Visualize images from the DataLoader\n",
        "utils.view_dataloader_images(dataloader = train_dataloader_effnetb2,\n",
        "                             class_names = class_names,\n",
        "                             num_images = 10)"
      ],
      "metadata": {
        "colab": {
          "base_uri": "https://localhost:8080/",
          "height": 123
        },
        "id": "RCSlsAEDObq9",
        "outputId": "0d9b1a10-4776-4fca-edb5-8e611163add8"
      },
      "execution_count": 14,
      "outputs": [
        {
          "output_type": "display_data",
          "data": {
            "text/plain": [
              "<Figure size 1152x576 with 10 Axes>"
            ],
            "image/png": "[encoded data removed]"
          },
          "metadata": {
            "needs_background": "light"
          }
        }
      ]
    },
    {
      "cell_type": "code",
      "source": [
        "# Setup loss function and optimizer\n",
        "loss_fn = torch.nn.CrossEntropyLoss()\n",
        "\n",
        "optimizer = torch.optim.Adam(params = effnetb2.parameters(),\n",
        "                             lr = LEARNING_RATE)\n",
        "\n",
        "# Train the model\n",
        "effnetb2_results = engine.train(model = effnetb2,\n",
        "                                train_dataloader = train_dataloader_effnetb2,\n",
        "                                test_dataloader = test_dataloader_effnetb2,\n",
        "                                optimizer = optimizer,\n",
        "                                loss_fn = loss_fn,\n",
        "                                epochs = 10,\n",
        "                                device = device)"
      ],
      "metadata": {
        "id": "1EJj3Uoy16ss",
        "colab": {
          "base_uri": "https://localhost:8080/",
          "height": 223,
          "referenced_widgets": [
            "243dc305626c4750b921d91f53b19460",
            "eb615bf7dd0c4dbc9ecc84365986f663",
            "54013d8c787d4dd2a5d8de7af6d11776",
            "38d0ef3c61064ce397de7e462916299d",
            "d9f4cb976def4f86bc2187d626b9a388",
            "82536c46d37042bebe56f13782c3e270",
            "7c82250f1ef24392bf7af5c627204a8b",
            "c9c8a2c368264fc6a7323b0e4df84cd4",
            "8ac8035e59f9435aaed4ea627eb78dc3",
            "38fc5f381f81491cac5ed860cebf81dc",
            "57b30c28b0314467a4d89ab7eb49b4e8"
          ]
        },
        "outputId": "9596361f-8278-4fdb-d22a-b9b46beb66bd"
      },
      "execution_count": 15,
      "outputs": [
        {
          "output_type": "display_data",
          "data": {
            "text/plain": [
              "  0%|          | 0/10 [00:00<?, ?it/s]"
            ],
            "application/vnd.jupyter.widget-view+json": {
              "version_major": 2,
              "version_minor": 0,
              "model_id": "243dc305626c4750b921d91f53b19460"
            }
          },
          "metadata": {}
        },
        {
          "output_type": "stream",
          "name": "stdout",
          "text": [
            "Epoch: 1 | train_loss: 0.6013 | train_acc: 0.8036 | test_loss: 0.3606 | test_acc: 0.8947\n",
            "Epoch: 2 | train_loss: 0.3177 | train_acc: 0.8910 | test_loss: 0.2853 | test_acc: 0.9062\n",
            "Epoch: 3 | train_loss: 0.2678 | train_acc: 0.9039 | test_loss: 0.2579 | test_acc: 0.9120\n",
            "Epoch: 4 | train_loss: 0.2460 | train_acc: 0.9113 | test_loss: 0.2457 | test_acc: 0.9039\n",
            "Epoch: 5 | train_loss: 0.2293 | train_acc: 0.9160 | test_loss: 0.2382 | test_acc: 0.9074\n",
            "Epoch: 6 | train_loss: 0.2062 | train_acc: 0.9234 | test_loss: 0.2296 | test_acc: 0.9086\n",
            "Epoch: 7 | train_loss: 0.2060 | train_acc: 0.9243 | test_loss: 0.2274 | test_acc: 0.9086\n",
            "Epoch: 8 | train_loss: 0.2023 | train_acc: 0.9221 | test_loss: 0.2185 | test_acc: 0.9132\n",
            "Epoch: 9 | train_loss: 0.1957 | train_acc: 0.9305 | test_loss: 0.2199 | test_acc: 0.9062\n",
            "Epoch: 10 | train_loss: 0.1816 | train_acc: 0.9320 | test_loss: 0.2137 | test_acc: 0.9086\n"
          ]
        }
      ]
    },
    {
      "cell_type": "code",
      "source": [
        "# Inspecting the loss curves\n",
        "utils.plot_loss_curves(effnetb2_results)"
      ],
      "metadata": {
        "colab": {
          "base_uri": "https://localhost:8080/",
          "height": 458
        },
        "id": "Dx-2qZ9yPX2_",
        "outputId": "21f7a50f-3d5e-4758-d4f6-0bf56d517d62"
      },
      "execution_count": 16,
      "outputs": [
        {
          "output_type": "display_data",
          "data": {
            "text/plain": [
              "<Figure size 1080x504 with 2 Axes>"
            ],
            "image/png": "[encoded data removed]"
          },
          "metadata": {
            "needs_background": "light"
          }
        }
      ]
    },
    {
      "cell_type": "code",
      "source": [
        "# Saving the EffNetB2 feature extractor\n",
        "utils.save_model(model = effnetb2,\n",
        "                 target_dir = \"models\",\n",
        "                 model_name = \"pretrained_effnetb2.pth\")"
      ],
      "metadata": {
        "colab": {
          "base_uri": "https://localhost:8080/"
        },
        "id": "WMU9ep-4Pnr8",
        "outputId": "19d8cc7f-a331-45b6-8a81-15e4da9d32cc"
      },
      "execution_count": 17,
      "outputs": [
        {
          "output_type": "stream",
          "name": "stdout",
          "text": [
            "[INFO] Saving model to: models/pretrained_effnetb2.pth\n"
          ]
        }
      ]
    },
    {
      "cell_type": "code",
      "source": [
        "# Checking the size of EffNetB2 feature extractor\n",
        "from pathlib import Path\n",
        "\n",
        "# Get the model size in bytes, then converted to megabytes\n",
        "pretrained_effnetb2_model_size = Path(\"models/pretrained_effnetb2.pth\").stat().st_size // (1024*1024)\n",
        "print(f\"Pretrained EffNetB2 feature extractor model size: {pretrained_effnetb2_model_size} MB\")"
      ],
      "metadata": {
        "colab": {
          "base_uri": "https://localhost:8080/"
        },
        "id": "C2BeyongP4IB",
        "outputId": "85e597dd-4c9d-4dad-9e94-5da4dae79821"
      },
      "execution_count": 18,
      "outputs": [
        {
          "output_type": "stream",
          "name": "stdout",
          "text": [
            "Pretrained EffNetB2 feature extractor model size: 29 MB\n"
          ]
        }
      ]
    },
    {
      "cell_type": "code",
      "source": [
        "# Count the number of parameters in EffNetB2\n",
        "effnetb2_total_params = sum(torch.numel(param) for param in effnetb2.parameters())"
      ],
      "metadata": {
        "id": "v54LljLdQYIX"
      },
      "execution_count": 19,
      "outputs": []
    },
    {
      "cell_type": "code",
      "source": [
        "# Create a dictionary with EffNetB2 statistics\n",
        "effnetb2_stats = {\"test_loss\": effnetb2_results[\"test_loss\"][-1],\n",
        "                  \"test_acc\": effnetb2_results[\"test_acc\"][-1],\n",
        "                  \"number_of_parameters\": effnetb2_total_params,\n",
        "                  \"model_size (MB)\": pretrained_effnetb2_model_size\n",
        "                  }\n",
        "\n",
        "effnetb2_stats"
      ],
      "metadata": {
        "colab": {
          "base_uri": "https://localhost:8080/"
        },
        "id": "1NQ8WpvnQh8L",
        "outputId": "59046848-d33b-4571-8300-e63cf01d2398"
      },
      "execution_count": 20,
      "outputs": [
        {
          "output_type": "execute_result",
          "data": {
            "text/plain": [
              "{'test_loss': 0.21372593352916064,\n",
              " 'test_acc': 0.9085648148148148,\n",
              " 'number_of_parameters': 7706630,\n",
              " 'model_size (MB)': 29}"
            ]
          },
          "metadata": {},
          "execution_count": 20
        }
      ]
    },
    {
      "cell_type": "markdown",
      "source": [
        "## AlexNet"
      ],
      "metadata": {
        "id": "2X9j6Wl33nC5"
      }
    },
    {
      "cell_type": "code",
      "source": [
        "# Check out AlexNet classifier layer\n",
        "alexnet = torchvision.models.alexnet()\n",
        "alexnet.classifier"
      ],
      "metadata": {
        "colab": {
          "base_uri": "https://localhost:8080/"
        },
        "id": "EP7poKJE3mhQ",
        "outputId": "44c0dad9-c551-4701-d3c5-19dba7e6ebd2"
      },
      "execution_count": 21,
      "outputs": [
        {
          "output_type": "execute_result",
          "data": {
            "text/plain": [
              "Sequential(\n",
              "  (0): Dropout(p=0.5, inplace=False)\n",
              "  (1): Linear(in_features=9216, out_features=4096, bias=True)\n",
              "  (2): ReLU(inplace=True)\n",
              "  (3): Dropout(p=0.5, inplace=False)\n",
              "  (4): Linear(in_features=4096, out_features=4096, bias=True)\n",
              "  (5): ReLU(inplace=True)\n",
              "  (6): Linear(in_features=4096, out_features=1000, bias=True)\n",
              ")"
            ]
          },
          "metadata": {},
          "execution_count": 21
        }
      ]
    },
    {
      "cell_type": "code",
      "source": [
        "# Creating an AlexNet feature extractor\n",
        "def create_alexnet_model(num_classes: int = 4,\n",
        "                         seed: int = 42):\n",
        "  \n",
        "  # Create AlexNet pretrained weights, transforms and model\n",
        "  weights = torchvision.models.AlexNet_Weights.DEFAULT\n",
        "  transforms = weights.transforms()\n",
        "  model = torchvision.models.alexnet(weights = weights)\n",
        "\n",
        "  # Freeze all the layers in base model\n",
        "  for param in model.parameters():\n",
        "    param.requires_grad = False\n",
        "\n",
        "  # Change the classfier head with random seed for reproducibility\n",
        "  torch.manual_seed(seed)\n",
        "  model.classifier = nn.Sequential(\n",
        "      nn.Dropout(p = 0.5, inplace = False),\n",
        "      nn.Linear(in_features = 9216, out_features = 4096, bias = True),\n",
        "      nn.ReLU(inplace = True),\n",
        "      nn.Dropout(p = 0.5, inplace = False),\n",
        "      nn.Linear(in_features = 4096, out_features = 4096, bias = True),\n",
        "      nn.ReLU(inplace = True), \n",
        "      nn.Linear(in_features = 4096,\n",
        "                out_features = num_classes,\n",
        "                bias = True)\n",
        "      )\n",
        "  \n",
        "  return model, transforms"
      ],
      "metadata": {
        "id": "cSDac-3T4Gln"
      },
      "execution_count": 22,
      "outputs": []
    },
    {
      "cell_type": "code",
      "source": [
        "# Create AlexNet model\n",
        "alexnet, alexnet_transforms = create_alexnet_model()"
      ],
      "metadata": {
        "id": "1pv03tstSKM3",
        "colab": {
          "base_uri": "https://localhost:8080/",
          "height": 86,
          "referenced_widgets": [
            "44f6473426194c13bb015a54969652a3",
            "81ddde58532343799a44a450a87a709d",
            "36d112ce0cec47d6ad522dd997390320",
            "90479d6d9ebf4d96ad748efb0ca33f88",
            "be94f9833fda4c9baef2ac71da72c1e0",
            "0b16fb8c4f39410d80ff2df8447e9035",
            "0d05dd617f334a26b15e35c181124b2f",
            "777d472993f84d17b732edff3fc875e7",
            "fc5a2b5e734e4b9cb582f6a403cda6d7",
            "b1902871c17543c792cde99fbfb65468",
            "2856c3d224cb4211a92f54decbe9d271"
          ]
        },
        "outputId": "6b3a14dd-d2b1-4d23-e52b-e9061802c285"
      },
      "execution_count": 23,
      "outputs": [
        {
          "output_type": "stream",
          "name": "stderr",
          "text": [
            "Downloading: \"https://download.pytorch.org/models/alexnet-owt-7be5be79.pth\" to /root/.cache/torch/hub/checkpoints/alexnet-owt-7be5be79.pth\n"
          ]
        },
        {
          "output_type": "display_data",
          "data": {
            "text/plain": [
              "  0%|          | 0.00/233M [00:00<?, ?B/s]"
            ],
            "application/vnd.jupyter.widget-view+json": {
              "version_major": 2,
              "version_minor": 0,
              "model_id": "44f6473426194c13bb015a54969652a3"
            }
          },
          "metadata": {}
        }
      ]
    },
    {
      "cell_type": "code",
      "source": [
        "# Create DataLoaders\n",
        "train_dataloader_alexnet, test_dataloader_alexnet, class_names = create_dataloaders(\n",
        "    train_dir = train_dir,\n",
        "    test_dir = test_dir,\n",
        "    transform = alexnet_transforms,\n",
        "    batch_size = BATCH_SIZE,\n",
        "    num_workers = NUM_WORKERS\n",
        "    )"
      ],
      "metadata": {
        "id": "YNRekczxSQwQ"
      },
      "execution_count": 24,
      "outputs": []
    },
    {
      "cell_type": "code",
      "source": [
        "# Setup loss function and optimizer\n",
        "loss_fn = torch.nn.CrossEntropyLoss()\n",
        "\n",
        "optimizer = torch.optim.Adam(params = alexnet.parameters(),\n",
        "                             lr = LEARNING_RATE)\n",
        "\n",
        "# Train the model\n",
        "alexnet_results = engine.train(model = alexnet,\n",
        "                                train_dataloader = train_dataloader_alexnet,\n",
        "                                test_dataloader = test_dataloader_alexnet,\n",
        "                                optimizer = optimizer,\n",
        "                                loss_fn = loss_fn,\n",
        "                                epochs = 10,\n",
        "                                device = device)"
      ],
      "metadata": {
        "colab": {
          "base_uri": "https://localhost:8080/",
          "height": 223,
          "referenced_widgets": [
            "483f3365883941da8d1674cbb87508a8",
            "61a54486ad8d4176954db10d44f0dc6e",
            "5c943d145b944a78b272290fac918da0",
            "4b57eb846d41434eb47ceda06c649005",
            "a3c044b5c5804e348fc92dd5e9035ef3",
            "9b80435928094c0aa3e3a5942230a2b2",
            "b997af46a72d4db0a93d93572af190cb",
            "a94108212b8e42c3971ac5387c0f9d6a",
            "0aca1520b9ca4ee78f4c9401f439caf7",
            "5bf0811a93bd42f0ada3dc9fad401370",
            "001b2091dbaf4c8590e3bf311a3e2b54"
          ]
        },
        "id": "UfKpoyshSeJq",
        "outputId": "cac9524f-2693-4576-cd25-2c3bcfc53e34"
      },
      "execution_count": 25,
      "outputs": [
        {
          "output_type": "display_data",
          "data": {
            "text/plain": [
              "  0%|          | 0/10 [00:00<?, ?it/s]"
            ],
            "application/vnd.jupyter.widget-view+json": {
              "version_major": 2,
              "version_minor": 0,
              "model_id": "483f3365883941da8d1674cbb87508a8"
            }
          },
          "metadata": {}
        },
        {
          "output_type": "stream",
          "name": "stdout",
          "text": [
            "Epoch: 1 | train_loss: 0.8701 | train_acc: 0.8373 | test_loss: 0.2462 | test_acc: 0.8912\n",
            "Epoch: 2 | train_loss: 0.2128 | train_acc: 0.9239 | test_loss: 0.2167 | test_acc: 0.9201\n",
            "Epoch: 3 | train_loss: 0.1693 | train_acc: 0.9382 | test_loss: 0.2281 | test_acc: 0.9225\n",
            "Epoch: 4 | train_loss: 0.1629 | train_acc: 0.9394 | test_loss: 0.2194 | test_acc: 0.9317\n",
            "Epoch: 5 | train_loss: 0.1430 | train_acc: 0.9500 | test_loss: 0.2179 | test_acc: 0.9144\n",
            "Epoch: 6 | train_loss: 0.1099 | train_acc: 0.9602 | test_loss: 0.2779 | test_acc: 0.9167\n",
            "Epoch: 7 | train_loss: 0.0947 | train_acc: 0.9661 | test_loss: 0.3025 | test_acc: 0.9178\n",
            "Epoch: 8 | train_loss: 0.1164 | train_acc: 0.9592 | test_loss: 0.2139 | test_acc: 0.9248\n",
            "Epoch: 9 | train_loss: 0.0902 | train_acc: 0.9696 | test_loss: 0.2880 | test_acc: 0.9259\n",
            "Epoch: 10 | train_loss: 0.0741 | train_acc: 0.9780 | test_loss: 0.2614 | test_acc: 0.9352\n"
          ]
        }
      ]
    },
    {
      "cell_type": "code",
      "source": [
        "# Inspecting the loss curves\n",
        "utils.plot_loss_curves(alexnet_results)"
      ],
      "metadata": {
        "id": "I0715s_CStCM",
        "colab": {
          "base_uri": "https://localhost:8080/",
          "height": 458
        },
        "outputId": "b0f87c47-4a26-458c-8bc5-3e530614d912"
      },
      "execution_count": 26,
      "outputs": [
        {
          "output_type": "display_data",
          "data": {
            "text/plain": [
              "<Figure size 1080x504 with 2 Axes>"
            ],
            "image/png": "[encoded data removed]"
          },
          "metadata": {
            "needs_background": "light"
          }
        }
      ]
    },
    {
      "cell_type": "code",
      "source": [
        "# Save the AlexNet model\n",
        "utils.save_model(model = alexnet,\n",
        "                 target_dir = \"models\",\n",
        "                 model_name = \"pretrained_alexnet.pth\")"
      ],
      "metadata": {
        "id": "re6EelUfS3MF",
        "colab": {
          "base_uri": "https://localhost:8080/"
        },
        "outputId": "1530e892-0398-46a9-b9a6-7f46ac1f33a3"
      },
      "execution_count": 27,
      "outputs": [
        {
          "output_type": "stream",
          "name": "stdout",
          "text": [
            "[INFO] Saving model to: models/pretrained_alexnet.pth\n"
          ]
        }
      ]
    },
    {
      "cell_type": "code",
      "source": [
        "# Checking the size of AlexNet feature extractor\n",
        "pretrained_alexnet_model_size = Path(\"models/pretrained_alexnet.pth\").stat().st_size // (1024*1024)\n",
        "print(f\"Pretrained AlexNet feature extractor model size: {pretrained_alexnet_model_size} MB\")"
      ],
      "metadata": {
        "id": "gWesJGmnTGQ7",
        "colab": {
          "base_uri": "https://localhost:8080/"
        },
        "outputId": "76f8ef03-2101-41b1-ad9a-14eee235adc0"
      },
      "execution_count": 28,
      "outputs": [
        {
          "output_type": "stream",
          "name": "stdout",
          "text": [
            "Pretrained AlexNet feature extractor model size: 217 MB\n"
          ]
        }
      ]
    },
    {
      "cell_type": "code",
      "source": [
        "# Count the number of parameters in AlexNet\n",
        "alexnet_total_params = sum(torch.numel(param) for param in alexnet.parameters())"
      ],
      "metadata": {
        "id": "tT7NheelTUbE"
      },
      "execution_count": 29,
      "outputs": []
    },
    {
      "cell_type": "code",
      "source": [
        "# Create a dictionary with AlexNet statistics\n",
        "alexnet_stats = {\"test_loss\": alexnet_results[\"test_loss\"][-1],\n",
        "                  \"test_acc\": alexnet_results[\"test_acc\"][-1],\n",
        "                  \"number_of_parameters\": alexnet_total_params,\n",
        "                  \"model_size (MB)\": pretrained_alexnet_model_size\n",
        "                  }\n",
        "\n",
        "alexnet_stats"
      ],
      "metadata": {
        "id": "4Y6SwFghTeRd",
        "colab": {
          "base_uri": "https://localhost:8080/"
        },
        "outputId": "20f29a5a-f641-419b-de50-594430ad2d82"
      },
      "execution_count": 30,
      "outputs": [
        {
          "output_type": "execute_result",
          "data": {
            "text/plain": [
              "{'test_loss': 0.2613666122620809,\n",
              " 'test_acc': 0.9351851851851852,\n",
              " 'number_of_parameters': 57020228,\n",
              " 'model_size (MB)': 217}"
            ]
          },
          "metadata": {},
          "execution_count": 30
        }
      ]
    },
    {
      "cell_type": "markdown",
      "source": [
        "## GoogleNet"
      ],
      "metadata": {
        "id": "OoGAY-RxXBPI"
      }
    },
    {
      "cell_type": "code",
      "source": [
        "# Check out GoogleNet classifier layer\n",
        "googlenet = torchvision.models.googlenet()\n",
        "googlenet.fc"
      ],
      "metadata": {
        "id": "_MkPdF__W-k6",
        "colab": {
          "base_uri": "https://localhost:8080/"
        },
        "outputId": "df739d70-ab6a-43c4-9264-df896c72045d"
      },
      "execution_count": 31,
      "outputs": [
        {
          "output_type": "stream",
          "name": "stderr",
          "text": [
            "/usr/local/lib/python3.8/dist-packages/torchvision/models/googlenet.py:47: FutureWarning: The default weight initialization of GoogleNet will be changed in future releases of torchvision. If you wish to keep the old behavior (which leads to long initialization times due to scipy/scipy#11299), please set init_weights=True.\n",
            "  warnings.warn(\n"
          ]
        },
        {
          "output_type": "execute_result",
          "data": {
            "text/plain": [
              "Linear(in_features=1024, out_features=1000, bias=True)"
            ]
          },
          "metadata": {},
          "execution_count": 31
        }
      ]
    },
    {
      "cell_type": "code",
      "source": [
        "# Creating an GoogleNet feature extractor\n",
        "def create_googlenet_model(num_classes: int = 4,\n",
        "                           seed: int = 42):\n",
        "  \n",
        "  # Create GoogleNet pretrained weights, transforms and model\n",
        "  weights = torchvision.models.GoogLeNet_Weights.DEFAULT\n",
        "  transforms = weights.transforms()\n",
        "  model = torchvision.models.googlenet(weights = weights)\n",
        "\n",
        "  # Freeze all the layers in base model\n",
        "  for param in model.parameters():\n",
        "    param.requires_grad = False\n",
        "\n",
        "  # Change the classfier head with random seed for reproducibility\n",
        "  torch.manual_seed(seed)\n",
        "  model.fc = nn.Sequential(\n",
        "      nn.Linear(in_features = 1024,\n",
        "                out_features = num_classes,\n",
        "                bias = True)\n",
        "      )\n",
        "  \n",
        "  return model, transforms"
      ],
      "metadata": {
        "id": "y3fWZb64Xsdu"
      },
      "execution_count": 32,
      "outputs": []
    },
    {
      "cell_type": "code",
      "source": [
        "# Create GoogleNet model\n",
        "googlenet, googlenet_transforms = create_googlenet_model()"
      ],
      "metadata": {
        "id": "rgU7zCg1YG_b",
        "colab": {
          "base_uri": "https://localhost:8080/",
          "height": 86,
          "referenced_widgets": [
            "f2718d1047a74d0dba1846c49a6c60ba",
            "50a722731eec46879c1273ad127cfabf",
            "d8c5687bb1984694b3d22435c25dcf11",
            "3b3563e320784c83ada068675358e64e",
            "41ef5507aecc4370968d5e951c570f76",
            "bf459705a19940c2867975312859d090",
            "f97a177fbb784286af041d67de3f0d9f",
            "9e7aec15b9874924ad7740b4ebe34c8c",
            "be15d19eeff948fca42fa9d2544688fc",
            "21b4f5d8909947248269152e9134cac8",
            "13b57fb052c549d6a5de990f58efc268"
          ]
        },
        "outputId": "15c3113e-c00b-459b-a838-63c986ed01c2"
      },
      "execution_count": 33,
      "outputs": [
        {
          "output_type": "stream",
          "name": "stderr",
          "text": [
            "Downloading: \"https://download.pytorch.org/models/googlenet-1378be20.pth\" to /root/.cache/torch/hub/checkpoints/googlenet-1378be20.pth\n"
          ]
        },
        {
          "output_type": "display_data",
          "data": {
            "text/plain": [
              "  0%|          | 0.00/49.7M [00:00<?, ?B/s]"
            ],
            "application/vnd.jupyter.widget-view+json": {
              "version_major": 2,
              "version_minor": 0,
              "model_id": "f2718d1047a74d0dba1846c49a6c60ba"
            }
          },
          "metadata": {}
        }
      ]
    },
    {
      "cell_type": "code",
      "source": [
        "# GoogleNet transforms\n",
        "googlenet_transforms"
      ],
      "metadata": {
        "id": "m4D9ZBODYfJX",
        "colab": {
          "base_uri": "https://localhost:8080/"
        },
        "outputId": "5c24047d-c84a-4cc7-bf0c-feb265d120ee"
      },
      "execution_count": 34,
      "outputs": [
        {
          "output_type": "execute_result",
          "data": {
            "text/plain": [
              "ImageClassification(\n",
              "    crop_size=[224]\n",
              "    resize_size=[256]\n",
              "    mean=[0.485, 0.456, 0.406]\n",
              "    std=[0.229, 0.224, 0.225]\n",
              "    interpolation=InterpolationMode.BILINEAR\n",
              ")"
            ]
          },
          "metadata": {},
          "execution_count": 34
        }
      ]
    },
    {
      "cell_type": "code",
      "source": [
        "# Create DataLoaders\n",
        "train_dataloader_googlenet, test_dataloader_googlenet, class_names = create_dataloaders(\n",
        "    train_dir = train_dir,\n",
        "    test_dir = test_dir,\n",
        "    transform = googlenet_transforms,\n",
        "    batch_size = BATCH_SIZE,\n",
        "    num_workers = NUM_WORKERS\n",
        "    )"
      ],
      "metadata": {
        "id": "SSzd0hY8YS7i"
      },
      "execution_count": 35,
      "outputs": []
    },
    {
      "cell_type": "code",
      "source": [
        "# Setup loss function and optimizer\n",
        "loss_fn = torch.nn.CrossEntropyLoss()\n",
        "\n",
        "optimizer = torch.optim.Adam(params = googlenet.parameters(),\n",
        "                             lr = LEARNING_RATE)\n",
        "\n",
        "# Train the model\n",
        "googlenet_results = engine.train(model = googlenet,\n",
        "                                train_dataloader = train_dataloader_googlenet,\n",
        "                                test_dataloader = test_dataloader_googlenet,\n",
        "                                optimizer = optimizer,\n",
        "                                loss_fn = loss_fn,\n",
        "                                epochs = 10,\n",
        "                                device = device)"
      ],
      "metadata": {
        "id": "UjsjyTVTYdSo",
        "colab": {
          "base_uri": "https://localhost:8080/",
          "height": 223,
          "referenced_widgets": [
            "bdd75a6f4b17403e85f4b06d2bd2a08e",
            "c169fb2ba7ac49b4a01a121a17a3fdd5",
            "7aed823d236144b6bfda937a8a53ff7b",
            "ca54e905a9b3401e9bbe7af74ff6b175",
            "48435d39106d4d3c9f6cdbc2475007af",
            "fd8104ade9b2497d9572949031c6a6aa",
            "ef98a50c151e4eb9aee0bbc07b0be884",
            "4b01aa8e5cc748269bb74aae513f2ac4",
            "6f1519e2b6744795a11f13b5f79f112d",
            "3739d3e392cd4b2d8252e689dddae767",
            "e2de6af5cff947ba800b12936627bb87"
          ]
        },
        "outputId": "53ad7041-489c-40f2-e0fa-1ce4122ee88e"
      },
      "execution_count": 36,
      "outputs": [
        {
          "output_type": "display_data",
          "data": {
            "text/plain": [
              "  0%|          | 0/10 [00:00<?, ?it/s]"
            ],
            "application/vnd.jupyter.widget-view+json": {
              "version_major": 2,
              "version_minor": 0,
              "model_id": "bdd75a6f4b17403e85f4b06d2bd2a08e"
            }
          },
          "metadata": {}
        },
        {
          "output_type": "stream",
          "name": "stdout",
          "text": [
            "Epoch: 1 | train_loss: 0.6929 | train_acc: 0.7635 | test_loss: 0.4263 | test_acc: 0.8785\n",
            "Epoch: 2 | train_loss: 0.3835 | train_acc: 0.8755 | test_loss: 0.3328 | test_acc: 0.8750\n",
            "Epoch: 3 | train_loss: 0.3270 | train_acc: 0.8877 | test_loss: 0.2947 | test_acc: 0.8981\n",
            "Epoch: 4 | train_loss: 0.3047 | train_acc: 0.8955 | test_loss: 0.2778 | test_acc: 0.9051\n",
            "Epoch: 5 | train_loss: 0.2648 | train_acc: 0.9130 | test_loss: 0.2717 | test_acc: 0.9005\n",
            "Epoch: 6 | train_loss: 0.2609 | train_acc: 0.9029 | test_loss: 0.2517 | test_acc: 0.8993\n",
            "Epoch: 7 | train_loss: 0.2568 | train_acc: 0.9064 | test_loss: 0.2617 | test_acc: 0.8993\n",
            "Epoch: 8 | train_loss: 0.2488 | train_acc: 0.9082 | test_loss: 0.2450 | test_acc: 0.9132\n",
            "Epoch: 9 | train_loss: 0.2367 | train_acc: 0.9141 | test_loss: 0.2480 | test_acc: 0.9062\n",
            "Epoch: 10 | train_loss: 0.2198 | train_acc: 0.9253 | test_loss: 0.2332 | test_acc: 0.9120\n"
          ]
        }
      ]
    },
    {
      "cell_type": "code",
      "source": [
        "# Inspecting the loss curves\n",
        "utils.plot_loss_curves(googlenet_results)"
      ],
      "metadata": {
        "id": "FJ27T88HYtQx",
        "colab": {
          "base_uri": "https://localhost:8080/",
          "height": 458
        },
        "outputId": "b7af22ac-8dfb-4b67-9ce2-195e2e23d904"
      },
      "execution_count": 37,
      "outputs": [
        {
          "output_type": "display_data",
          "data": {
            "text/plain": [
              "<Figure size 1080x504 with 2 Axes>"
            ],
            "image/png": "[encoded data removed]"
          },
          "metadata": {
            "needs_background": "light"
          }
        }
      ]
    },
    {
      "cell_type": "code",
      "source": [
        "# Save the GoogleNet model\n",
        "utils.save_model(model = googlenet,\n",
        "                 target_dir = \"models\",\n",
        "                 model_name = \"pretrained_google_net.pth\")"
      ],
      "metadata": {
        "id": "0HuRrwArY42X",
        "colab": {
          "base_uri": "https://localhost:8080/"
        },
        "outputId": "01e83019-0847-49c8-eb2e-4c53d0c32adf"
      },
      "execution_count": 38,
      "outputs": [
        {
          "output_type": "stream",
          "name": "stdout",
          "text": [
            "[INFO] Saving model to: models/pretrained_google_net.pth\n"
          ]
        }
      ]
    },
    {
      "cell_type": "code",
      "source": [
        "# Checking the size of GoogleNet feature extractor\n",
        "pretrained_googlenet_model_size = Path(\"models/pretrained_google_net.pth\").stat().st_size // (1024*1024)\n",
        "print(f\"Pretrained GoogleNet feature extractor model size: {pretrained_googlenet_model_size} MB\")"
      ],
      "metadata": {
        "id": "H1x78hlKY4si",
        "colab": {
          "base_uri": "https://localhost:8080/"
        },
        "outputId": "956182f2-7be4-45d4-a8af-e58da03b8089"
      },
      "execution_count": 39,
      "outputs": [
        {
          "output_type": "stream",
          "name": "stdout",
          "text": [
            "Pretrained GoogleNet feature extractor model size: 21 MB\n"
          ]
        }
      ]
    },
    {
      "cell_type": "code",
      "source": [
        "# Count the number of parameters in GoogleNet\n",
        "googlenet_total_params = sum(torch.numel(param) for param in googlenet.parameters())"
      ],
      "metadata": {
        "id": "FlnoMUE0Y4hf"
      },
      "execution_count": 40,
      "outputs": []
    },
    {
      "cell_type": "code",
      "source": [
        "# Create a dictionary with GoogleNet statistics\n",
        "googlenet_stats = {\"test_loss\": googlenet_results[\"test_loss\"][-1],\n",
        "                  \"test_acc\": googlenet_results[\"test_acc\"][-1],\n",
        "                  \"number_of_parameters\": googlenet_total_params,\n",
        "                  \"model_size (MB)\": pretrained_googlenet_model_size\n",
        "                  }\n",
        "\n",
        "googlenet_stats"
      ],
      "metadata": {
        "id": "z9L7pHjvY4XS",
        "colab": {
          "base_uri": "https://localhost:8080/"
        },
        "outputId": "71d1d339-6958-4567-b145-d33ae60e99b4"
      },
      "execution_count": 41,
      "outputs": [
        {
          "output_type": "execute_result",
          "data": {
            "text/plain": [
              "{'test_loss': 0.23321022500318508,\n",
              " 'test_acc': 0.9120370370370371,\n",
              " 'number_of_parameters': 5604004,\n",
              " 'model_size (MB)': 21}"
            ]
          },
          "metadata": {},
          "execution_count": 41
        }
      ]
    },
    {
      "cell_type": "markdown",
      "source": [
        "## ResNet50"
      ],
      "metadata": {
        "id": "xjaSfrL-ZktH"
      }
    },
    {
      "cell_type": "code",
      "source": [
        "# Check out ResNet50 classifier layer\n",
        "resnet50 = torchvision.models.resnet50()\n",
        "resnet50.fc"
      ],
      "metadata": {
        "id": "XqVt9yRJY4PJ",
        "colab": {
          "base_uri": "https://localhost:8080/"
        },
        "outputId": "8134f609-c645-4ab6-f312-fda02838ab71"
      },
      "execution_count": 42,
      "outputs": [
        {
          "output_type": "execute_result",
          "data": {
            "text/plain": [
              "Linear(in_features=2048, out_features=1000, bias=True)"
            ]
          },
          "metadata": {},
          "execution_count": 42
        }
      ]
    },
    {
      "cell_type": "code",
      "source": [
        "# Creating an ResNet50 feature extractor\n",
        "def create_resnet_model(num_classes: int = 4,\n",
        "                        seed: int = 42):\n",
        "  \n",
        "  # Create ResNet50 pretrained weights, transforms and model\n",
        "  weights = torchvision.models.ResNet50_Weights.DEFAULT\n",
        "  transforms = weights.transforms()\n",
        "  model = torchvision.models.resnet50(weights = weights)\n",
        "\n",
        "  # Freeze all the layers in base model\n",
        "  for param in model.parameters():\n",
        "    param.requires_grad = False\n",
        "\n",
        "  # Change the classfier head with random seed for reproducibility\n",
        "  torch.manual_seed(seed)\n",
        "  model.fc = nn.Sequential(\n",
        "      nn.Linear(in_features = 2048,\n",
        "                out_features = num_classes,\n",
        "                bias = True)\n",
        "      )\n",
        "  \n",
        "  return model, transforms"
      ],
      "metadata": {
        "id": "JMpz53XfY4G3"
      },
      "execution_count": 43,
      "outputs": []
    },
    {
      "cell_type": "code",
      "source": [
        "# Create ResNet50 model\n",
        "resnet, resnet_transforms = create_resnet_model()"
      ],
      "metadata": {
        "id": "VMSnscx_acYh",
        "colab": {
          "base_uri": "https://localhost:8080/",
          "height": 66,
          "referenced_widgets": [
            "6d8e047a971b4be48524f66c6e652bce",
            "558ece7560224fac81e2418c8217a26e",
            "06b83a952e3444f6926a63bbedfe8911",
            "1810b2cff4484183909dab2ca5b724e2",
            "51057c00b15e43abaa31bfc307ca7698",
            "f58bf08903034b019853cc8dcc4bb282",
            "b9390f640639424fa24dfd5d5ec76180",
            "c78f1b4c10344fdb8081480296750297",
            "dfe53e9f0e9e4315aed027f770c76e82",
            "0a0baebf27c7458094429ff6f2e46106",
            "0edf927d300041f2bea71a28b1ba9afa"
          ]
        },
        "outputId": "966f0046-7418-4fa4-97fd-3e66365c0bf3"
      },
      "execution_count": 44,
      "outputs": [
        {
          "output_type": "stream",
          "name": "stderr",
          "text": [
            "Downloading: \"https://download.pytorch.org/models/resnet50-11ad3fa6.pth\" to /root/.cache/torch/hub/checkpoints/resnet50-11ad3fa6.pth\n"
          ]
        },
        {
          "output_type": "display_data",
          "data": {
            "text/plain": [
              "  0%|          | 0.00/97.8M [00:00<?, ?B/s]"
            ],
            "application/vnd.jupyter.widget-view+json": {
              "version_major": 2,
              "version_minor": 0,
              "model_id": "6d8e047a971b4be48524f66c6e652bce"
            }
          },
          "metadata": {}
        }
      ]
    },
    {
      "cell_type": "code",
      "source": [
        "# Create DataLoaders\n",
        "train_dataloader_resnet, test_dataloader_resnet, class_names = create_dataloaders(\n",
        "    train_dir = train_dir,\n",
        "    test_dir = test_dir,\n",
        "    transform = resnet_transforms,\n",
        "    batch_size = BATCH_SIZE,\n",
        "    num_workers = NUM_WORKERS\n",
        "    )"
      ],
      "metadata": {
        "id": "RU9lB4gXalNx"
      },
      "execution_count": 45,
      "outputs": []
    },
    {
      "cell_type": "code",
      "source": [
        "# Setup loss function and optimizer\n",
        "loss_fn = torch.nn.CrossEntropyLoss()\n",
        "\n",
        "optimizer = torch.optim.Adam(params = resnet.parameters(),\n",
        "                             lr = LEARNING_RATE)\n",
        "\n",
        "# Train the model\n",
        "resnet_results = engine.train(model = resnet,\n",
        "                              train_dataloader = train_dataloader_resnet,\n",
        "                              test_dataloader = test_dataloader_resnet,\n",
        "                              optimizer = optimizer,\n",
        "                              loss_fn = loss_fn,\n",
        "                              epochs = 10,\n",
        "                              device = device)"
      ],
      "metadata": {
        "id": "08HQ9ohkauue",
        "colab": {
          "base_uri": "https://localhost:8080/",
          "height": 223,
          "referenced_widgets": [
            "c33f3491a54d42379af4c9cbbdd67abc",
            "2d2eded86e424cb186c9bbd52a81b8d1",
            "0f24f23834db425496daf0fb9e9b59eb",
            "4e7001e9338840fab4e641e916e3aa39",
            "e244ba18cc724014a94e00a1ff0a21c1",
            "fe05de46819349948e8aef307f907c3f",
            "d39e4b4507194390bddb5cc7564c0dbb",
            "12a4f059b9db48cf95495392a3e50771",
            "f08faa9c8252412491c04cfdb604eacf",
            "a8fc302793d14a5b9c9d52ee3c33f76d",
            "759dd4a3b67e4e2e8d6f3f53609654c6"
          ]
        },
        "outputId": "37a30d4c-4055-4491-a1b0-bd5ef9af6dea"
      },
      "execution_count": 46,
      "outputs": [
        {
          "output_type": "display_data",
          "data": {
            "text/plain": [
              "  0%|          | 0/10 [00:00<?, ?it/s]"
            ],
            "application/vnd.jupyter.widget-view+json": {
              "version_major": 2,
              "version_minor": 0,
              "model_id": "c33f3491a54d42379af4c9cbbdd67abc"
            }
          },
          "metadata": {}
        },
        {
          "output_type": "stream",
          "name": "stdout",
          "text": [
            "Epoch: 1 | train_loss: 0.6014 | train_acc: 0.8227 | test_loss: 0.3483 | test_acc: 0.8993\n",
            "Epoch: 2 | train_loss: 0.2996 | train_acc: 0.9119 | test_loss: 0.2724 | test_acc: 0.9120\n",
            "Epoch: 3 | train_loss: 0.2439 | train_acc: 0.9220 | test_loss: 0.2403 | test_acc: 0.9120\n",
            "Epoch: 4 | train_loss: 0.2130 | train_acc: 0.9355 | test_loss: 0.2127 | test_acc: 0.9271\n",
            "Epoch: 5 | train_loss: 0.1968 | train_acc: 0.9346 | test_loss: 0.2065 | test_acc: 0.9178\n",
            "Epoch: 6 | train_loss: 0.1686 | train_acc: 0.9504 | test_loss: 0.1966 | test_acc: 0.9271\n",
            "Epoch: 7 | train_loss: 0.1618 | train_acc: 0.9489 | test_loss: 0.1867 | test_acc: 0.9317\n",
            "Epoch: 8 | train_loss: 0.1498 | train_acc: 0.9491 | test_loss: 0.1821 | test_acc: 0.9271\n",
            "Epoch: 9 | train_loss: 0.1434 | train_acc: 0.9534 | test_loss: 0.1802 | test_acc: 0.9317\n",
            "Epoch: 10 | train_loss: 0.1298 | train_acc: 0.9651 | test_loss: 0.1740 | test_acc: 0.9352\n"
          ]
        }
      ]
    },
    {
      "cell_type": "code",
      "source": [
        "# Inspecting the loss curves\n",
        "utils.plot_loss_curves(resnet_results)"
      ],
      "metadata": {
        "id": "U_p5djJ_a_9u",
        "colab": {
          "base_uri": "https://localhost:8080/",
          "height": 458
        },
        "outputId": "56477d23-ed79-4056-b9ba-a616002f597c"
      },
      "execution_count": 47,
      "outputs": [
        {
          "output_type": "display_data",
          "data": {
            "text/plain": [
              "<Figure size 1080x504 with 2 Axes>"
            ],
            "image/png": "[encoded data removed]"
          },
          "metadata": {
            "needs_background": "light"
          }
        }
      ]
    },
    {
      "cell_type": "code",
      "source": [
        "# Save the ResNet50 model\n",
        "utils.save_model(model = resnet,\n",
        "                 target_dir = \"models\",\n",
        "                 model_name = \"pretrained_resnet50.pth\")"
      ],
      "metadata": {
        "id": "oRiKpEgUbNqH",
        "colab": {
          "base_uri": "https://localhost:8080/"
        },
        "outputId": "3cc5c412-bbdb-4bf5-96d6-083fe8e01c7a"
      },
      "execution_count": 48,
      "outputs": [
        {
          "output_type": "stream",
          "name": "stdout",
          "text": [
            "[INFO] Saving model to: models/pretrained_resnet50.pth\n"
          ]
        }
      ]
    },
    {
      "cell_type": "code",
      "source": [
        "# Checking the size of ResNet50 feature extractor\n",
        "pretrained_resnet_model_size = Path(\"models/pretrained_resnet50.pth\").stat().st_size // (1024*1024)\n",
        "print(f\"Pretrained ResNet50 feature extractor model size: {pretrained_resnet_model_size} MB\")"
      ],
      "metadata": {
        "id": "M_fSzLC-bNe6",
        "colab": {
          "base_uri": "https://localhost:8080/"
        },
        "outputId": "e4134094-8504-453c-fced-997b48c8b02f"
      },
      "execution_count": 49,
      "outputs": [
        {
          "output_type": "stream",
          "name": "stdout",
          "text": [
            "Pretrained ResNet50 feature extractor model size: 90 MB\n"
          ]
        }
      ]
    },
    {
      "cell_type": "code",
      "source": [
        "# Count the number of parameters in ResNet50\n",
        "resnet_total_params = sum(torch.numel(param) for param in resnet.parameters())"
      ],
      "metadata": {
        "id": "mYX4_uwPbNSC"
      },
      "execution_count": 50,
      "outputs": []
    },
    {
      "cell_type": "code",
      "source": [
        "# Create a dictionary with ResNet statistics\n",
        "resnet50_stats = {\"test_loss\": resnet_results[\"test_loss\"][-1],\n",
        "                  \"test_acc\": resnet_results[\"test_acc\"][-1],\n",
        "                  \"number_of_parameters\": resnet_total_params,\n",
        "                  \"model_size (MB)\": pretrained_resnet_model_size\n",
        "                  }\n",
        "\n",
        "resnet50_stats"
      ],
      "metadata": {
        "id": "2r90lXbebNG9",
        "colab": {
          "base_uri": "https://localhost:8080/"
        },
        "outputId": "570b2874-7e27-41b5-afaf-bed61aa2bf33"
      },
      "execution_count": 51,
      "outputs": [
        {
          "output_type": "execute_result",
          "data": {
            "text/plain": [
              "{'test_loss': 0.1739669991829605,\n",
              " 'test_acc': 0.9351851851851852,\n",
              " 'number_of_parameters': 23516228,\n",
              " 'model_size (MB)': 90}"
            ]
          },
          "metadata": {},
          "execution_count": 51
        }
      ]
    },
    {
      "cell_type": "markdown",
      "source": [
        "## ViT (Visual Transformer)"
      ],
      "metadata": {
        "id": "QRiY21msb0gQ"
      }
    },
    {
      "cell_type": "code",
      "source": [
        "# Check out ViT classifier layer\n",
        "vit = torchvision.models.vit_b_16()\n",
        "vit.heads"
      ],
      "metadata": {
        "id": "WOg5GF3KcZhe",
        "colab": {
          "base_uri": "https://localhost:8080/"
        },
        "outputId": "f4903ff0-2351-4d9f-c8d2-dc49cd40383a"
      },
      "execution_count": 52,
      "outputs": [
        {
          "output_type": "execute_result",
          "data": {
            "text/plain": [
              "Sequential(\n",
              "  (head): Linear(in_features=768, out_features=1000, bias=True)\n",
              ")"
            ]
          },
          "metadata": {},
          "execution_count": 52
        }
      ]
    },
    {
      "cell_type": "code",
      "source": [
        "# Creating an ViT feature extractor\n",
        "def create_vit_model(num_classes: int = 4,\n",
        "                     seed: int = 42):\n",
        "  \n",
        "  # Create ViT pretrained weights, transforms and model\n",
        "  weights = torchvision.models.ViT_B_16_Weights.DEFAULT\n",
        "  transforms = weights.transforms()\n",
        "  model = torchvision.models.vit_b_16(weights = weights)\n",
        "\n",
        "  # Freeze all the layers in base model\n",
        "  for param in model.parameters():\n",
        "    param.requires_grad = False\n",
        "\n",
        "  # Change the classfier head with random seed for reproducibility\n",
        "  torch.manual_seed(seed)\n",
        "  model.heads = nn.Sequential(\n",
        "      nn.Linear(in_features = 768,\n",
        "                out_features = num_classes,\n",
        "                bias = True)\n",
        "  )\n",
        "  \n",
        "  return model, transforms"
      ],
      "metadata": {
        "id": "Fc-uZ_ETcZY6"
      },
      "execution_count": 53,
      "outputs": []
    },
    {
      "cell_type": "code",
      "source": [
        "# Create ViT model\n",
        "vit, vit_transforms = create_vit_model()"
      ],
      "metadata": {
        "id": "zNe0dlsqcZQN",
        "colab": {
          "base_uri": "https://localhost:8080/",
          "height": 66,
          "referenced_widgets": [
            "e2089a2376824913ab8950901fb2268b",
            "c1f24929fa954e679081fc5a3906daa7",
            "970fe103c0844626b020aa61dee62a5c",
            "8fabf2bf9d774142a6885be82e6ddd91",
            "f4ab09f487bf446b848e06f26289a0f8",
            "6b05f0b451e7451cb57c9856e6f7776b",
            "6940e85a5aa7404abfabd788752580c6",
            "b91785ded7164b5d973cda42fcd01e32",
            "60e1e9268aec48a89d0e1a0484fa33b5",
            "c52d824661504b8abaf55d15bbb48ab3",
            "2d7545b9a4a942aea74551d22539bf08"
          ]
        },
        "outputId": "71a3ddb4-e4ae-4e7e-8d1a-b0c47c01f638"
      },
      "execution_count": 54,
      "outputs": [
        {
          "output_type": "stream",
          "name": "stderr",
          "text": [
            "Downloading: \"https://download.pytorch.org/models/vit_b_16-c867db91.pth\" to /root/.cache/torch/hub/checkpoints/vit_b_16-c867db91.pth\n"
          ]
        },
        {
          "output_type": "display_data",
          "data": {
            "text/plain": [
              "  0%|          | 0.00/330M [00:00<?, ?B/s]"
            ],
            "application/vnd.jupyter.widget-view+json": {
              "version_major": 2,
              "version_minor": 0,
              "model_id": "e2089a2376824913ab8950901fb2268b"
            }
          },
          "metadata": {}
        }
      ]
    },
    {
      "cell_type": "code",
      "source": [
        "# Create DataLoaders\n",
        "train_dataloader_vit, test_dataloader_vit, class_names = create_dataloaders(\n",
        "    train_dir = train_dir,\n",
        "    test_dir = test_dir,\n",
        "    transform = vit_transforms,\n",
        "    batch_size = BATCH_SIZE,\n",
        "    num_workers = NUM_WORKERS\n",
        "    )"
      ],
      "metadata": {
        "id": "59srW49KcZGC"
      },
      "execution_count": 55,
      "outputs": []
    },
    {
      "cell_type": "code",
      "source": [
        "# Setup loss function and optimizer\n",
        "loss_fn = torch.nn.CrossEntropyLoss()\n",
        "\n",
        "optimizer = torch.optim.Adam(params = vit.parameters(),\n",
        "                             lr = LEARNING_RATE)\n",
        "\n",
        "# Train the model\n",
        "vit_results = engine.train(model = vit,\n",
        "                           train_dataloader = train_dataloader_vit,\n",
        "                           test_dataloader = test_dataloader_vit,\n",
        "                           optimizer = optimizer,\n",
        "                           loss_fn = loss_fn,\n",
        "                           epochs = 10,\n",
        "                           device = device)"
      ],
      "metadata": {
        "id": "uAKyufsicY8W",
        "colab": {
          "base_uri": "https://localhost:8080/",
          "height": 223,
          "referenced_widgets": [
            "a9b50ab4a0e643548824470324912487",
            "c7f7181c18ef4198b4acb5e1b147bc4d",
            "442c245c1095413eafada33ad578bca7",
            "967faede5df04708a2808d00b8bfa69e",
            "a401cff2e25444ac9154f49e9ce73c25",
            "e032f67c8e3f4cffa53b12aedbec5295",
            "cf657809bf874ed4af432509dd1c5e3b",
            "88088a6b006848c68bdb5cf87e3cdf32",
            "b86489a9f3184c59a81366a2ba768eb5",
            "5bfef05b2aaa4e8fb7b3d81c9390ced3",
            "0bc6484e76164aaf9956f339d38a4656"
          ]
        },
        "outputId": "52cd91af-f092-497d-c2cd-91176fde5a30"
      },
      "execution_count": 56,
      "outputs": [
        {
          "output_type": "display_data",
          "data": {
            "text/plain": [
              "  0%|          | 0/10 [00:00<?, ?it/s]"
            ],
            "application/vnd.jupyter.widget-view+json": {
              "version_major": 2,
              "version_minor": 0,
              "model_id": "a9b50ab4a0e643548824470324912487"
            }
          },
          "metadata": {}
        },
        {
          "output_type": "stream",
          "name": "stdout",
          "text": [
            "Epoch: 1 | train_loss: 0.4227 | train_acc: 0.8531 | test_loss: 0.2473 | test_acc: 0.9120\n",
            "Epoch: 2 | train_loss: 0.2088 | train_acc: 0.9292 | test_loss: 0.2047 | test_acc: 0.9225\n",
            "Epoch: 3 | train_loss: 0.1678 | train_acc: 0.9410 | test_loss: 0.1776 | test_acc: 0.9352\n",
            "Epoch: 4 | train_loss: 0.1466 | train_acc: 0.9510 | test_loss: 0.1649 | test_acc: 0.9433\n",
            "Epoch: 5 | train_loss: 0.1296 | train_acc: 0.9560 | test_loss: 0.1573 | test_acc: 0.9456\n",
            "Epoch: 6 | train_loss: 0.1169 | train_acc: 0.9610 | test_loss: 0.1521 | test_acc: 0.9491\n",
            "Epoch: 7 | train_loss: 0.1111 | train_acc: 0.9623 | test_loss: 0.1489 | test_acc: 0.9537\n",
            "Epoch: 8 | train_loss: 0.1024 | train_acc: 0.9659 | test_loss: 0.1482 | test_acc: 0.9525\n",
            "Epoch: 9 | train_loss: 0.0948 | train_acc: 0.9711 | test_loss: 0.1418 | test_acc: 0.9525\n",
            "Epoch: 10 | train_loss: 0.0888 | train_acc: 0.9723 | test_loss: 0.1418 | test_acc: 0.9549\n"
          ]
        }
      ]
    },
    {
      "cell_type": "code",
      "source": [
        "# Inspecting the loss curves\n",
        "utils.plot_loss_curves(vit_results)"
      ],
      "metadata": {
        "id": "3JMVNj7scYzC",
        "colab": {
          "base_uri": "https://localhost:8080/",
          "height": 458
        },
        "outputId": "486f9c93-b147-4a60-9335-4dd2128e1f3d"
      },
      "execution_count": 57,
      "outputs": [
        {
          "output_type": "display_data",
          "data": {
            "text/plain": [
              "<Figure size 1080x504 with 2 Axes>"
            ],
            "image/png": "[encoded data removed]"
          },
          "metadata": {
            "needs_background": "light"
          }
        }
      ]
    },
    {
      "cell_type": "code",
      "source": [
        "# Save the ViT model\n",
        "utils.save_model(model = vit,\n",
        "                 target_dir = \"models\",\n",
        "                 model_name = \"pretrained_vit_b_16.pth\")"
      ],
      "metadata": {
        "id": "FlfGJ18TcYp2",
        "colab": {
          "base_uri": "https://localhost:8080/"
        },
        "outputId": "3e92f9db-6854-49e1-863e-1e87c454b469"
      },
      "execution_count": 58,
      "outputs": [
        {
          "output_type": "stream",
          "name": "stdout",
          "text": [
            "[INFO] Saving model to: models/pretrained_vit_b_16.pth\n"
          ]
        }
      ]
    },
    {
      "cell_type": "code",
      "source": [
        "# Checking the size of ViT feature extractor\n",
        "pretrained_vit_model_size = Path(\"models/pretrained_vit_b_16.pth\").stat().st_size // (1024*1024)\n",
        "print(f\"Pretrained ViT feature extractor model size: {pretrained_vit_model_size} MB\")"
      ],
      "metadata": {
        "id": "7sGpB7XbcYg9",
        "colab": {
          "base_uri": "https://localhost:8080/"
        },
        "outputId": "d1d622e7-ff7c-427c-aca0-ada7b4a569b4"
      },
      "execution_count": 59,
      "outputs": [
        {
          "output_type": "stream",
          "name": "stdout",
          "text": [
            "Pretrained ViT feature extractor model size: 327 MB\n"
          ]
        }
      ]
    },
    {
      "cell_type": "code",
      "source": [
        "# Count the number of parameters in ViT\n",
        "vit_total_params = sum(torch.numel(param) for param in vit.parameters())"
      ],
      "metadata": {
        "id": "sq_yebNQeG70"
      },
      "execution_count": 60,
      "outputs": []
    },
    {
      "cell_type": "code",
      "source": [
        "# Create a dictionary with ViT statistics\n",
        "vit_stats = {\"test_loss\": vit_results[\"test_loss\"][-1],\n",
        "             \"test_acc\": vit_results[\"test_acc\"][-1],\n",
        "             \"number_of_parameters\": vit_total_params,\n",
        "             \"model_size (MB)\": pretrained_vit_model_size}\n",
        "             \n",
        "vit_stats"
      ],
      "metadata": {
        "id": "75UVe4ydeGvt",
        "colab": {
          "base_uri": "https://localhost:8080/"
        },
        "outputId": "bc8ca776-842e-4770-e276-644d47df2c53"
      },
      "execution_count": 61,
      "outputs": [
        {
          "output_type": "execute_result",
          "data": {
            "text/plain": [
              "{'test_loss': 0.14184271215668154,\n",
              " 'test_acc': 0.9548611111111112,\n",
              " 'number_of_parameters': 85801732,\n",
              " 'model_size (MB)': 327}"
            ]
          },
          "metadata": {},
          "execution_count": 61
        }
      ]
    },
    {
      "cell_type": "markdown",
      "source": [
        "# Making predictions with our trained models"
      ],
      "metadata": {
        "id": "ShlhznoMetqR"
      }
    },
    {
      "cell_type": "markdown",
      "source": [
        "Since I'd like to make predictions across all the images in the test set, let's first get a list of all of the test image paths."
      ],
      "metadata": {
        "id": "9x9gaJgPeyyO"
      }
    },
    {
      "cell_type": "code",
      "source": [
        "# Get all test data paths\n",
        "test_data_paths = list(Path(test_dir).glob(\"*/*.jpg\"))\n",
        "test_data_paths[:5]"
      ],
      "metadata": {
        "id": "oqfBhNJ7bM-U",
        "colab": {
          "base_uri": "https://localhost:8080/"
        },
        "outputId": "ceeec152-bbdf-4bee-f014-e2c99647090c"
      },
      "execution_count": 62,
      "outputs": [
        {
          "output_type": "execute_result",
          "data": {
            "text/plain": [
              "[PosixPath('/content/splitted_data/val/Healthy/Corn_Health (403).jpg'),\n",
              " PosixPath('/content/splitted_data/val/Healthy/Corn_Health (804).jpg'),\n",
              " PosixPath('/content/splitted_data/val/Healthy/Corn_Health (486).jpg'),\n",
              " PosixPath('/content/splitted_data/val/Healthy/Corn_Health (829).jpg'),\n",
              " PosixPath('/content/splitted_data/val/Healthy/Corn_Health (495).jpg')]"
            ]
          },
          "metadata": {},
          "execution_count": 62
        }
      ]
    },
    {
      "cell_type": "code",
      "source": [
        "import pathlib\n",
        "from PIL import Image\n",
        "from timeit import default_timer as timer \n",
        "from tqdm.auto import tqdm\n",
        "from typing import List, Dict\n",
        "\n",
        "# Create a function to return a list of dictionaries with sample, truth label, prediction, prediction probability and prediction time\n",
        "def pred_and_store(paths: List[pathlib.Path], \n",
        "                   model: torch.nn.Module,\n",
        "                   transform: torchvision.transforms, \n",
        "                   class_names: List[str], \n",
        "                   device: str = \"cuda\" if torch.cuda.is_available() else \"cpu\") -> List[Dict]:\n",
        "    \n",
        "    # Create an empty list to store prediction dictionaires\n",
        "    pred_list = []\n",
        "    \n",
        "    # Loop through target paths\n",
        "    for path in tqdm(paths):\n",
        "        \n",
        "        # Create empty dictionary to store prediction information for each sample\n",
        "        pred_dict = {}\n",
        "\n",
        "        # Get the sample path and ground truth class name\n",
        "        pred_dict[\"image_path\"] = path\n",
        "        class_name = path.parent.stem\n",
        "        pred_dict[\"class_name\"] = class_name\n",
        "        \n",
        "        # Start the prediction timer\n",
        "        start_time = timer()\n",
        "        \n",
        "        # Open image path\n",
        "        img = Image.open(path)\n",
        "        \n",
        "        # Transform the image, add batch dimension and put image on target device\n",
        "        transformed_image = transform(img).unsqueeze(0).to(device) \n",
        "        \n",
        "        # Prepare model for inference by sending it to target device and turning on eval() mode\n",
        "        model.to(device)\n",
        "        model.eval()\n",
        "        \n",
        "        # Get prediction probability, predicition label and prediction class\n",
        "        with torch.inference_mode():\n",
        "            pred_logit = model(transformed_image) \n",
        "            pred_prob = torch.softmax(pred_logit, dim=1) \n",
        "            pred_label = torch.argmax(pred_prob, dim=1) \n",
        "            pred_class = class_names[pred_label.cpu()] # hardcode prediction class to be on CPU\n",
        "\n",
        "            # Make sure things in the dictionary are on CPU (required for inspecting predictions later on) \n",
        "            pred_dict[\"pred_prob\"] = round(pred_prob.unsqueeze(0).max().cpu().item(), 4)\n",
        "            pred_dict[\"pred_class\"] = pred_class\n",
        "            \n",
        "            # End the timer and calculate time per pred\n",
        "            end_time = timer()\n",
        "            pred_dict[\"time_for_pred\"] = round(end_time-start_time, 4)\n",
        "\n",
        "        # Does the pred match the true label?\n",
        "        pred_dict[\"correct\"] = class_name == pred_class\n",
        "\n",
        "        # Add the dictionary to the list of preds\n",
        "        pred_list.append(pred_dict)\n",
        "    \n",
        "    # Return list of prediction dictionaries\n",
        "    return pred_list"
      ],
      "metadata": {
        "id": "vWxRIt-YfJJ_"
      },
      "execution_count": 63,
      "outputs": []
    },
    {
      "cell_type": "markdown",
      "source": [
        "## Making and timming predictions with the models"
      ],
      "metadata": {
        "id": "hawGGDSBfmLS"
      }
    },
    {
      "cell_type": "markdown",
      "source": [
        "### EffNetB2"
      ],
      "metadata": {
        "id": "WWrHl_ecfzxN"
      }
    },
    {
      "cell_type": "code",
      "source": [
        "# Make predictions with EffNetB2\n",
        "effnetb2_test_pred_dicts = pred_and_store(paths = test_data_paths,\n",
        "                                          model = effnetb2,\n",
        "                                          transform = effnetb2_transforms,\n",
        "                                          class_names = class_names,\n",
        "                                          device = \"cpu\") # Make predictions on CPU"
      ],
      "metadata": {
        "id": "Dsu99NtIfpq-",
        "colab": {
          "base_uri": "https://localhost:8080/",
          "height": 49,
          "referenced_widgets": [
            "0696c5ed50704da2b87fd0f3b35432a6",
            "ec819e0a60ae4983ae132dc181b58cec",
            "5b9bfc1e99f146fe9d0d15559d06f12c",
            "d71a735dfab74e0cb642cbd8378bc490",
            "4baa55e0278a4f0092ef49c15dfe915b",
            "384c462b1e7a4b75b016b8de2e69833f",
            "3dbc5bf8426f4df78b170444bc7d668e",
            "8feabd793b244f03ba46dcdba30d9faa",
            "d130f0b49b714bb2902cd33cc6ec7fd0",
            "0373de2561de466682191ffa2bc44313",
            "6584ba34c4514834a0e54c89b6df4de2"
          ]
        },
        "outputId": "8e7b4c8a-7930-46cc-8601-5bcd3b51b73c"
      },
      "execution_count": 64,
      "outputs": [
        {
          "output_type": "display_data",
          "data": {
            "text/plain": [
              "  0%|          | 0/334 [00:00<?, ?it/s]"
            ],
            "application/vnd.jupyter.widget-view+json": {
              "version_major": 2,
              "version_minor": 0,
              "model_id": "0696c5ed50704da2b87fd0f3b35432a6"
            }
          },
          "metadata": {}
        }
      ]
    },
    {
      "cell_type": "code",
      "source": [
        "# Turn the test_pred_dicts into a DataFrame\n",
        "import pandas as pd\n",
        "effnetb2_test_pred_df = pd.DataFrame(effnetb2_test_pred_dicts)\n",
        "effnetb2_test_pred_df.head()"
      ],
      "metadata": {
        "id": "XaT0PR2wgZl1",
        "colab": {
          "base_uri": "https://localhost:8080/",
          "height": 206
        },
        "outputId": "892cc997-cf62-4249-e883-8e5da80db742"
      },
      "execution_count": 65,
      "outputs": [
        {
          "output_type": "execute_result",
          "data": {
            "text/plain": [
              "                                          image_path class_name  pred_prob  \\\n",
              "0  /content/splitted_data/val/Healthy/Corn_Health...    Healthy     0.9984   \n",
              "1  /content/splitted_data/val/Healthy/Corn_Health...    Healthy     0.9993   \n",
              "2  /content/splitted_data/val/Healthy/Corn_Health...    Healthy     0.9991   \n",
              "3  /content/splitted_data/val/Healthy/Corn_Health...    Healthy     0.9975   \n",
              "4  /content/splitted_data/val/Healthy/Corn_Health...    Healthy     0.9962   \n",
              "\n",
              "  pred_class  time_for_pred  correct  \n",
              "0    Healthy         0.3653     True  \n",
              "1    Healthy         0.1104     True  \n",
              "2    Healthy         0.1081     True  \n",
              "3    Healthy         0.1087     True  \n",
              "4    Healthy         0.1062     True  "
            ],
            "text/html": [
              "\n",
              "  <div id=\"df-cf5b562b-e3ff-4348-96a8-3417af95003e\">\n",
              "    <div class=\"colab-df-container\">\n",
              "      <div>\n",
              "<style scoped>\n",
              "    .dataframe tbody tr th:only-of-type {\n",
              "        vertical-align: middle;\n",
              "    }\n",
              "\n",
              "    .dataframe tbody tr th {\n",
              "        vertical-align: top;\n",
              "    }\n",
              "\n",
              "    .dataframe thead th {\n",
              "        text-align: right;\n",
              "    }\n",
              "</style>\n",
              "<table border=\"1\" class=\"dataframe\">\n",
              "  <thead>\n",
              "    <tr style=\"text-align: right;\">\n",
              "      <th></th>\n",
              "      <th>image_path</th>\n",
              "      <th>class_name</th>\n",
              "      <th>pred_prob</th>\n",
              "      <th>pred_class</th>\n",
              "      <th>time_for_pred</th>\n",
              "      <th>correct</th>\n",
              "    </tr>\n",
              "  </thead>\n",
              "  <tbody>\n",
              "    <tr>\n",
              "      <th>0</th>\n",
              "      <td>/content/splitted_data/val/Healthy/Corn_Health...</td>\n",
              "      <td>Healthy</td>\n",
              "      <td>0.9984</td>\n",
              "      <td>Healthy</td>\n",
              "      <td>0.3653</td>\n",
              "      <td>True</td>\n",
              "    </tr>\n",
              "    <tr>\n",
              "      <th>1</th>\n",
              "      <td>/content/splitted_data/val/Healthy/Corn_Health...</td>\n",
              "      <td>Healthy</td>\n",
              "      <td>0.9993</td>\n",
              "      <td>Healthy</td>\n",
              "      <td>0.1104</td>\n",
              "      <td>True</td>\n",
              "    </tr>\n",
              "    <tr>\n",
              "      <th>2</th>\n",
              "      <td>/content/splitted_data/val/Healthy/Corn_Health...</td>\n",
              "      <td>Healthy</td>\n",
              "      <td>0.9991</td>\n",
              "      <td>Healthy</td>\n",
              "      <td>0.1081</td>\n",
              "      <td>True</td>\n",
              "    </tr>\n",
              "    <tr>\n",
              "      <th>3</th>\n",
              "      <td>/content/splitted_data/val/Healthy/Corn_Health...</td>\n",
              "      <td>Healthy</td>\n",
              "      <td>0.9975</td>\n",
              "      <td>Healthy</td>\n",
              "      <td>0.1087</td>\n",
              "      <td>True</td>\n",
              "    </tr>\n",
              "    <tr>\n",
              "      <th>4</th>\n",
              "      <td>/content/splitted_data/val/Healthy/Corn_Health...</td>\n",
              "      <td>Healthy</td>\n",
              "      <td>0.9962</td>\n",
              "      <td>Healthy</td>\n",
              "      <td>0.1062</td>\n",
              "      <td>True</td>\n",
              "    </tr>\n",
              "  </tbody>\n",
              "</table>\n",
              "</div>\n",
              "      <button class=\"colab-df-convert\" onclick=\"convertToInteractive('df-cf5b562b-e3ff-4348-96a8-3417af95003e')\"\n",
              "              title=\"Convert this dataframe to an interactive table.\"\n",
              "              style=\"display:none;\">\n",
              "        \n",
              "  <svg xmlns=\"http://www.w3.org/2000/svg\" height=\"24px\"viewBox=\"0 0 24 24\"\n",
              "       width=\"24px\">\n",
              "    <path d=\"M0 0h24v24H0V0z\" fill=\"none\"/>\n",
              "    <path d=\"M18.56 5.44l.94 2.06.94-2.06 2.06-.94-2.06-.94-.94-2.06-.94 2.06-2.06.94zm-11 1L8.5 8.5l.94-2.06 2.06-.94-2.06-.94L8.5 2.5l-.94 2.06-2.06.94zm10 10l.94 2.06.94-2.06 2.06-.94-2.06-.94-.94-2.06-.94 2.06-2.06.94z\"/><path d=\"M17.41 7.96l-1.37-1.37c-.4-.4-.92-.59-1.43-.59-.52 0-1.04.2-1.43.59L10.3 9.45l-7.72 7.72c-.78.78-.78 2.05 0 2.83L4 21.41c.39.39.9.59 1.41.59.51 0 1.02-.2 1.41-.59l7.78-7.78 2.81-2.81c.8-.78.8-2.07 0-2.86zM5.41 20L4 18.59l7.72-7.72 1.47 1.35L5.41 20z\"/>\n",
              "  </svg>\n",
              "      </button>\n",
              "      \n",
              "  <style>\n",
              "    .colab-df-container {\n",
              "      display:flex;\n",
              "      flex-wrap:wrap;\n",
              "      gap: 12px;\n",
              "    }\n",
              "\n",
              "    .colab-df-convert {\n",
              "      background-color: #E8F0FE;\n",
              "      border: none;\n",
              "      border-radius: 50%;\n",
              "      cursor: pointer;\n",
              "      display: none;\n",
              "      fill: #1967D2;\n",
              "      height: 32px;\n",
              "      padding: 0 0 0 0;\n",
              "      width: 32px;\n",
              "    }\n",
              "\n",
              "    .colab-df-convert:hover {\n",
              "      background-color: #E2EBFA;\n",
              "      box-shadow: 0px 1px 2px rgba(60, 64, 67, 0.3), 0px 1px 3px 1px rgba(60, 64, 67, 0.15);\n",
              "      fill: #174EA6;\n",
              "    }\n",
              "\n",
              "    [theme=dark] .colab-df-convert {\n",
              "      background-color: #3B4455;\n",
              "      fill: #D2E3FC;\n",
              "    }\n",
              "\n",
              "    [theme=dark] .colab-df-convert:hover {\n",
              "      background-color: #434B5C;\n",
              "      box-shadow: 0px 1px 3px 1px rgba(0, 0, 0, 0.15);\n",
              "      filter: drop-shadow(0px 1px 2px rgba(0, 0, 0, 0.3));\n",
              "      fill: #FFFFFF;\n",
              "    }\n",
              "  </style>\n",
              "\n",
              "      <script>\n",
              "        const buttonEl =\n",
              "          document.querySelector('#df-cf5b562b-e3ff-4348-96a8-3417af95003e button.colab-df-convert');\n",
              "        buttonEl.style.display =\n",
              "          google.colab.kernel.accessAllowed ? 'block' : 'none';\n",
              "\n",
              "        async function convertToInteractive(key) {\n",
              "          const element = document.querySelector('#df-cf5b562b-e3ff-4348-96a8-3417af95003e');\n",
              "          const dataTable =\n",
              "            await google.colab.kernel.invokeFunction('convertToInteractive',\n",
              "                                                     [key], {});\n",
              "          if (!dataTable) return;\n",
              "\n",
              "          const docLinkHtml = 'Like what you see? Visit the ' +\n",
              "            '<a target=\"_blank\" href=https://colab.research.google.com/notebooks/data_table.ipynb>data table notebook</a>'\n",
              "            + ' to learn more about interactive tables.';\n",
              "          element.innerHTML = '';\n",
              "          dataTable['output_type'] = 'display_data';\n",
              "          await google.colab.output.renderOutput(dataTable, element);\n",
              "          const docLink = document.createElement('div');\n",
              "          docLink.innerHTML = docLinkHtml;\n",
              "          element.appendChild(docLink);\n",
              "        }\n",
              "      </script>\n",
              "    </div>\n",
              "  </div>\n",
              "  "
            ]
          },
          "metadata": {},
          "execution_count": 65
        }
      ]
    },
    {
      "cell_type": "code",
      "source": [
        "# Check the number of correct predictions\n",
        "effnetb2_test_pred_df.correct.value_counts()"
      ],
      "metadata": {
        "id": "D0EafNWUgr2K",
        "colab": {
          "base_uri": "https://localhost:8080/"
        },
        "outputId": "df5c17a1-1144-4d74-b845-9741d46333a0"
      },
      "execution_count": 66,
      "outputs": [
        {
          "output_type": "execute_result",
          "data": {
            "text/plain": [
              "True     291\n",
              "False     43\n",
              "Name: correct, dtype: int64"
            ]
          },
          "metadata": {},
          "execution_count": 66
        }
      ]
    },
    {
      "cell_type": "code",
      "source": [
        "# Find the average time per prediction\n",
        "effnetb2_avg_time_pred = round(effnetb2_test_pred_df.time_for_pred.mean(), 4)\n",
        "print(f\"EffNetB2 average time per prediction: {effnetb2_avg_time_pred} seconds\")"
      ],
      "metadata": {
        "id": "nBqfbxEGg4TN",
        "colab": {
          "base_uri": "https://localhost:8080/"
        },
        "outputId": "9122ca08-85fb-4746-ec00-fb79001bebde"
      },
      "execution_count": 67,
      "outputs": [
        {
          "output_type": "stream",
          "name": "stdout",
          "text": [
            "EffNetB2 average time per prediction: 0.1289 seconds\n"
          ]
        }
      ]
    },
    {
      "cell_type": "code",
      "source": [
        "# Add EffNetB2 average prediction time to stats dictionary\n",
        "effnetb2_stats[\"time_per_pred_cpu\"] = effnetb2_avg_time_pred"
      ],
      "metadata": {
        "id": "Jcs0aeAHhMJD"
      },
      "execution_count": 68,
      "outputs": []
    },
    {
      "cell_type": "markdown",
      "source": [
        "### AlexNet"
      ],
      "metadata": {
        "id": "1ORWTb-VhdmL"
      }
    },
    {
      "cell_type": "code",
      "source": [
        "# Make predictions with AlexNet\n",
        "alexnet_test_pred_dicts = pred_and_store(paths = test_data_paths,\n",
        "                                          model = alexnet,\n",
        "                                          transform = alexnet_transforms,\n",
        "                                          class_names = class_names,\n",
        "                                          device = \"cpu\") # Make predictions on CPU"
      ],
      "metadata": {
        "id": "GxGtJSJ2hfDd",
        "colab": {
          "base_uri": "https://localhost:8080/",
          "height": 49,
          "referenced_widgets": [
            "749a6365592d44268beb3b88971a5b48",
            "e6d1fcb0e65f49018cf9dcfa43085c50",
            "a9294a2534b24da9aa106786d683d6fa",
            "fbd9dd26a6a34b2dbb5b9a4e7ee9488d",
            "d580a8dd62334ded91051137c6b224e1",
            "284c79bb4ea04d27a665139b2a83ae68",
            "e67fa9ba779c4f2eb12b8a1d8fae6319",
            "22380c6bf74240e7945d9cca4a575c0c",
            "5a678ea0bfda44ed90dfb74441915728",
            "5b24ec71c8b24dba98be5d583686fe87",
            "df282abcbc5f47aa906d440c4552933c"
          ]
        },
        "outputId": "5486945b-8219-40e9-a92c-98590b84652e"
      },
      "execution_count": 69,
      "outputs": [
        {
          "output_type": "display_data",
          "data": {
            "text/plain": [
              "  0%|          | 0/334 [00:00<?, ?it/s]"
            ],
            "application/vnd.jupyter.widget-view+json": {
              "version_major": 2,
              "version_minor": 0,
              "model_id": "749a6365592d44268beb3b88971a5b48"
            }
          },
          "metadata": {}
        }
      ]
    },
    {
      "cell_type": "code",
      "source": [
        "# Turn the test_pred_dicts into a DataFrame\n",
        "alexnet_test_pred_df = pd.DataFrame(alexnet_test_pred_dicts)\n",
        "\n",
        "# Check the number of correct predictions\n",
        "alexnet_test_pred_df.correct.value_counts()"
      ],
      "metadata": {
        "id": "U1eyVRiKhtvg",
        "colab": {
          "base_uri": "https://localhost:8080/"
        },
        "outputId": "fe50f6c0-2956-43e0-aacb-d9b777458d96"
      },
      "execution_count": 70,
      "outputs": [
        {
          "output_type": "execute_result",
          "data": {
            "text/plain": [
              "True     305\n",
              "False     29\n",
              "Name: correct, dtype: int64"
            ]
          },
          "metadata": {},
          "execution_count": 70
        }
      ]
    },
    {
      "cell_type": "code",
      "source": [
        "# Find the average time per prediction\n",
        "alexnet_avg_time_pred = round(alexnet_test_pred_df.time_for_pred.mean(), 4)\n",
        "print(f\"AlexNet average time per prediction: {alexnet_avg_time_pred} seconds\")\n",
        "\n",
        "# Add AlexNet average prediction time to stats dictionary\n",
        "alexnet_stats[\"time_per_pred_cpu\"] = alexnet_avg_time_pred"
      ],
      "metadata": {
        "id": "PnaDnxzyiNfV",
        "colab": {
          "base_uri": "https://localhost:8080/"
        },
        "outputId": "852438f7-31cb-4602-c165-48147fe1f13d"
      },
      "execution_count": 71,
      "outputs": [
        {
          "output_type": "stream",
          "name": "stdout",
          "text": [
            "AlexNet average time per prediction: 0.0611 seconds\n"
          ]
        }
      ]
    },
    {
      "cell_type": "markdown",
      "source": [
        "### GoogleNet"
      ],
      "metadata": {
        "id": "1z_0ZpkbuvxN"
      }
    },
    {
      "cell_type": "code",
      "source": [
        "# Make predictions with GoogleNet\n",
        "googlenet_test_pred_dicts = pred_and_store(paths = test_data_paths,\n",
        "                                           model = googlenet,\n",
        "                                           transform = googlenet_transforms,\n",
        "                                           class_names = class_names,\n",
        "                                           device = \"cpu\") # Make predictions on CPU"
      ],
      "metadata": {
        "id": "qHeMdAgSiSJm",
        "colab": {
          "base_uri": "https://localhost:8080/",
          "height": 49,
          "referenced_widgets": [
            "87d4444f0ff94cc4a089c017c6e4b117",
            "d9455b219f2f4083891872a1a0e415c0",
            "c6fa33dbdc62451d804914e70710760c",
            "b3bff120c13b49cbb981c12a41d42654",
            "49b61bfc479b439c8710b1ac7d7e66df",
            "7761d354dc614e639aa538dff0c76e65",
            "899d42f977574e02b21f4afc8e544a2a",
            "c24998f81c1e45acb908b36bcf0aefb5",
            "03897a961f7f4db68acd79b6ce5bc746",
            "01cb2387fd714034b094ee6d1e032a58",
            "b5c5df38adb2431f92473920b8ea2623"
          ]
        },
        "outputId": "5d3e18f1-1875-40ce-bf7c-235012f56505"
      },
      "execution_count": 72,
      "outputs": [
        {
          "output_type": "display_data",
          "data": {
            "text/plain": [
              "  0%|          | 0/334 [00:00<?, ?it/s]"
            ],
            "application/vnd.jupyter.widget-view+json": {
              "version_major": 2,
              "version_minor": 0,
              "model_id": "87d4444f0ff94cc4a089c017c6e4b117"
            }
          },
          "metadata": {}
        }
      ]
    },
    {
      "cell_type": "code",
      "source": [
        "# Turn the test_pred_dicts into a DataFrame\n",
        "googlenet_test_pred_df = pd.DataFrame(googlenet_test_pred_dicts)\n",
        "\n",
        "# Check the number of correct predictions\n",
        "googlenet_test_pred_df.correct.value_counts()"
      ],
      "metadata": {
        "id": "sNSV0nYhu-T8",
        "colab": {
          "base_uri": "https://localhost:8080/"
        },
        "outputId": "b3d30b34-1990-403f-ffb5-4b8be867ed83"
      },
      "execution_count": 73,
      "outputs": [
        {
          "output_type": "execute_result",
          "data": {
            "text/plain": [
              "True     293\n",
              "False     41\n",
              "Name: correct, dtype: int64"
            ]
          },
          "metadata": {},
          "execution_count": 73
        }
      ]
    },
    {
      "cell_type": "code",
      "source": [
        "# Find the average time per prediction\n",
        "googlenet_avg_time_pred = round(googlenet_test_pred_df.time_for_pred.mean(), 4)\n",
        "print(f\"GoogleNet average time per prediction: {googlenet_avg_time_pred} seconds\")\n",
        "\n",
        "# Add GoogleNet average prediction time to stats dictionary\n",
        "googlenet_stats[\"time_per_pred_cpu\"] = googlenet_avg_time_pred"
      ],
      "metadata": {
        "id": "T3ziq6O3u-CF",
        "colab": {
          "base_uri": "https://localhost:8080/"
        },
        "outputId": "7884dbbd-3b3d-4e95-d064-693fd8e9dfde"
      },
      "execution_count": 74,
      "outputs": [
        {
          "output_type": "stream",
          "name": "stdout",
          "text": [
            "GoogleNet average time per prediction: 0.1272 seconds\n"
          ]
        }
      ]
    },
    {
      "cell_type": "markdown",
      "source": [
        "### ResNet50"
      ],
      "metadata": {
        "id": "dhTNH4v8vYbY"
      }
    },
    {
      "cell_type": "code",
      "source": [
        "# Make predictions with ResNet50\n",
        "resnet_test_pred_dicts = pred_and_store(paths = test_data_paths,\n",
        "                                        model = resnet,\n",
        "                                        transform = resnet_transforms,\n",
        "                                        class_names = class_names,\n",
        "                                        device = \"cpu\") # Make predictions on CPU"
      ],
      "metadata": {
        "id": "KG06txybvdhU",
        "colab": {
          "base_uri": "https://localhost:8080/",
          "height": 49,
          "referenced_widgets": [
            "abc0108e97964716b8444d2131bf3799",
            "1eee06fc2dad4dada340685c235ca85d",
            "d5562fe2a89b4317b15913ec08f812cb",
            "c7c0a648ec83465fa7d600f86c30ece6",
            "0d6e0ecb50dd4341a050a83e0bc2858a",
            "8af9d99262ad4112a480ccd2079443c0",
            "8b78301b81824e1aae98b6a8efe88097",
            "79cbd39dbf8a44b19b2ef02ff2ab8f4d",
            "23b1fad5f03b47689df77f163ad9fc61",
            "cdcf87cfd6b141508da53418468b165e",
            "0d7265bf10f34a9ea6245ec69e08c7fa"
          ]
        },
        "outputId": "cb9ce078-771c-443a-d3ef-a911498a5e71"
      },
      "execution_count": 75,
      "outputs": [
        {
          "output_type": "display_data",
          "data": {
            "text/plain": [
              "  0%|          | 0/334 [00:00<?, ?it/s]"
            ],
            "application/vnd.jupyter.widget-view+json": {
              "version_major": 2,
              "version_minor": 0,
              "model_id": "abc0108e97964716b8444d2131bf3799"
            }
          },
          "metadata": {}
        }
      ]
    },
    {
      "cell_type": "code",
      "source": [
        "# Turn the test_pred_dicts into a DataFrame\n",
        "resnet_test_pred_df = pd.DataFrame(resnet_test_pred_dicts)\n",
        "\n",
        "# Check the number of correct predictions\n",
        "resnet_test_pred_df.correct.value_counts()"
      ],
      "metadata": {
        "id": "9s_MG40LvdY3",
        "colab": {
          "base_uri": "https://localhost:8080/"
        },
        "outputId": "edee2fdf-1e2d-4a80-9b72-758614b4aaf8"
      },
      "execution_count": 76,
      "outputs": [
        {
          "output_type": "execute_result",
          "data": {
            "text/plain": [
              "True     311\n",
              "False     23\n",
              "Name: correct, dtype: int64"
            ]
          },
          "metadata": {},
          "execution_count": 76
        }
      ]
    },
    {
      "cell_type": "code",
      "source": [
        "# Find the average time per prediction\n",
        "resnet_avg_time_pred = round(resnet_test_pred_df.time_for_pred.mean(), 4)\n",
        "print(f\"ResNet50 average time per prediction: {resnet_avg_time_pred} seconds\")\n",
        "\n",
        "# Add ResNet50 average prediction time to stats dictionary\n",
        "resnet50_stats[\"time_per_pred_cpu\"] = resnet_avg_time_pred"
      ],
      "metadata": {
        "id": "SJXRwbNNvcxc",
        "colab": {
          "base_uri": "https://localhost:8080/"
        },
        "outputId": "d211fb6f-79a7-4e72-dd4a-22b93105a967"
      },
      "execution_count": 78,
      "outputs": [
        {
          "output_type": "stream",
          "name": "stdout",
          "text": [
            "ResNet50 average time per prediction: 0.2066 seconds\n"
          ]
        }
      ]
    },
    {
      "cell_type": "markdown",
      "source": [
        "### ViT"
      ],
      "metadata": {
        "id": "3-9eBsYUwhHW"
      }
    },
    {
      "cell_type": "code",
      "source": [
        "# Make predictions with ViT\n",
        "vit_test_pred_dicts = pred_and_store(paths = test_data_paths,\n",
        "                                     model = vit,\n",
        "                                     transform = vit_transforms,\n",
        "                                     class_names = class_names,\n",
        "                                     device = \"cpu\") # Make predictions on CPU"
      ],
      "metadata": {
        "id": "tze1pPGFwkNw",
        "colab": {
          "base_uri": "https://localhost:8080/",
          "height": 49,
          "referenced_widgets": [
            "124f3994636b4fc8a63a1c7f9a7a9908",
            "1d074522bf20442bac39c0b553edb4dc",
            "fcb002e1acc04216b9757bbdd1d458b9",
            "e5734a2fa8b2463bb0c4bec125c8125f",
            "66993c0230b74e77bb24f0789a0def81",
            "3644386fea31464ba5346fc229082dc2",
            "8b4a20ebaa0e4a01a48873e69d042eff",
            "76814b7f06df40e98947c69ce3f18854",
            "54703851bc194849b7e7bb728a0424d8",
            "b11b5116b26e4e8f8e8273af3c6ab25b",
            "00a95cbecaa546ddb8a736dbf1e480a5"
          ]
        },
        "outputId": "aecc9578-f9b6-4758-b643-c9b123870150"
      },
      "execution_count": 79,
      "outputs": [
        {
          "output_type": "display_data",
          "data": {
            "text/plain": [
              "  0%|          | 0/334 [00:00<?, ?it/s]"
            ],
            "application/vnd.jupyter.widget-view+json": {
              "version_major": 2,
              "version_minor": 0,
              "model_id": "124f3994636b4fc8a63a1c7f9a7a9908"
            }
          },
          "metadata": {}
        }
      ]
    },
    {
      "cell_type": "code",
      "source": [
        "# Turn the test_pred_dicts into a DataFrame\n",
        "vit_test_pred_df = pd.DataFrame(vit_test_pred_dicts)\n",
        "\n",
        "# Check the number of correct predictions\n",
        "vit_test_pred_df.correct.value_counts()"
      ],
      "metadata": {
        "id": "KLHhGcNUwkGP",
        "colab": {
          "base_uri": "https://localhost:8080/"
        },
        "outputId": "0a7bdc9e-0a92-452f-d656-3f581877c4c2"
      },
      "execution_count": 80,
      "outputs": [
        {
          "output_type": "execute_result",
          "data": {
            "text/plain": [
              "True     314\n",
              "False     20\n",
              "Name: correct, dtype: int64"
            ]
          },
          "metadata": {},
          "execution_count": 80
        }
      ]
    },
    {
      "cell_type": "code",
      "source": [
        "# Find the average time per prediction\n",
        "vit_avg_time_pred = round(vit_test_pred_df.time_for_pred.mean(), 4)\n",
        "print(f\"ViT average time per prediction: {vit_avg_time_pred} seconds\")\n",
        "\n",
        "# Add ViT average prediction time to stats dictionary\n",
        "vit_stats[\"time_per_pred_cpu\"] = vit_avg_time_pred"
      ],
      "metadata": {
        "id": "V4Nyp5Htwjjo",
        "colab": {
          "base_uri": "https://localhost:8080/"
        },
        "outputId": "ad291739-2ed1-41cd-b1ba-06cef2571e0a"
      },
      "execution_count": 81,
      "outputs": [
        {
          "output_type": "stream",
          "name": "stdout",
          "text": [
            "ViT average time per prediction: 0.6734 seconds\n"
          ]
        }
      ]
    },
    {
      "cell_type": "markdown",
      "source": [
        "# Comparing models"
      ],
      "metadata": {
        "id": "E2h8AKAZyBNy"
      }
    },
    {
      "cell_type": "code",
      "source": [
        "# Turn stats dictionaries into DataFrames\n",
        "models_df = pd.DataFrame([effnetb2_stats, alexnet_stats, googlenet_stats, resnet50_stats, vit_stats])\n",
        "\n",
        "# Add column for model names\n",
        "models_df[\"model\"] = [\"EffNetB2\", \"AlexNet\", \"GoogleNet\", \"ResNet50\", \"ViT\"]\n",
        "\n",
        "# Convert accuracy to percentage\n",
        "models_df[\"test_acc\"] = round(models_df[\"test_acc\"]*100, 2)\n",
        "\n",
        "models_df"
      ],
      "metadata": {
        "id": "VUElCuK9yCiO",
        "colab": {
          "base_uri": "https://localhost:8080/",
          "height": 206
        },
        "outputId": "78659f77-adbc-4a76-8dee-d4e957a0602e"
      },
      "execution_count": 82,
      "outputs": [
        {
          "output_type": "execute_result",
          "data": {
            "text/plain": [
              "   test_loss  test_acc  number_of_parameters  model_size (MB)  \\\n",
              "0   0.213726     90.86               7706630               29   \n",
              "1   0.261367     93.52              57020228              217   \n",
              "2   0.233210     91.20               5604004               21   \n",
              "3   0.173967     93.52              23516228               90   \n",
              "4   0.141843     95.49              85801732              327   \n",
              "\n",
              "   time_per_pred_cpu      model  \n",
              "0             0.1289   EffNetB2  \n",
              "1             0.0611    AlexNet  \n",
              "2             0.1272  GoogleNet  \n",
              "3             0.2066   ResNet50  \n",
              "4             0.6734        ViT  "
            ],
            "text/html": [
              "\n",
              "  <div id=\"df-f38f0718-b25d-45d0-85cf-7d84176505e6\">\n",
              "    <div class=\"colab-df-container\">\n",
              "      <div>\n",
              "<style scoped>\n",
              "    .dataframe tbody tr th:only-of-type {\n",
              "        vertical-align: middle;\n",
              "    }\n",
              "\n",
              "    .dataframe tbody tr th {\n",
              "        vertical-align: top;\n",
              "    }\n",
              "\n",
              "    .dataframe thead th {\n",
              "        text-align: right;\n",
              "    }\n",
              "</style>\n",
              "<table border=\"1\" class=\"dataframe\">\n",
              "  <thead>\n",
              "    <tr style=\"text-align: right;\">\n",
              "      <th></th>\n",
              "      <th>test_loss</th>\n",
              "      <th>test_acc</th>\n",
              "      <th>number_of_parameters</th>\n",
              "      <th>model_size (MB)</th>\n",
              "      <th>time_per_pred_cpu</th>\n",
              "      <th>model</th>\n",
              "    </tr>\n",
              "  </thead>\n",
              "  <tbody>\n",
              "    <tr>\n",
              "      <th>0</th>\n",
              "      <td>0.213726</td>\n",
              "      <td>90.86</td>\n",
              "      <td>7706630</td>\n",
              "      <td>29</td>\n",
              "      <td>0.1289</td>\n",
              "      <td>EffNetB2</td>\n",
              "    </tr>\n",
              "    <tr>\n",
              "      <th>1</th>\n",
              "      <td>0.261367</td>\n",
              "      <td>93.52</td>\n",
              "      <td>57020228</td>\n",
              "      <td>217</td>\n",
              "      <td>0.0611</td>\n",
              "      <td>AlexNet</td>\n",
              "    </tr>\n",
              "    <tr>\n",
              "      <th>2</th>\n",
              "      <td>0.233210</td>\n",
              "      <td>91.20</td>\n",
              "      <td>5604004</td>\n",
              "      <td>21</td>\n",
              "      <td>0.1272</td>\n",
              "      <td>GoogleNet</td>\n",
              "    </tr>\n",
              "    <tr>\n",
              "      <th>3</th>\n",
              "      <td>0.173967</td>\n",
              "      <td>93.52</td>\n",
              "      <td>23516228</td>\n",
              "      <td>90</td>\n",
              "      <td>0.2066</td>\n",
              "      <td>ResNet50</td>\n",
              "    </tr>\n",
              "    <tr>\n",
              "      <th>4</th>\n",
              "      <td>0.141843</td>\n",
              "      <td>95.49</td>\n",
              "      <td>85801732</td>\n",
              "      <td>327</td>\n",
              "      <td>0.6734</td>\n",
              "      <td>ViT</td>\n",
              "    </tr>\n",
              "  </tbody>\n",
              "</table>\n",
              "</div>\n",
              "      <button class=\"colab-df-convert\" onclick=\"convertToInteractive('df-f38f0718-b25d-45d0-85cf-7d84176505e6')\"\n",
              "              title=\"Convert this dataframe to an interactive table.\"\n",
              "              style=\"display:none;\">\n",
              "        \n",
              "  <svg xmlns=\"http://www.w3.org/2000/svg\" height=\"24px\"viewBox=\"0 0 24 24\"\n",
              "       width=\"24px\">\n",
              "    <path d=\"M0 0h24v24H0V0z\" fill=\"none\"/>\n",
              "    <path d=\"M18.56 5.44l.94 2.06.94-2.06 2.06-.94-2.06-.94-.94-2.06-.94 2.06-2.06.94zm-11 1L8.5 8.5l.94-2.06 2.06-.94-2.06-.94L8.5 2.5l-.94 2.06-2.06.94zm10 10l.94 2.06.94-2.06 2.06-.94-2.06-.94-.94-2.06-.94 2.06-2.06.94z\"/><path d=\"M17.41 7.96l-1.37-1.37c-.4-.4-.92-.59-1.43-.59-.52 0-1.04.2-1.43.59L10.3 9.45l-7.72 7.72c-.78.78-.78 2.05 0 2.83L4 21.41c.39.39.9.59 1.41.59.51 0 1.02-.2 1.41-.59l7.78-7.78 2.81-2.81c.8-.78.8-2.07 0-2.86zM5.41 20L4 18.59l7.72-7.72 1.47 1.35L5.41 20z\"/>\n",
              "  </svg>\n",
              "      </button>\n",
              "      \n",
              "  <style>\n",
              "    .colab-df-container {\n",
              "      display:flex;\n",
              "      flex-wrap:wrap;\n",
              "      gap: 12px;\n",
              "    }\n",
              "\n",
              "    .colab-df-convert {\n",
              "      background-color: #E8F0FE;\n",
              "      border: none;\n",
              "      border-radius: 50%;\n",
              "      cursor: pointer;\n",
              "      display: none;\n",
              "      fill: #1967D2;\n",
              "      height: 32px;\n",
              "      padding: 0 0 0 0;\n",
              "      width: 32px;\n",
              "    }\n",
              "\n",
              "    .colab-df-convert:hover {\n",
              "      background-color: #E2EBFA;\n",
              "      box-shadow: 0px 1px 2px rgba(60, 64, 67, 0.3), 0px 1px 3px 1px rgba(60, 64, 67, 0.15);\n",
              "      fill: #174EA6;\n",
              "    }\n",
              "\n",
              "    [theme=dark] .colab-df-convert {\n",
              "      background-color: #3B4455;\n",
              "      fill: #D2E3FC;\n",
              "    }\n",
              "\n",
              "    [theme=dark] .colab-df-convert:hover {\n",
              "      background-color: #434B5C;\n",
              "      box-shadow: 0px 1px 3px 1px rgba(0, 0, 0, 0.15);\n",
              "      filter: drop-shadow(0px 1px 2px rgba(0, 0, 0, 0.3));\n",
              "      fill: #FFFFFF;\n",
              "    }\n",
              "  </style>\n",
              "\n",
              "      <script>\n",
              "        const buttonEl =\n",
              "          document.querySelector('#df-f38f0718-b25d-45d0-85cf-7d84176505e6 button.colab-df-convert');\n",
              "        buttonEl.style.display =\n",
              "          google.colab.kernel.accessAllowed ? 'block' : 'none';\n",
              "\n",
              "        async function convertToInteractive(key) {\n",
              "          const element = document.querySelector('#df-f38f0718-b25d-45d0-85cf-7d84176505e6');\n",
              "          const dataTable =\n",
              "            await google.colab.kernel.invokeFunction('convertToInteractive',\n",
              "                                                     [key], {});\n",
              "          if (!dataTable) return;\n",
              "\n",
              "          const docLinkHtml = 'Like what you see? Visit the ' +\n",
              "            '<a target=\"_blank\" href=https://colab.research.google.com/notebooks/data_table.ipynb>data table notebook</a>'\n",
              "            + ' to learn more about interactive tables.';\n",
              "          element.innerHTML = '';\n",
              "          dataTable['output_type'] = 'display_data';\n",
              "          await google.colab.output.renderOutput(dataTable, element);\n",
              "          const docLink = document.createElement('div');\n",
              "          docLink.innerHTML = docLinkHtml;\n",
              "          element.appendChild(docLink);\n",
              "        }\n",
              "      </script>\n",
              "    </div>\n",
              "  </div>\n",
              "  "
            ]
          },
          "metadata": {},
          "execution_count": 82
        }
      ]
    },
    {
      "cell_type": "code",
      "source": [
        "# Compare test_acc\n",
        "import matplotlib.pyplot as plt\n",
        "\n",
        "# Sort values from test_acc (for visualization purposes)\n",
        "model_df_test_acc_sorted = models_df.sort_values(by = \"test_acc\", ascending = True)\n",
        "\n",
        "# Plot the results\n",
        "plt.figure(figsize = (8, 5))\n",
        "plt.barh(y = model_df_test_acc_sorted.model, \n",
        "         width = model_df_test_acc_sorted.test_acc)\n",
        "plt.title(\"Comparsion of the test accuracy\")\n",
        "plt.xlim(80) # Zoom for 80%\n",
        "plt.xlabel(\"Test Accuracy\");"
      ],
      "metadata": {
        "colab": {
          "base_uri": "https://localhost:8080/",
          "height": 350
        },
        "id": "9fmzyqWoTgpV",
        "outputId": "d2ac44b6-4cea-49a6-fc65-7fdef52bd64a"
      },
      "execution_count": 89,
      "outputs": [
        {
          "output_type": "display_data",
          "data": {
            "text/plain": [
              "<Figure size 576x360 with 1 Axes>"
            ],
            "image/png": "[encoded data removed]"
          },
          "metadata": {
            "needs_background": "light"
          }
        }
      ]
    },
    {
      "cell_type": "code",
      "source": [
        "# Compare Model Size\n",
        "# Sort values from model_size (for visualization purposes)\n",
        "model_df_model_size_sorted = models_df.sort_values(by = \"model_size (MB)\", ascending = True)\n",
        "\n",
        "# Plot the results\n",
        "plt.figure(figsize = (8, 5))\n",
        "plt.barh(y = model_df_model_size_sorted.model, \n",
        "         width = model_df_model_size_sorted[\"model_size (MB)\"])\n",
        "plt.title(\"Comparsion of the model size\")\n",
        "plt.xlabel(\"Model size (MB)\");"
      ],
      "metadata": {
        "colab": {
          "base_uri": "https://localhost:8080/",
          "height": 350
        },
        "id": "tbJqcaP7Tgfv",
        "outputId": "4f7cfb35-2321-4e8f-8d87-7fb51c9c765a"
      },
      "execution_count": 92,
      "outputs": [
        {
          "output_type": "display_data",
          "data": {
            "text/plain": [
              "<Figure size 576x360 with 1 Axes>"
            ],
            "image/png": "[encoded data removed]"
          },
          "metadata": {
            "needs_background": "light"
          }
        }
      ]
    },
    {
      "cell_type": "markdown",
      "source": [
        "ResNet50 and AlexNet have the same test accuracy, but ResNet50 is smaller than AlexNet (2.4 times smaller). At the moment, ResNet50 appears to be the model of choice, followed by GoogleNet."
      ],
      "metadata": {
        "id": "BkqHKCRHWH9w"
      }
    },
    {
      "cell_type": "code",
      "source": [
        "# Compare Time per prediction\n",
        "# Sort values from time_per_pred_cpu (for visualization purposes)\n",
        "model_df_time_pred_sorted = models_df.sort_values(by = \"time_per_pred_cpu\", ascending = True)\n",
        "\n",
        "# Plot the results\n",
        "plt.figure(figsize = (8, 5))\n",
        "plt.barh(y = model_df_time_pred_sorted.model, \n",
        "         width = model_df_time_pred_sorted.time_per_pred_cpu)\n",
        "plt.title(\"Comparsion of the average time per prediction on CPU\")\n",
        "plt.xlabel(\"Average time per prediction (seconds)\");"
      ],
      "metadata": {
        "colab": {
          "base_uri": "https://localhost:8080/",
          "height": 350
        },
        "id": "2jRHkp-eTgXi",
        "outputId": "bd2ddedf-a2b9-426c-ed7a-899aae188351"
      },
      "execution_count": 93,
      "outputs": [
        {
          "output_type": "display_data",
          "data": {
            "text/plain": [
              "<Figure size 576x360 with 1 Axes>"
            ],
            "image/png": "[encoded data removed]"
          },
          "metadata": {
            "needs_background": "light"
          }
        }
      ]
    },
    {
      "cell_type": "markdown",
      "source": [
        "AlexNet is quickest, but it is a model that, although it is accurate, is too big and for our needs (we want a model that is suitable for use in e.g. mobile phones), it is best to use models such as\n",
        "* GoogleNet.\n",
        "* ResNet50."
      ],
      "metadata": {
        "id": "eyr7UHwPhpiU"
      }
    },
    {
      "cell_type": "markdown",
      "source": [
        "## GoogleNet vs ResNet50 comparison\n",
        "\n",
        "I'd to divide the ResNet50 model statistics by the GoogleNet model statistics to find out the different ratios between the models."
      ],
      "metadata": {
        "id": "OSndddDpXyaE"
      }
    },
    {
      "cell_type": "code",
      "source": [
        "# Compare ResNet50 to GoogleNet across different characteristics\n",
        "pd.DataFrame(data = (models_df.set_index(\"model\").loc[\"ResNet50\"] / models_df.set_index(\"model\").loc[\"GoogleNet\"]), # divide ResNet50 statistics by GoogleNet statistics\n",
        "             columns = [\"ResNet50 to GoogleNet ratios\"]).T"
      ],
      "metadata": {
        "colab": {
          "base_uri": "https://localhost:8080/",
          "height": 81
        },
        "id": "YNVW0NGKXut7",
        "outputId": "e94e95e3-9a66-4bfc-aec3-97c4d908c814"
      },
      "execution_count": 94,
      "outputs": [
        {
          "output_type": "execute_result",
          "data": {
            "text/plain": [
              "                              test_loss  test_acc  number_of_parameters  \\\n",
              "ResNet50 to GoogleNet ratios   0.745966  1.025439              4.196326   \n",
              "\n",
              "                              model_size (MB)  time_per_pred_cpu  \n",
              "ResNet50 to GoogleNet ratios         4.285714           1.624214  "
            ],
            "text/html": [
              "\n",
              "  <div id=\"df-f7d82d12-a7b8-48f0-8298-a46e26275049\">\n",
              "    <div class=\"colab-df-container\">\n",
              "      <div>\n",
              "<style scoped>\n",
              "    .dataframe tbody tr th:only-of-type {\n",
              "        vertical-align: middle;\n",
              "    }\n",
              "\n",
              "    .dataframe tbody tr th {\n",
              "        vertical-align: top;\n",
              "    }\n",
              "\n",
              "    .dataframe thead th {\n",
              "        text-align: right;\n",
              "    }\n",
              "</style>\n",
              "<table border=\"1\" class=\"dataframe\">\n",
              "  <thead>\n",
              "    <tr style=\"text-align: right;\">\n",
              "      <th></th>\n",
              "      <th>test_loss</th>\n",
              "      <th>test_acc</th>\n",
              "      <th>number_of_parameters</th>\n",
              "      <th>model_size (MB)</th>\n",
              "      <th>time_per_pred_cpu</th>\n",
              "    </tr>\n",
              "  </thead>\n",
              "  <tbody>\n",
              "    <tr>\n",
              "      <th>ResNet50 to GoogleNet ratios</th>\n",
              "      <td>0.745966</td>\n",
              "      <td>1.025439</td>\n",
              "      <td>4.196326</td>\n",
              "      <td>4.285714</td>\n",
              "      <td>1.624214</td>\n",
              "    </tr>\n",
              "  </tbody>\n",
              "</table>\n",
              "</div>\n",
              "      <button class=\"colab-df-convert\" onclick=\"convertToInteractive('df-f7d82d12-a7b8-48f0-8298-a46e26275049')\"\n",
              "              title=\"Convert this dataframe to an interactive table.\"\n",
              "              style=\"display:none;\">\n",
              "        \n",
              "  <svg xmlns=\"http://www.w3.org/2000/svg\" height=\"24px\"viewBox=\"0 0 24 24\"\n",
              "       width=\"24px\">\n",
              "    <path d=\"M0 0h24v24H0V0z\" fill=\"none\"/>\n",
              "    <path d=\"M18.56 5.44l.94 2.06.94-2.06 2.06-.94-2.06-.94-.94-2.06-.94 2.06-2.06.94zm-11 1L8.5 8.5l.94-2.06 2.06-.94-2.06-.94L8.5 2.5l-.94 2.06-2.06.94zm10 10l.94 2.06.94-2.06 2.06-.94-2.06-.94-.94-2.06-.94 2.06-2.06.94z\"/><path d=\"M17.41 7.96l-1.37-1.37c-.4-.4-.92-.59-1.43-.59-.52 0-1.04.2-1.43.59L10.3 9.45l-7.72 7.72c-.78.78-.78 2.05 0 2.83L4 21.41c.39.39.9.59 1.41.59.51 0 1.02-.2 1.41-.59l7.78-7.78 2.81-2.81c.8-.78.8-2.07 0-2.86zM5.41 20L4 18.59l7.72-7.72 1.47 1.35L5.41 20z\"/>\n",
              "  </svg>\n",
              "      </button>\n",
              "      \n",
              "  <style>\n",
              "    .colab-df-container {\n",
              "      display:flex;\n",
              "      flex-wrap:wrap;\n",
              "      gap: 12px;\n",
              "    }\n",
              "\n",
              "    .colab-df-convert {\n",
              "      background-color: #E8F0FE;\n",
              "      border: none;\n",
              "      border-radius: 50%;\n",
              "      cursor: pointer;\n",
              "      display: none;\n",
              "      fill: #1967D2;\n",
              "      height: 32px;\n",
              "      padding: 0 0 0 0;\n",
              "      width: 32px;\n",
              "    }\n",
              "\n",
              "    .colab-df-convert:hover {\n",
              "      background-color: #E2EBFA;\n",
              "      box-shadow: 0px 1px 2px rgba(60, 64, 67, 0.3), 0px 1px 3px 1px rgba(60, 64, 67, 0.15);\n",
              "      fill: #174EA6;\n",
              "    }\n",
              "\n",
              "    [theme=dark] .colab-df-convert {\n",
              "      background-color: #3B4455;\n",
              "      fill: #D2E3FC;\n",
              "    }\n",
              "\n",
              "    [theme=dark] .colab-df-convert:hover {\n",
              "      background-color: #434B5C;\n",
              "      box-shadow: 0px 1px 3px 1px rgba(0, 0, 0, 0.15);\n",
              "      filter: drop-shadow(0px 1px 2px rgba(0, 0, 0, 0.3));\n",
              "      fill: #FFFFFF;\n",
              "    }\n",
              "  </style>\n",
              "\n",
              "      <script>\n",
              "        const buttonEl =\n",
              "          document.querySelector('#df-f7d82d12-a7b8-48f0-8298-a46e26275049 button.colab-df-convert');\n",
              "        buttonEl.style.display =\n",
              "          google.colab.kernel.accessAllowed ? 'block' : 'none';\n",
              "\n",
              "        async function convertToInteractive(key) {\n",
              "          const element = document.querySelector('#df-f7d82d12-a7b8-48f0-8298-a46e26275049');\n",
              "          const dataTable =\n",
              "            await google.colab.kernel.invokeFunction('convertToInteractive',\n",
              "                                                     [key], {});\n",
              "          if (!dataTable) return;\n",
              "\n",
              "          const docLinkHtml = 'Like what you see? Visit the ' +\n",
              "            '<a target=\"_blank\" href=https://colab.research.google.com/notebooks/data_table.ipynb>data table notebook</a>'\n",
              "            + ' to learn more about interactive tables.';\n",
              "          element.innerHTML = '';\n",
              "          dataTable['output_type'] = 'display_data';\n",
              "          await google.colab.output.renderOutput(dataTable, element);\n",
              "          const docLink = document.createElement('div');\n",
              "          docLink.innerHTML = docLinkHtml;\n",
              "          element.appendChild(docLink);\n",
              "        }\n",
              "      </script>\n",
              "    </div>\n",
              "  </div>\n",
              "  "
            ]
          },
          "metadata": {},
          "execution_count": 94
        }
      ]
    },
    {
      "cell_type": "markdown",
      "source": [
        "ResNet50 is 4 times bigger than GoogleNet, and 1.6 times slower than GoogleNet when predicting. ResNet50 is the largest and slowest to predict."
      ],
      "metadata": {
        "id": "CmE_Ej69ZDVH"
      }
    },
    {
      "cell_type": "markdown",
      "source": [
        "## Visualizing the speed vs. performance tradeoff\n",
        "\n",
        "Create a scatter plot from the comparison DataFrame to compare `time_per_pred_cpu` and `test_acc` values."
      ],
      "metadata": {
        "id": "a_ZA8psoznwp"
      }
    },
    {
      "cell_type": "code",
      "source": [
        "# Get a list of colors for visualization purpose (based on ColorBrewer)\n",
        "colors = [\"#e41a1c\", \"#377eb8\", \"#4daf4a\", \"#984ea3\", \"#ff7f00\"]"
      ],
      "metadata": {
        "id": "lmVCyCJHZMIH"
      },
      "execution_count": 100,
      "outputs": []
    },
    {
      "cell_type": "code",
      "source": [
        "# Create a plot from model comparison DataFrame\n",
        "fig, ax = plt.subplots(figsize = (12, 8))\n",
        "scatter = ax.scatter(data = models_df,\n",
        "                     x = \"time_per_pred_cpu\",\n",
        "                     y = \"test_acc\",\n",
        "                     c = colors,\n",
        "                     s = \"model_size (MB)\") # size the dots by the model sizes\n",
        "\n",
        "# Add titles, labels and customize fonts\n",
        "ax.set_title(\"Corn Disease Detection Inference Speed vs. Performance\", fontsize = 18)\n",
        "ax.set_xlabel(\"Prediction time per image (seconds)\", fontsize = 14)\n",
        "ax.set_ylabel(\"Test accuracy (%)\", fontsize = 14)\n",
        "ax.tick_params(axis = \"both\", labelsize = 12)\n",
        "ax.grid(True)\n",
        "\n",
        "# Annotate with model names\n",
        "for index, row in models_df.iterrows():\n",
        "  ax.annotate(text = row[\"model\"], \n",
        "              xy = (row[\"time_per_pred_cpu\"] + 0.0006, row[\"test_acc\"] + 0.03),\n",
        "              size = 12)\n",
        "  \n",
        "# Creates a legend based on model sizes\n",
        "handles, labels = scatter.legend_elements(prop = \"sizes\", alpha = 0.5)\n",
        "model_size_legend = ax.legend(handles,\n",
        "                              labels,\n",
        "                              loc = \"lower right\",\n",
        "                              title = \"Model size (MB)\",\n",
        "                              fontsize = 12)\n",
        "\n",
        "# Save the figure\n",
        "plt.savefig(\"models/corn-disease-detection-inference-speed-vs-performance.png\")\n",
        "\n",
        "# Show the figure\n",
        "plt.show()"
      ],
      "metadata": {
        "id": "UnchOEW9z1hC",
        "colab": {
          "base_uri": "https://localhost:8080/",
          "height": 524
        },
        "outputId": "9089c43c-8c02-48ad-9783-c4a3a649d246"
      },
      "execution_count": 110,
      "outputs": [
        {
          "output_type": "display_data",
          "data": {
            "text/plain": [
              "<Figure size 864x576 with 1 Axes>"
            ],
            "image/png": "[encoded data removed]"
          },
          "metadata": {
            "needs_background": "light"
          }
        }
      ]
    },
    {
      "cell_type": "markdown",
      "source": [
        "# Conclusions\n",
        "\n",
        "Of the models evaluated, ViT has the highest accuracy. However, this comes at the cost of a larger size and a longer time to make predictions. If we want to use the model, especially on mobile devices, the size of ViT is a major limitation. \n",
        "\n",
        "Therefore, even though it has the best `test_accuracy` value, I discard ViT.\n",
        "\n",
        "ResNet50 has the same test accuracy value as AlexNet, has a smaller size, but takes longer to infer (1.6 times slower than GoogleNet).\n",
        "\n",
        "GoogleNet has the smallest size, it is fast to make inferences, but its accuracy is 91%, which is the second worst accuracy, only beaten by EffNetB2.\n",
        "\n",
        "Since we are interested in being able to deploy the model, the model size is a factor to be taken into account. Therefore, we chose the GoogleNet and ResNet50 models, since they have a smaller size, in addition to being fast in inference and having an accuracy greater than 91%."
      ],
      "metadata": {
        "id": "Bi20M9eFb0fZ"
      }
    }
  ]
}